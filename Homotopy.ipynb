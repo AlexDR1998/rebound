{
 "cells": [
  {
   "cell_type": "code",
   "execution_count": 84,
   "metadata": {
    "collapsed": false
   },
   "outputs": [],
   "source": [
    "import rebound\n",
    "import numpy as np\n",
    "%matplotlib inline\n",
    "import matplotlib;\n",
    "import matplotlib.pyplot as plt\n",
    "import scipy.optimize as opt"
   ]
  },
  {
   "cell_type": "code",
   "execution_count": 102,
   "metadata": {
    "collapsed": false
   },
   "outputs": [
    {
     "data": {
      "image/png": "[encoded data removed]",
      "text/plain": [
       "<matplotlib.figure.Figure at 0x10e538b50>"
      ]
     },
     "metadata": {},
     "output_type": "display_data"
    }
   ],
   "source": [
    "sample_times = np.sort(np.random.rand(100)*20.)\n",
    "def generatedata(x):\n",
    "    a, e = x\n",
    "    sim = rebound.Simulation()\n",
    "    sim.add(m=1.)\n",
    "    sim.add(primary=sim.particles[0],m=1e-3, a=a, e=e)\n",
    "    sim.add(primary=sim.particles[0],m=1e-3, a=1.3,f=1.4)\n",
    "    sim.move_to_com()\n",
    "    samples = np.zeros((len(sample_times)))\n",
    "    for i,t in enumerate(sample_times):\n",
    "        sim.integrate(t)\n",
    "        samples[i] = sim.particles[0].vx\n",
    "    return samples\n",
    "def generateplotpoints(x,N,interact=1.):\n",
    "    a, e = x\n",
    "    sim = rebound.Simulation()\n",
    "    sim.add(m=1.)\n",
    "    sim.add(primary=sim.particles[0],m=1e-3, a=a, e=e)\n",
    "    sim.add(primary=sim.particles[0],m=1e-3, a=1.3,f=1.4)\n",
    "    if interact==0:\n",
    "        sim.testparticle_type = 1\n",
    "        sim.N_active = 1    \n",
    "    sim.move_to_com()\n",
    "    samples = np.zeros((N))\n",
    "    times = np.linspace(sample_times[0]-0.1,sample_times[-1]+0.1,N)\n",
    "    for i,t in enumerate(times):\n",
    "        sim.integrate(t)\n",
    "        samples[i] = sim.particles[0].vx\n",
    "    return times, samples\n",
    "def generateln(a):\n",
    "    if a>1.5 or a<0.5:\n",
    "        return 1000.\n",
    "    return generatel((a,0.25),0.)\n",
    "\n",
    "def generatel(x,interact=1.):\n",
    "    a, e = x\n",
    "    sim = rebound.Simulation()\n",
    "    sim.ri_ias15.min_dt = 0.01\n",
    "    sim.add(m=1.)\n",
    "    sim.add(primary=sim.particles[0],m=1e-3, a=a, e=e)\n",
    "    sim.add(primary=sim.particles[0],m=1e-3, a=1.3,f=1.4)\n",
    "    sim.Ginteract = interact\n",
    "    \n",
    "    sim.move_to_com()\n",
    "    l = 0.\n",
    "    for i, t in enumerate(sample_times):\n",
    "        sim.integrate(t)\n",
    "        rvobs = samples_true[i]\n",
    "        rv = sim.particles[0].vx\n",
    "        l += (rv-rvobs)*(rv-rvobs)\n",
    "    return l\n",
    "x_true = (1.0,0.2500)\n",
    "samples_true = generatedata(x_true)\n",
    "t,s = generateplotpoints(x_true,400)\n",
    "t,sni = generateplotpoints(x_true,400,0.)\n",
    "fig = plt.figure(figsize=(6,4))\n",
    "ax = plt.subplot(111)\n",
    "ax.set_xlabel(\"time\")\n",
    "ax.set_xlim(0.,np.max(t))\n",
    "ax.set_ylabel(\"radial velocity of star\")\n",
    "im = ax.plot(t, 1000.*sni, \"r-\",color=\"green\")\n",
    "im = ax.plot(sample_times, 1000.*samples_true, \"ro\")\n",
    "\n",
    "\n",
    "im = ax.plot(t, 1000.*s, \"r-\",color=\"black\")"
   ]
  },
  {
   "cell_type": "code",
   "execution_count": 103,
   "metadata": {
    "collapsed": true
   },
   "outputs": [],
   "source": [
    "def findBestFitNonInteracting():\n",
    "    sol = opt.fmin_powell(generateln, 1.03, disp=False)\n",
    "    return sol\n",
    "\n"
   ]
  },
  {
   "cell_type": "code",
   "execution_count": 104,
   "metadata": {
    "collapsed": false
   },
   "outputs": [
    {
     "data": {
      "text/plain": [
       "3.2726450363822691e-06"
      ]
     },
     "execution_count": 104,
     "metadata": {},
     "output_type": "execute_result"
    }
   ],
   "source": [
    "generateln(1.03)"
   ]
  },
  {
   "cell_type": "code",
   "execution_count": 134,
   "metadata": {
    "collapsed": false
   },
   "outputs": [
    {
     "name": "stdout",
     "output_type": "stream",
     "text": [
      "1.03094266879\n"
     ]
    }
   ],
   "source": [
    "start_x =  float(findBestFitNonInteracting())\n",
    "print start_x"
   ]
  },
  {
   "cell_type": "code",
   "execution_count": 77,
   "metadata": {
    "collapsed": false
   },
   "outputs": [],
   "source": [
    "def H(a,lam):\n",
    "    x = (a,0.2500)\n",
    "    l, dl_da, dl_dG, dl_dda, dl_dadG = generateldl(x,lam)\n",
    "    return np.array([[dl_dda, dl_dadG],[0.,0.]])"
   ]
  },
  {
   "cell_type": "code",
   "execution_count": 78,
   "metadata": {
    "collapsed": false
   },
   "outputs": [
    {
     "data": {
      "text/plain": [
       "array([[ 0.04367371,  0.00112282],\n",
       "       [ 0.        ,  0.        ]])"
      ]
     },
     "execution_count": 78,
     "metadata": {},
     "output_type": "execute_result"
    }
   ],
   "source": [
    "H(1.03,0.)"
   ]
  },
  {
   "cell_type": "code",
   "execution_count": 4,
   "metadata": {
    "collapsed": true
   },
   "outputs": [],
   "source": [
    "def null(A, eps=1e-15):\n",
    "    u, s, vh = np.linalg.svd(A)\n",
    "    null_mask = (s <= eps)\n",
    "    null_space = np.compress(null_mask, vh, axis=0)\n",
    "    return np.transpose(null_space)"
   ]
  },
  {
   "cell_type": "code",
   "execution_count": 26,
   "metadata": {
    "collapsed": false
   },
   "outputs": [],
   "source": [
    "A = np.array([[2.8,8.3],[0,0,]])  "
   ]
  },
  {
   "cell_type": "code",
   "execution_count": 80,
   "metadata": {
    "collapsed": false
   },
   "outputs": [
    {
     "name": "stdout",
     "output_type": "stream",
     "text": [
      "[-0.0257009   0.99966968]\n"
     ]
    }
   ],
   "source": [
    "nv = null(H(1.03,0.))[:,0]\n",
    "print nv"
   ]
  },
  {
   "cell_type": "code",
   "execution_count": 68,
   "metadata": {
    "collapsed": true
   },
   "outputs": [],
   "source": [
    "def generateldl(x,interact=1.):\n",
    "    a, e = x\n",
    "    sim = rebound.Simulation()\n",
    "    sim.ri_ias15.min_dt = 0.01\n",
    "    sim.add(m=1.)\n",
    "    sim.add(primary=sim.particles[0],m=1e-3, a=a, e=e)\n",
    "    sim.add(primary=sim.particles[0],m=1e-3, a=1.3,f=1.4)\n",
    "    sim.Ginteract = interact\n",
    "    var_da = sim.add_variation()\n",
    "    var_da.init_particle(1,\"a\")\n",
    "    var_dG = sim.add_variation()\n",
    "    sim.var_config[1].dG = 1.\n",
    "    var_dda = sim.add_variation(order=2,first_order=var_da)\n",
    "    var_dadG = sim.add_variation(order=2,first_order=var_da,first_order_2=var_dG)\n",
    "    \n",
    "    \n",
    "    sim.move_to_com()\n",
    "    l = 0.\n",
    "    dl_da = 0.\n",
    "    dl_dG = 0.\n",
    "    dl_dda = 0.\n",
    "    dl_dadG = 0.\n",
    "    for i, t in enumerate(sample_times):\n",
    "        sim.integrate(t)\n",
    "        rvobs = samples_true[i]\n",
    "        rv = sim.particles[0].vx\n",
    "        drv_da = var_da.particles[0].vx\n",
    "        drv_dG = var_dG.particles[0].vx\n",
    "        drv_dda = var_dda.particles[0].vx\n",
    "        drv_dadG = var_dadG.particles[0].vx\n",
    "        l += (rv-rvobs)*(rv-rvobs)\n",
    "        dl_da += 2.*drv_da*(rv-rvobs)\n",
    "        dl_dG += 2.*drv_dG*(rv-rvobs)\n",
    "        dl_dda += 2.*drv_dda*(rv-rvobs) + 2.*drv_da*drv_da\n",
    "        dl_dadG += 2.*drv_dadG*(rv-rvobs) + 2.*drv_da*drv_dG\n",
    "    return l, dl_da, dl_dG, dl_dda, dl_dadG\n",
    "\n"
   ]
  },
  {
   "cell_type": "code",
   "execution_count": null,
   "metadata": {
    "collapsed": false
   },
   "outputs": [],
   "source": [
    "N=32\n",
    "grid = np.zeros((N,N))\n",
    "grid2 = np.zeros((N,N))\n",
    "gridlam = np.linspace(0,1,N)\n",
    "grida = np.linspace(0.9,1.1,N)\n",
    "for i, lam in enumerate(gridlam):\n",
    "    for j, a in enumerate(grida):\n",
    "        l, dl_da, dl_dG, dl_dda, dl_dadG = generateldl((a, 0.25),lam)\n",
    "        grid[j][i] = dl_da\n",
    "        grid2[j][i] = dl_dG"
   ]
  },
  {
   "cell_type": "code",
   "execution_count": null,
   "metadata": {
    "collapsed": false
   },
   "outputs": [],
   "source": [
    "fig = plt.figure(figsize=(12,4))\n",
    "ax = plt.subplot(121)\n",
    "extent = [min(gridlam),max(gridlam),min(grida),max(grida)]\n",
    "ax.set_xlim(extent[0],extent[1])\n",
    "ax.set_ylabel(\"semi-major axis $a$\")\n",
    "ax.set_ylim(extent[2],extent[3])\n",
    "ax.set_xlabel(\"$\\lambda$\")\n",
    "im = ax.imshow(grid, vmin=-0.002, vmax=0.002, origin=\"lower\",aspect='auto', extent=extent) #interpolation=\"none\",\n",
    "cb = plt.colorbar(im, ax=ax)\n",
    "ax.plot(track[:,1],track[:,0],color=\"black\")\n",
    "\n",
    "ax = plt.subplot(122)\n",
    "ax.plot(track[:,1],track[:,0],color=\"black\")\n",
    "ax.set_xlim(extent[0],extent[1])\n",
    "ax.set_ylabel(\"semi-major axis $a$\")\n",
    "ax.set_ylim(extent[2],extent[3])\n",
    "ax.set_xlabel(\"$\\lambda$\")\n",
    "im = ax.imshow(grid2, vmin=-0.00002, vmax=0.00002, origin=\"lower\",aspect='auto', extent=extent) #interpolation=\"none\",\n",
    "cb = plt.colorbar(im, ax=ax)\n",
    "cb.set_label('$\\partial H/\\partial \\lambda$')\n"
   ]
  },
  {
   "cell_type": "code",
   "execution_count": 135,
   "metadata": {
    "collapsed": false
   },
   "outputs": [],
   "source": [
    "iterations = 100\n",
    "x = start_x\n",
    "lam = 0.\n",
    "ds = 1./iterations\n",
    "track = np.zeros((iterations,2))\n",
    "for i in range(iterations):\n",
    "    _H = H(x,lam)\n",
    "    nv = null(_H)[:,0]\n",
    "    \n",
    "    x += nv[0]*ds\n",
    "    lam += nv[1]*ds\n",
    "    track[i][0] = x\n",
    "    track[i][1] = lam\n"
   ]
  },
  {
   "cell_type": "code",
   "execution_count": 132,
   "metadata": {
    "collapsed": false
   },
   "outputs": [
    {
     "data": {
      "text/plain": [
       "array(0.9265031063510023)"
      ]
     },
     "execution_count": 132,
     "metadata": {},
     "output_type": "execute_result"
    }
   ],
   "source": [
    "start_x"
   ]
  },
  {
   "cell_type": "code",
   "execution_count": null,
   "metadata": {
    "collapsed": true
   },
   "outputs": [],
   "source": []
  },
  {
   "cell_type": "code",
   "execution_count": null,
   "metadata": {
    "collapsed": true
   },
   "outputs": [],
   "source": []
  },
  {
   "cell_type": "code",
   "execution_count": null,
   "metadata": {
    "collapsed": true
   },
   "outputs": [],
   "source": []
  },
  {
   "cell_type": "code",
   "execution_count": null,
   "metadata": {
    "collapsed": true
   },
   "outputs": [],
   "source": []
  },
  {
   "cell_type": "code",
   "execution_count": null,
   "metadata": {
    "collapsed": true
   },
   "outputs": [],
   "source": []
  },
  {
   "cell_type": "code",
   "execution_count": null,
   "metadata": {
    "collapsed": true
   },
   "outputs": [],
   "source": []
  },
  {
   "cell_type": "code",
   "execution_count": null,
   "metadata": {
    "collapsed": true
   },
   "outputs": [],
   "source": []
  },
  {
   "cell_type": "code",
   "execution_count": null,
   "metadata": {
    "collapsed": true
   },
   "outputs": [],
   "source": []
  },
  {
   "cell_type": "code",
   "execution_count": null,
   "metadata": {
    "collapsed": true
   },
   "outputs": [],
   "source": []
  },
  {
   "cell_type": "code",
   "execution_count": null,
   "metadata": {
    "collapsed": true
   },
   "outputs": [],
   "source": []
  }
 ],
 "metadata": {
  "kernelspec": {
   "display_name": "Python 2",
   "language": "python",
   "name": "python2"
  },
  "language_info": {
   "codemirror_mode": {
    "name": "ipython",
    "version": 2
   },
   "file_extension": ".py",
   "mimetype": "text/x-python",
   "name": "python",
   "nbconvert_exporter": "python",
   "pygments_lexer": "ipython2",
   "version": "2.7.10"
  }
 },
 "nbformat": 4,
 "nbformat_minor": 0
}
