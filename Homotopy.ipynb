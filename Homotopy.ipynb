{
 "cells": [
  {
   "cell_type": "code",
   "execution_count": 1,
   "metadata": {
    "collapsed": false
   },
   "outputs": [
    {
     "name": "stderr",
     "output_type": "stream",
     "text": [
      "/Users/rein/git/rebound/venv/lib/python2.7/site-packages/matplotlib/font_manager.py:273: UserWarning: Matplotlib is building the font cache using fc-list. This may take a moment.\n",
      "  warnings.warn('Matplotlib is building the font cache using fc-list. This may take a moment.')\n"
     ]
    }
   ],
   "source": [
    "import rebound\n",
    "import numpy as np\n",
    "%matplotlib inline\n",
    "import matplotlib;\n",
    "import matplotlib.pyplot as plt"
   ]
  },
  {
   "cell_type": "code",
   "execution_count": 10,
   "metadata": {
    "collapsed": false
   },
   "outputs": [
    {
     "data": {
      "image/png": "[encoded data removed]",
      "text/plain": [
       "<matplotlib.figure.Figure at 0x10d638550>"
      ]
     },
     "metadata": {},
     "output_type": "display_data"
    }
   ],
   "source": [
    "sample_times = np.sort(np.random.rand(100)*20.)\n",
    "def generatedata(x):\n",
    "    a, e = x\n",
    "    sim = rebound.Simulation()\n",
    "    sim.add(m=1.)\n",
    "    sim.add(primary=sim.particles[0],m=1e-3, a=a, e=e)\n",
    "    sim.add(primary=sim.particles[0],m=1e-3, a=1.3,f=1.4)\n",
    "    sim.move_to_com()\n",
    "    samples = np.zeros((len(sample_times)))\n",
    "    for i,t in enumerate(sample_times):\n",
    "        sim.integrate(t)\n",
    "        samples[i] = sim.particles[0].vx\n",
    "    return samples\n",
    "def generateplotpoints(x,N,interact=1.):\n",
    "    a, e = x\n",
    "    sim = rebound.Simulation()\n",
    "    sim.add(m=1.)\n",
    "    sim.add(primary=sim.particles[0],m=1e-3, a=a, e=e)\n",
    "    sim.add(primary=sim.particles[0],m=1e-3, a=1.3,f=1.4)\n",
    "    if interact==0:\n",
    "        sim.testparticle_type = 1\n",
    "        sim.N_active = 1    \n",
    "    sim.move_to_com()\n",
    "    samples = np.zeros((N))\n",
    "    times = np.linspace(sample_times[0]-0.1,sample_times[-1]+0.1,N)\n",
    "    for i,t in enumerate(times):\n",
    "        sim.integrate(t)\n",
    "        samples[i] = sim.particles[0].vx\n",
    "    return times, samples\n",
    "def generatel(x,interact=1.):\n",
    "    a, e = x\n",
    "    sim = rebound.Simulation()\n",
    "    sim.ri_ias15.min_dt = 0.01\n",
    "    sim.add(m=1.)\n",
    "    sim.add(primary=sim.particles[0],m=1e-3, a=a, e=e)\n",
    "    sim.add(primary=sim.particles[0],m=1e-3, a=1.3,f=1.4)\n",
    "    sim.Ginteract = interact\n",
    "    \n",
    "    sim.move_to_com()\n",
    "    l = 0.\n",
    "    for i, t in enumerate(sample_times):\n",
    "        sim.integrate(t)\n",
    "        rvobs = samples_true[i]\n",
    "        rv = sim.particles[0].vx\n",
    "        l += (rv-rvobs)*(rv-rvobs)\n",
    "    return l\n",
    "x_true = (1.0,0.2500)\n",
    "samples_true = generatedata(x_true)\n",
    "t,s = generateplotpoints(x_true,400)\n",
    "t,sni = generateplotpoints(x_true,400,0.)\n",
    "fig = plt.figure(figsize=(6,4))\n",
    "ax = plt.subplot(111)\n",
    "ax.set_xlabel(\"time\")\n",
    "ax.set_xlim(0.,np.max(t))\n",
    "ax.set_ylabel(\"radial velocity of star\")\n",
    "im = ax.plot(t, 1000.*sni, \"r-\",color=\"green\")\n",
    "im = ax.plot(sample_times, 1000.*samples_true, \"ro\")\n",
    "\n",
    "\n",
    "im = ax.plot(t, 1000.*s, \"r-\",color=\"black\")"
   ]
  },
  {
   "cell_type": "code",
   "execution_count": 9,
   "metadata": {
    "collapsed": true
   },
   "outputs": [],
   "source": [
    "def H(a,lam):\n",
    "    x = (a,0.2500)\n",
    "    return generatel(x,lam)\n",
    "\n",
    "\n",
    "    "
   ]
  },
  {
   "cell_type": "code",
   "execution_count": 4,
   "metadata": {
    "collapsed": true
   },
   "outputs": [],
   "source": [
    "def null(A, eps=1e-15):\n",
    "    u, s, vh = np.linalg.svd(A)\n",
    "    null_mask = (s <= eps)\n",
    "    null_space = np.compress(null_mask, vh, axis=0)\n",
    "    return np.transpose(null_space)"
   ]
  },
  {
   "cell_type": "code",
   "execution_count": 26,
   "metadata": {
    "collapsed": false
   },
   "outputs": [],
   "source": [
    "A = np.array([[2.8,8.3],[0,0,]])  "
   ]
  },
  {
   "cell_type": "code",
   "execution_count": 28,
   "metadata": {
    "collapsed": false
   },
   "outputs": [
    {
     "name": "stdout",
     "output_type": "stream",
     "text": [
      "[-0.94753551  0.31965053]\n",
      "[-0.94753551  0.31965053]\n"
     ]
    }
   ],
   "source": [
    "nv = null(A)[:,0]\n",
    "print nv\n",
    "nv = nv / np.linalg.norm(nv)\n",
    "print nv"
   ]
  },
  {
   "cell_type": "code",
   "execution_count": 33,
   "metadata": {
    "collapsed": true
   },
   "outputs": [],
   "source": [
    "def generateldl(x,interact=1.):\n",
    "    a, e = x\n",
    "    sim = rebound.Simulation()\n",
    "    sim.ri_ias15.min_dt = 0.01\n",
    "    sim.add(m=1.)\n",
    "    sim.add(primary=sim.particles[0],m=1e-3, a=a, e=e)\n",
    "    sim.add(primary=sim.particles[0],m=1e-3, a=1.3,f=1.4)\n",
    "    sim.Ginteract = interact\n",
    "    var_da = sim.add_variation()\n",
    "    var_da.init_particle(1,\"a\")\n",
    "    \n",
    "    sim.move_to_com()\n",
    "    l = 0.\n",
    "    dl = 0.\n",
    "    for i, t in enumerate(sample_times):\n",
    "        sim.integrate(t)\n",
    "        rvobs = samples_true[i]\n",
    "        rv = sim.particles[0].vx\n",
    "        drv = var_da.particles[0].vx\n",
    "        l += (rv-rvobs)*(rv-rvobs)\n",
    "        dl += 2.*drv*(rv-rvobs)\n",
    "    return l, dl\n",
    "\n"
   ]
  },
  {
   "cell_type": "code",
   "execution_count": null,
   "metadata": {
    "collapsed": false
   },
   "outputs": [],
   "source": [
    "N=32\n",
    "grid = np.zeros((N,N))\n",
    "gridlam = np.linspace(0,1,N)\n",
    "grida = np.linspace(0.9,1.1,N)\n",
    "for i, lam in enumerate(gridlam):\n",
    "    for j, a in enumerate(grida):\n",
    "        l, ldl = generateldl((a, 0.25),lam)\n",
    "        grid[j][i] = ldl"
   ]
  },
  {
   "cell_type": "code",
   "execution_count": null,
   "metadata": {
    "collapsed": false
   },
   "outputs": [],
   "source": [
    "fig = plt.figure(figsize=(6,4))\n",
    "ax = plt.subplot(111)\n",
    "extent = [min(gridlam),max(gridlam),min(grida),max(grida)]\n",
    "ax.set_xlim(extent[0],extent[1])\n",
    "ax.set_ylabel(\"semi-major axis $a$\")\n",
    "ax.set_ylim(extent[2],extent[3])\n",
    "ax.set_xlabel(\"$\\lambda$\")\n",
    "im = ax.imshow(grid, vmin=-0.002, vmax=0.002, origin=\"lower\",aspect='auto', extent=extent) #interpolation=\"none\",\n",
    "cb = plt.colorbar(im, ax=ax)\n",
    "cb.set_label('$H$')"
   ]
  },
  {
   "cell_type": "code",
   "execution_count": null,
   "metadata": {
    "collapsed": true
   },
   "outputs": [],
   "source": []
  },
  {
   "cell_type": "code",
   "execution_count": null,
   "metadata": {
    "collapsed": true
   },
   "outputs": [],
   "source": []
  },
  {
   "cell_type": "code",
   "execution_count": null,
   "metadata": {
    "collapsed": true
   },
   "outputs": [],
   "source": []
  },
  {
   "cell_type": "code",
   "execution_count": null,
   "metadata": {
    "collapsed": true
   },
   "outputs": [],
   "source": []
  },
  {
   "cell_type": "code",
   "execution_count": null,
   "metadata": {
    "collapsed": true
   },
   "outputs": [],
   "source": []
  },
  {
   "cell_type": "code",
   "execution_count": null,
   "metadata": {
    "collapsed": true
   },
   "outputs": [],
   "source": []
  },
  {
   "cell_type": "code",
   "execution_count": null,
   "metadata": {
    "collapsed": true
   },
   "outputs": [],
   "source": []
  },
  {
   "cell_type": "code",
   "execution_count": null,
   "metadata": {
    "collapsed": true
   },
   "outputs": [],
   "source": []
  },
  {
   "cell_type": "code",
   "execution_count": null,
   "metadata": {
    "collapsed": true
   },
   "outputs": [],
   "source": []
  },
  {
   "cell_type": "code",
   "execution_count": null,
   "metadata": {
    "collapsed": true
   },
   "outputs": [],
   "source": []
  },
  {
   "cell_type": "code",
   "execution_count": null,
   "metadata": {
    "collapsed": true
   },
   "outputs": [],
   "source": []
  },
  {
   "cell_type": "code",
   "execution_count": null,
   "metadata": {
    "collapsed": true
   },
   "outputs": [],
   "source": []
  }
 ],
 "metadata": {
  "kernelspec": {
   "display_name": "Python 2",
   "language": "python",
   "name": "python2"
  },
  "language_info": {
   "codemirror_mode": {
    "name": "ipython",
    "version": 2
   },
   "file_extension": ".py",
   "mimetype": "text/x-python",
   "name": "python",
   "nbconvert_exporter": "python",
   "pygments_lexer": "ipython2",
   "version": "2.7.10"
  }
 },
 "nbformat": 4,
 "nbformat_minor": 0
}
