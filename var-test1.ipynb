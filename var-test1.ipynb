{
 "cells": [
  {
   "cell_type": "code",
   "execution_count": 1,
   "metadata": {
    "collapsed": false
   },
   "outputs": [],
   "source": [
    "import rebound\n",
    "import numpy as np"
   ]
  },
  {
   "cell_type": "code",
   "execution_count": 23,
   "metadata": {
    "collapsed": false
   },
   "outputs": [],
   "source": [
    "sim = rebound.Simulation()\n",
    "sim.add(m=1.)\n",
    "sim.add(a=1.)\n",
    "v_index = sim.add_var_1st_order()\n",
    "sim.particles[v_index+1].x = 10.\n",
    "v_index2 = sim.add_var_1st_order()\n",
    "sim.particles[v_index2+1].x = 100."
   ]
  },
  {
   "cell_type": "code",
   "execution_count": 24,
   "metadata": {
    "collapsed": false
   },
   "outputs": [
    {
     "name": "stdout",
     "output_type": "stream",
     "text": [
      "---------------------------------\n",
      "REBOUND version:     \t2.11.0\n",
      "REBOUND built on:    \tNov 27 2015 20:07:34\n",
      "Number of particles: \t6\n",
      "Selected integrator: \tias15\n",
      "Simulation time:     \t3.141593\n",
      "Current timestep:    \t0.105639\n",
      "---------------------------------\n",
      "<rebound.Particle object, id=0 m=1.0 x=0.0 y=0.0 z=0.0 vx=0.0 vy=0.0 vz=0.0>\n",
      "<rebound.Particle object, id=0 m=0.0 x=-1.0 y=-2.56739074445e-16 z=0.0 vx=2.08166817117e-16 vy=-1.0 vz=0.0>\n",
      "<rebound.Particle object, id=0 m=0.0 x=0.0 y=0.0 z=0.0 vx=0.0 vy=0.0 vz=0.0>\n",
      "<rebound.Particle object, id=0 m=0.0 x=-30.0 y=94.2477796077 z=0.0 vx=-94.2477796077 vy=20.0 vz=0.0>\n",
      "<rebound.Particle object, id=0 m=0.0 x=0.0 y=0.0 z=0.0 vx=0.0 vy=0.0 vz=0.0>\n",
      "<rebound.Particle object, id=0 m=0.0 x=-300.0 y=942.477796077 z=0.0 vx=-942.477796077 vy=200.0 vz=0.0>\n",
      "---------------------------------\n"
     ]
    }
   ],
   "source": [
    "sim.integrate(1.*np.pi)\n",
    "sim.status()"
   ]
  },
  {
   "cell_type": "code",
   "execution_count": 25,
   "metadata": {
    "collapsed": false
   },
   "outputs": [
    {
     "name": "stdout",
     "output_type": "stream",
     "text": [
      "<rebound.Particle object, id=0 m=0.0 x=-30.0 y=94.2477796077 z=0.0 vx=-94.2477796077 vy=20.0 vz=0.0>\n",
      "<rebound.Particle object, id=0 m=0.0 x=-300.0 y=942.477796077 z=0.0 vx=-942.477796077 vy=200.0 vz=0.0>\n"
     ]
    }
   ],
   "source": [
    "print sim.particles[v_index+1]\n",
    "print sim.particles[v_index2+1]"
   ]
  },
  {
   "cell_type": "code",
   "execution_count": 10,
   "metadata": {
    "collapsed": false
   },
   "outputs": [
    {
     "data": {
      "text/plain": [
       "10.000000000000362"
      ]
     },
     "execution_count": 10,
     "metadata": {},
     "output_type": "execute_result"
    }
   ],
   "source": [
    "sim.particles[v_index+1].x"
   ]
  },
  {
   "cell_type": "code",
   "execution_count": null,
   "metadata": {
    "collapsed": true
   },
   "outputs": [],
   "source": []
  }
 ],
 "metadata": {
  "kernelspec": {
   "display_name": "Python 2",
   "language": "python",
   "name": "python2"
  },
  "language_info": {
   "codemirror_mode": {
    "name": "ipython",
    "version": 2
   },
   "file_extension": ".py",
   "mimetype": "text/x-python",
   "name": "python",
   "nbconvert_exporter": "python",
   "pygments_lexer": "ipython2",
   "version": "2.7.10"
  }
 },
 "nbformat": 4,
 "nbformat_minor": 0
}
