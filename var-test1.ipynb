{
 "cells": [
  {
   "cell_type": "code",
   "execution_count": 1,
   "metadata": {
    "collapsed": false
   },
   "outputs": [],
   "source": [
    "import rebound\n",
    "import numpy as np"
   ]
  },
  {
   "cell_type": "code",
   "execution_count": 16,
   "metadata": {
    "collapsed": false
   },
   "outputs": [],
   "source": [
    "sim = rebound.Simulation()\n",
    "sim.add(m=1.)\n",
    "sim.add(a=1.)\n",
    "v_index = sim.add_var_1st_order()\n",
    "sim.particles[v_index+1].x = 10.\n",
    "v_index2 = sim.add_var_1st_order()\n",
    "sim.particles[v_index2+1].x = 100."
   ]
  },
  {
   "cell_type": "code",
   "execution_count": 17,
   "metadata": {
    "collapsed": false
   },
   "outputs": [
    {
     "name": "stdout",
     "output_type": "stream",
     "text": [
      "---------------------------------\n",
      "REBOUND version:     \t2.11.0\n",
      "REBOUND built on:    \tNov 27 2015 20:07:34\n",
      "Number of particles: \t6\n",
      "Selected integrator: \tias15\n",
      "Simulation time:     \t6.283185\n",
      "Current timestep:    \t0.124415\n",
      "---------------------------------\n",
      "<rebound.Particle object, id=0 m=1.0 x=0.0 y=0.0 z=0.0 vx=0.0 vy=0.0 vz=0.0>\n",
      "<rebound.Particle object, id=0 m=0.0 x=1.0 y=3.7331249203e-15 z=0.0 vx=-3.71924713249e-15 vy=1.0 vz=0.0>\n",
      "<rebound.Particle object, id=0 m=0.0 x=0.0 y=0.0 z=0.0 vx=0.0 vy=0.0 vz=0.0>\n",
      "<rebound.Particle object, id=0 m=0.0 x=10.0 y=-188.495559215 z=0.0 vx=188.495559215 vy=7.08766378921e-13 vz=0.0>\n",
      "<rebound.Particle object, id=0 m=0.0 x=0.0 y=0.0 z=0.0 vx=0.0 vy=0.0 vz=0.0>\n",
      "<rebound.Particle object, id=0 m=0.0 x=100.0 y=-1884.95559215 z=0.0 vx=1884.95559215 vy=7.13384906703e-12 vz=0.0>\n",
      "---------------------------------\n"
     ]
    }
   ],
   "source": [
    "sim.integrate(2.*np.pi)\n",
    "sim.status()"
   ]
  },
  {
   "cell_type": "code",
   "execution_count": 22,
   "metadata": {
    "collapsed": false
   },
   "outputs": [
    {
     "name": "stdout",
     "output_type": "stream",
     "text": [
      "<rebound.Particle object, id=0 m=0.0 x=10.0 y=-188.495559215 z=0.0 vx=188.495559215 vy=7.08766378921e-13 vz=0.0>\n",
      "<rebound.Particle object, id=0 m=0.0 x=100.0 y=-1884.95559215 z=0.0 vx=1884.95559215 vy=7.13384906703e-12 vz=0.0>\n"
     ]
    }
   ],
   "source": [
    "print sim.particles[v_index+1]\n",
    "print sim.particles[v_index2+1]"
   ]
  },
  {
   "cell_type": "code",
   "execution_count": 10,
   "metadata": {
    "collapsed": false
   },
   "outputs": [
    {
     "data": {
      "text/plain": [
       "10.000000000000362"
      ]
     },
     "execution_count": 10,
     "metadata": {},
     "output_type": "execute_result"
    }
   ],
   "source": [
    "sim.particles[v_index+1].x"
   ]
  },
  {
   "cell_type": "code",
   "execution_count": null,
   "metadata": {
    "collapsed": true
   },
   "outputs": [],
   "source": []
  }
 ],
 "metadata": {
  "kernelspec": {
   "display_name": "Python 2",
   "language": "python",
   "name": "python2"
  },
  "language_info": {
   "codemirror_mode": {
    "name": "ipython",
    "version": 2
   },
   "file_extension": ".py",
   "mimetype": "text/x-python",
   "name": "python",
   "nbconvert_exporter": "python",
   "pygments_lexer": "ipython2",
   "version": "2.7.10"
  }
 },
 "nbformat": 4,
 "nbformat_minor": 0
}
