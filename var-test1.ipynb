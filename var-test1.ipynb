{
 "cells": [
  {
   "cell_type": "code",
   "execution_count": 1,
   "metadata": {
    "collapsed": false
   },
   "outputs": [],
   "source": [
    "import rebound\n",
    "import numpy as np"
   ]
  },
  {
   "cell_type": "code",
   "execution_count": 2,
   "metadata": {
    "collapsed": false
   },
   "outputs": [],
   "source": [
    "sim = rebound.Simulation()\n",
    "sim.add(m=1.)\n",
    "sim.add(a=1.)\n",
    "v_index = sim.add_var_1st_order(testparticle=1)\n",
    "sim.particles[v_index].x = 10.\n",
    "v_index2 = sim.add_var_1st_order(testparticle=1)\n",
    "sim.particles[v_index2].x = 100."
   ]
  },
  {
   "cell_type": "code",
   "execution_count": 3,
   "metadata": {
    "collapsed": false
   },
   "outputs": [
    {
     "name": "stdout",
     "output_type": "stream",
     "text": [
      "---------------------------------\n",
      "REBOUND version:     \t2.11.0\n",
      "REBOUND built on:    \tDec 17 2015 11:26:33\n",
      "Number of particles: \t4\n",
      "Selected integrator: \tias15\n",
      "Simulation time:     \t3.141593\n",
      "Current timestep:    \t0.085167\n",
      "---------------------------------\n",
      "<rebound.Particle object, id=0 m=1.0 x=0.0 y=0.0 z=0.0 vx=0.0 vy=0.0 vz=0.0>\n",
      "<rebound.Particle object, id=0 m=0.0 x=-1.0 y=1.0685896612e-15 z=0.0 vx=-1.10328413072e-15 vy=-1.0 vz=0.0>\n",
      "<rebound.Particle object, id=0 m=0.0 x=-30.0 y=94.2477796077 z=0.0 vx=-94.2477796077 vy=20.0 vz=0.0>\n",
      "<rebound.Particle object, id=0 m=0.0 x=-260.116114495 y=877.215712823 z=0.0 vx=-858.195214141 vy=203.725344795 vz=0.0>\n",
      "---------------------------------\n"
     ]
    }
   ],
   "source": [
    "sim.integrate(1.*np.pi)\n",
    "sim.status()"
   ]
  },
  {
   "cell_type": "code",
   "execution_count": 4,
   "metadata": {
    "collapsed": false
   },
   "outputs": [
    {
     "name": "stdout",
     "output_type": "stream",
     "text": [
      "<rebound.Particle object, id=0 m=0.0 x=-260.116114495 y=877.215712823 z=0.0 vx=-858.195214141 vy=203.725344795 vz=0.0>\n"
     ]
    },
    {
     "ename": "IndexError",
     "evalue": "list index out of range",
     "output_type": "error",
     "traceback": [
      "\u001b[0;31m---------------------------------------------------------------------------\u001b[0m",
      "\u001b[0;31mIndexError\u001b[0m                                Traceback (most recent call last)",
      "\u001b[0;32m<ipython-input-4-59771ef5a849>\u001b[0m in \u001b[0;36m<module>\u001b[0;34m()\u001b[0m\n\u001b[1;32m      1\u001b[0m \u001b[0;32mprint\u001b[0m \u001b[0msim\u001b[0m\u001b[0;34m.\u001b[0m\u001b[0mparticles\u001b[0m\u001b[0;34m[\u001b[0m\u001b[0mv_index\u001b[0m\u001b[0;34m+\u001b[0m\u001b[0;36m1\u001b[0m\u001b[0;34m]\u001b[0m\u001b[0;34m\u001b[0m\u001b[0m\n\u001b[0;32m----> 2\u001b[0;31m \u001b[0;32mprint\u001b[0m \u001b[0msim\u001b[0m\u001b[0;34m.\u001b[0m\u001b[0mparticles\u001b[0m\u001b[0;34m[\u001b[0m\u001b[0mv_index2\u001b[0m\u001b[0;34m+\u001b[0m\u001b[0;36m1\u001b[0m\u001b[0;34m]\u001b[0m\u001b[0;34m\u001b[0m\u001b[0m\n\u001b[0m",
      "\u001b[0;31mIndexError\u001b[0m: list index out of range"
     ]
    }
   ],
   "source": [
    "print sim.particles[v_index+1]\n",
    "print sim.particles[v_index2+1]"
   ]
  },
  {
   "cell_type": "code",
   "execution_count": 5,
   "metadata": {
    "collapsed": false
   },
   "outputs": [
    {
     "name": "stdout",
     "output_type": "stream",
     "text": [
      "<rebound.Particle object, id=0 m=0.0 x=-30.0 y=94.2477796077 z=0.0 vx=-94.2477796077 vy=20.0 vz=0.0>\n",
      "<rebound.Particle object, id=0 m=0.0 x=-260.116114495 y=877.215712823 z=0.0 vx=-858.195214141 vy=203.725344795 vz=0.0>\n"
     ]
    }
   ],
   "source": [
    "print sim.particles[v_index]\n",
    "print sim.particles[v_index2]"
   ]
  },
  {
   "cell_type": "code",
   "execution_count": null,
   "metadata": {
    "collapsed": true
   },
   "outputs": [],
   "source": []
  }
 ],
 "metadata": {
  "kernelspec": {
   "display_name": "Python 2",
   "language": "python",
   "name": "python2"
  },
  "language_info": {
   "codemirror_mode": {
    "name": "ipython",
    "version": 2
   },
   "file_extension": ".py",
   "mimetype": "text/x-python",
   "name": "python",
   "nbconvert_exporter": "python",
   "pygments_lexer": "ipython2",
   "version": "2.7.10"
  }
 },
 "nbformat": 4,
 "nbformat_minor": 0
}
