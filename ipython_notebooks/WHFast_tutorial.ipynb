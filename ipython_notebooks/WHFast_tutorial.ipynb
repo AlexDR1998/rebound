{
 "cells": [
  {
   "cell_type": "markdown",
   "metadata": {},
   "source": [
    "# WHFast tutorial\n",
    "\n",
    "This tutorial is an introduction to the python interface of WHFast, a fast and unbiased symplectic Wisdom-Holman integrator. The method is described in Rein & Tamayo (2015)."
   ]
  },
  {
   "cell_type": "markdown",
   "metadata": {},
   "source": [
    "## Installing REBOUND\n",
    "You first need to make sure you have an up-to-date version of REBOUND installed. REBOUND is a software package that includes the WHFast integrator among other. Installing REBOUND is very easy.\n",
    "\n",
    "Optionally, you can create a virtual environment to keep your python installation clean. This is recommended, but you need to have virtualenv installed (also, if you use the Anaconda python distribution, you'll need to instead create a conda environment--see the README file).\n",
    "\n",
    "Simply open a terminal window, go to the folder where you want REBOUND to be installed and enter:\n",
    "\n",
    "    virtualenv venv\n",
    "\n",
    "This creates a virtual environment named `venv`. To activate it, type:\n",
    "\n",
    "    source venv/bin/activate\n",
    "\n",
    "If you log out of your terminal or open a new one, you'll need to reactive the virtual environment with the above command. Now you can install REBOUND using pip:\n",
    "\n",
    "    pip install rebound\n",
    "\n",
    "The setup script will download the latest version of REBOUND from PyPI, compile the C code in the background and place all the files in their correct location in the virtual environment. No other libraries are needed to start working with WHFast and REBOUND, but you might want to install numpy and matplotlib to be able to post-process your data and make plots. Installing those libraries is also very easy (but may need a few minutes to compile):\n",
    "\n",
    "    pip install numpy matplotlib\n",
    "\n",
    "That's all there is to do!\n",
    "\n",
    "If you use the Anaconda distribution, the above likely will not work.  Instead create a conda environment (in your anaconda/envs directory) with:\n",
    "\n",
    "    conda create -n venv pip && source activate venv\n",
    "    pip install rebound\n"
   ]
  },
  {
   "cell_type": "markdown",
   "metadata": {},
   "source": [
    "## First WHFast integration\n",
    "Let us now perform our first WHFast integration. You can enter all the commands below into a file and execute it all at once, or open an interactive shell).\n",
    "\n",
    "First, we need to import the REBOUND module (make sure have have enabled the virtual environment if you used it to install REBOUND)."
   ]
  },
  {
   "cell_type": "code",
   "execution_count": 2,
   "metadata": {
    "collapsed": true
   },
   "outputs": [],
   "source": [
    "import rebound"
   ]
  },
  {
   "cell_type": "markdown",
   "metadata": {},
   "source": [
    "Next, let's add some particles. We'll work in units in which $G=1$ (see below on how to set $G$ to another value). The first particle we add is the central object. We place it at rest at the origin and use the convention of setting the mass of the central object $M_*$ to 1:"
   ]
  },
  {
   "cell_type": "code",
   "execution_count": 2,
   "metadata": {
    "collapsed": false,
    "scrolled": false
   },
   "outputs": [],
   "source": [
    "rebound.add(m=1.)"
   ]
  },
  {
   "cell_type": "markdown",
   "metadata": {},
   "source": [
    "Let's look at the particle we just added:"
   ]
  },
  {
   "cell_type": "code",
   "execution_count": 3,
   "metadata": {
    "collapsed": false
   },
   "outputs": [
    {
     "name": "stdout",
     "output_type": "stream",
     "text": [
      "<rebound.Particle object, m=1.0 x=0.0 y=0.0 z=0.0 vx=0.0 vy=0.0 vz=0.0>\n"
     ]
    }
   ],
   "source": [
    "print(rebound.get_particles()[0])"
   ]
  },
  {
   "cell_type": "markdown",
   "metadata": {
    "collapsed": true
   },
   "source": [
    "The output tells us that the mass of the particle is 1 and all coordinates are zero. \n",
    "\n",
    "The next particle we're adding is a planet. We'll use Cartesian coordinates to initialize it. Any coordinate that we do not specify in the `rebound.add()` command is assumed to be 0. We place our planet on a circular orbit at $a=1$ and give it a mass of $10^{-3}$ times that of the central star."
   ]
  },
  {
   "cell_type": "code",
   "execution_count": 4,
   "metadata": {
    "collapsed": true
   },
   "outputs": [],
   "source": [
    "rebound.add(m=1e-3, x=1., vy=1.)"
   ]
  },
  {
   "cell_type": "markdown",
   "metadata": {},
   "source": [
    "Instead of initializing the particle with Cartesian coordinates, we can also use orbital elements. By default, REBOUND will use Jacobi coordinates, i.e. REBOUND assumes the orbital elements describe the particle's orbit around the centre of mass of all particles added previously. Our second planet will have a mass of $10^{-3}$, a semimajoraxis of $a=2$ and an eccentricity of $e=0.1$:"
   ]
  },
  {
   "cell_type": "code",
   "execution_count": 5,
   "metadata": {
    "collapsed": false
   },
   "outputs": [],
   "source": [
    "rebound.add(m=1e-3, a=2., e=0.1)"
   ]
  },
  {
   "cell_type": "markdown",
   "metadata": {},
   "source": [
    "Now that we have added two more particles, let's have a quick look at what's \"in REBOUND\" by using"
   ]
  },
  {
   "cell_type": "code",
   "execution_count": 6,
   "metadata": {
    "collapsed": false
   },
   "outputs": [
    {
     "name": "stdout",
     "output_type": "stream",
     "text": [
      "---------------------------------\n",
      "Rebound version:     \t0.2.2\n",
      "Build on:            \tMay 10 2015 17:42:12\n",
      "Number of particles: \t3\n",
      "Simulation time:     \t0.000000\n",
      "---------------------------------\n",
      "<rebound.Particle object, m=1.0 x=0.0 y=0.0 z=0.0 vx=0.0 vy=0.0 vz=0.0>\n",
      "<rebound.Particle object, m=0.001 x=1.0 y=0.0 z=0.0 vx=0.0 vy=1.0 vz=0.0>\n",
      "<rebound.Particle object, m=0.001 x=1.800999001 y=0.0 z=0.0 vx=0.0 vy=0.783516306452 vz=0.0>\n",
      "---------------------------------\n"
     ]
    }
   ],
   "source": [
    "rebound.status()"
   ]
  },
  {
   "cell_type": "markdown",
   "metadata": {},
   "source": [
    "Next, let's tell REBOUND which integrator (WHFast, of course!) and timestep we want to use. In our system of units, an orbit at $a=1$ has the orbital period of $T_{\\rm orb} =2\\pi \\sqrt{\\frac{GM}{a}}= 2\\pi$. \n",
    "So a reasonable timestep to start with would be $dt=10^{-3}$."
   ]
  },
  {
   "cell_type": "code",
   "execution_count": 7,
   "metadata": {
    "collapsed": true
   },
   "outputs": [],
   "source": [
    "rebound.set_integrator(\"whfast\")\n",
    "rebound.set_dt(1e-3)"
   ]
  },
  {
   "cell_type": "markdown",
   "metadata": {},
   "source": [
    "`whfast` referrs to the 2nd order symplectic integrator WHFast described by Rein & Tamayo (2015). By default 11th order symplectic correctors are used. \n",
    "\n",
    "We are now ready to start the integration. Let's integrate for one orbit, i.e. until $t=2\\pi$. Because we use a fixed timestep, rebound would have to change it to integrate exactly up to $2\\pi$. Changing a timestep in a symplectic integrator is a bad idea, so we'll tell rebound to don't worry about the `exactFinishTime`."
   ]
  },
  {
   "cell_type": "code",
   "execution_count": 8,
   "metadata": {
    "collapsed": true
   },
   "outputs": [],
   "source": [
    "rebound.integrate(6.28318530717959, exactFinishTime=0)   # 6.28318530717959 is 2*pi"
   ]
  },
  {
   "cell_type": "markdown",
   "metadata": {},
   "source": [
    "Once again, let's look at what REBOUND's status is"
   ]
  },
  {
   "cell_type": "code",
   "execution_count": 9,
   "metadata": {
    "collapsed": false
   },
   "outputs": [
    {
     "name": "stdout",
     "output_type": "stream",
     "text": [
      "---------------------------------\n",
      "Rebound version:     \t0.2.2\n",
      "Build on:            \tMay 10 2015 17:42:12\n",
      "Number of particles: \t3\n",
      "Simulation time:     \t6.284000\n",
      "---------------------------------\n",
      "<rebound.Particle object, m=1.0 x=0.00332615486679 y=0.00967463591345 z=0.0 vx=0.000519465419816 vy=0.00122002692798 vz=0.0>\n",
      "<rebound.Particle object, m=0.001 x=1.00326941817 y=0.0366289413116 z=0.0 vx=-0.0243959426078 vy=0.999978207226 vz=0.0>\n",
      "<rebound.Particle object, m=0.001 x=-1.52842528396 y=1.49635161498 z=0.0 vx=-0.495069477208 vy=-0.436488828758 vz=0.0>\n",
      "---------------------------------\n"
     ]
    }
   ],
   "source": [
    "rebound.status()"
   ]
  },
  {
   "cell_type": "markdown",
   "metadata": {},
   "source": [
    "As you can see the time has advanced to $t=2\\pi$ and the positions and velocities of *all* particles have changed. If you want to post-process the particle data, you can access it in the following way:"
   ]
  },
  {
   "cell_type": "code",
   "execution_count": 10,
   "metadata": {
    "collapsed": false
   },
   "outputs": [
    {
     "name": "stdout",
     "output_type": "stream",
     "text": [
      "(0.003326154866789341, 0.009674635913450578, 0.000519465419815916, 0.0012200269279836013)\n",
      "(1.0032694181735986, 0.036628941311592965, -0.024395942607841364, 0.9999782072258975)\n",
      "(-1.5284252839639376, 1.4963516149806406, -0.4950694772080744, -0.4364888287575557)\n"
     ]
    }
   ],
   "source": [
    "particles = rebound.get_particles()\n",
    "for i in range(rebound.get_N()):\n",
    "    print(particles[i].x, particles[i].y, particles[i].vx, particles[i].vy)"
   ]
  },
  {
   "cell_type": "markdown",
   "metadata": {},
   "source": [
    "The `particles` object is a pointer to the particle array in memory. This means you can call `particles = rebound.get_particles()` before the integration and the contents of `particles` will be updated after the integration. If you add or remove particles, you'll need to call `get_particles()` again."
   ]
  },
  {
   "cell_type": "markdown",
   "metadata": {},
   "source": [
    "## Visualization with matplotlib\n",
    "Instead of just printing boring numbers at the end of the simulation, let's visualize the orbit using matplotlib (you'll need to install numpy and matplotlib to run this example, see above).\n",
    "\n",
    "We'll use the same particles as above. As the particles are already in memory, we don't need to add them again. Let us plot the position of the inner planet at 100 steps during its orbit. First, we'll import numpy and create an array of times for which we want to have an output (here, from $T_{\\rm orb}$ to $2 T_{\\rm orb}$ (we have already advanced the simulation time to $t=2\\pi$)."
   ]
  },
  {
   "cell_type": "code",
   "execution_count": 9,
   "metadata": {
    "collapsed": true
   },
   "outputs": [],
   "source": [
    "import numpy as np\n",
    "torb = 2.*np.pi\n",
    "Noutputs = 100\n",
    "times = np.linspace(torb, 2.*torb, Noutputs)\n",
    "x = np.zeros(Noutputs)\n",
    "y = np.zeros(Noutputs)"
   ]
  },
  {
   "cell_type": "markdown",
   "metadata": {},
   "source": [
    "Next, we'll step through the simulation. Rebound will integrate up to `time`. Depending on the timestep, it might overshoot slightly. If you want to have the outputs at exactly the time you specify you can set the `exactTime=1` flag in the `integrate` function. However, note that changing the timestep in a symplectic integrator could have negative impacts on its properties."
   ]
  },
  {
   "cell_type": "code",
   "execution_count": 12,
   "metadata": {
    "collapsed": true
   },
   "outputs": [],
   "source": [
    "for i,time in enumerate(times):\n",
    "    rebound.integrate(time, exactFinishTime=0)\n",
    "    x[i] = particles[1].x\n",
    "    y[i] = particles[1].y"
   ]
  },
  {
   "cell_type": "markdown",
   "metadata": {},
   "source": [
    "Let's plot the orbit using matplotlib."
   ]
  },
  {
   "cell_type": "code",
   "execution_count": 12,
   "metadata": {
    "collapsed": false
   },
   "outputs": [
    {
     "data": {
      "image/png": "[encoded data removed]",
      "text/plain": [
       "<matplotlib.figure.Figure at 0x103d38910>"
      ]
     },
     "metadata": {},
     "output_type": "display_data"
    }
   ],
   "source": [
    "%matplotlib inline\n",
    "import matplotlib.pyplot as plt\n",
    "fig = plt.figure(figsize=(5,5))\n",
    "ax = plt.subplot(111)\n",
    "ax.set_xlim([-2,2])\n",
    "ax.set_ylim([-2,2])\n",
    "plt.plot(x, y);"
   ]
  },
  {
   "cell_type": "markdown",
   "metadata": {},
   "source": [
    "Hurray! It worked. The orbit looks like it should, it's an almost perfect circle. There are small perturbations though, induced by the outer planet. Let's integrate a bit longer to see them. "
   ]
  },
  {
   "cell_type": "code",
   "execution_count": 14,
   "metadata": {
    "collapsed": false
   },
   "outputs": [
    {
     "data": {
      "image/png": "[encoded data removed]",
      "text/plain": [
       "<matplotlib.figure.Figure at 0x1090d5290>"
      ]
     },
     "metadata": {},
     "output_type": "display_data"
    }
   ],
   "source": [
    "Noutputs = 1000\n",
    "times = np.linspace(2.*torb, 20.*torb, Noutputs)\n",
    "x = np.zeros(Noutputs)\n",
    "y = np.zeros(Noutputs)\n",
    "for i,time in enumerate(times):\n",
    "    rebound.integrate(time, exactFinishTime=0)\n",
    "    x[i] = particles[1].x\n",
    "    y[i] = particles[1].y\n",
    "    \n",
    "fig = plt.figure(figsize=(5,5))\n",
    "ax = plt.subplot(111)\n",
    "ax.set_xlim([-2,2])\n",
    "ax.set_ylim([-2,2])\n",
    "plt.plot(x, y);"
   ]
  },
  {
   "cell_type": "markdown",
   "metadata": {},
   "source": [
    "Oops! This doesn't look like what we expected to see (small perturbations to an almost circluar orbit). What you see here is the barycenter slowly drifting. Some integration packages require that the simulation be carried out in a particular frame, but WHFast provides extra flexibility by working in any inertial frame.  If you recall how we added the particles, the Sun was at the origin and at rest, and then we added the planets.  This means that the center of mass, or barycenter, will have a small velocity, which results in the observed drift.  There are multiple ways we can get the plot we want to.\n",
    "1. We can calculate only relative positions.\n",
    "2. We can add the particles in the barycentric frame.\n",
    "3. We can let REBOUND transform the particle coordinates to the bayrcentric frame for us.\n",
    "\n",
    "Let's use the third option (next time you run a simulation, you probably want to do that at the beginning)."
   ]
  },
  {
   "cell_type": "code",
   "execution_count": 15,
   "metadata": {
    "collapsed": false
   },
   "outputs": [],
   "source": [
    "rebound.move_to_center_of_momentum()"
   ]
  },
  {
   "cell_type": "markdown",
   "metadata": {},
   "source": [
    "So let's try this again. Let's integrate for a bit longer this time."
   ]
  },
  {
   "cell_type": "code",
   "execution_count": 16,
   "metadata": {
    "collapsed": false
   },
   "outputs": [
    {
     "data": {
      "image/png": "[encoded data removed]",
      "text/plain": [
       "<matplotlib.figure.Figure at 0x107e9e990>"
      ]
     },
     "metadata": {},
     "output_type": "display_data"
    }
   ],
   "source": [
    "times = np.linspace(20.*torb, 1000.*torb, Noutputs)\n",
    "for i,time in enumerate(times):\n",
    "    rebound.integrate(time, exactFinishTime=0)\n",
    "    x[i] = particles[1].x\n",
    "    y[i] = particles[1].y\n",
    "    \n",
    "fig = plt.figure(figsize=(5,5))\n",
    "ax = plt.subplot(111)\n",
    "ax.set_xlim([-1.5,1.5])\n",
    "ax.set_ylim([-1.5,1.5])\n",
    "plt.scatter(x, y, marker='.', color='k', s=1.2);"
   ]
  },
  {
   "cell_type": "markdown",
   "metadata": {},
   "source": [
    "That looks much more  like it. Let us finally plot the orbital elements as a function of time."
   ]
  },
  {
   "cell_type": "code",
   "execution_count": 17,
   "metadata": {
    "collapsed": false
   },
   "outputs": [
    {
     "data": {
      "image/png": "[encoded data removed]",
      "text/plain": [
       "<matplotlib.figure.Figure at 0x10910a110>"
      ]
     },
     "metadata": {},
     "output_type": "display_data"
    }
   ],
   "source": [
    "times = np.linspace(1000.*torb, 9000.*torb, Noutputs)\n",
    "a = np.zeros(Noutputs)\n",
    "e = np.zeros(Noutputs)\n",
    "for i,time in enumerate(times):\n",
    "    rebound.integrate(time, exactFinishTime=0)\n",
    "    orbits = rebound.get_orbits()\n",
    "    a[i] = orbits[1].a\n",
    "    e[i] = orbits[1].e\n",
    "    \n",
    "fig = plt.figure(figsize=(15,5))\n",
    "\n",
    "ax = plt.subplot(121)\n",
    "ax.set_xlabel(\"time\")\n",
    "ax.set_ylabel(\"semi-major axis\")\n",
    "plt.plot(times, a);\n",
    "\n",
    "ax = plt.subplot(122)\n",
    "ax.set_xlabel(\"time\")\n",
    "ax.set_ylabel(\"eccentricity\")\n",
    "plt.plot(times, e);"
   ]
  },
  {
   "cell_type": "markdown",
   "metadata": {},
   "source": [
    "The semimajor axis seems to almost stay constant, whereas the eccentricity undergoes an oscillation. Thus, one might conclude the planets interact only secularly, i.e. there are no large resonant terms."
   ]
  },
  {
   "cell_type": "markdown",
   "metadata": {},
   "source": [
    "## Save/load particles from file, reset rebound\n",
    "\n",
    "You can very easily save all particles to a binary file. The binary file will include the mass, positions and velocities of all particles, as well as the current simulation time (but nothing else!):"
   ]
  },
  {
   "cell_type": "code",
   "execution_count": 18,
   "metadata": {
    "collapsed": false
   },
   "outputs": [],
   "source": [
    "rebound.save(\"checkpoint.bin\")"
   ]
  },
  {
   "cell_type": "markdown",
   "metadata": {},
   "source": [
    "The binary files are small in size and store every floating point number exactly, so you don't have to worry about efficiency or loosing precision. You can make lots of checkpoints.\n",
    "\n",
    "Now, suppose we want to reset rebound. For example to run a different simulation. You can simply call"
   ]
  },
  {
   "cell_type": "code",
   "execution_count": 19,
   "metadata": {
    "collapsed": false
   },
   "outputs": [],
   "source": [
    "rebound.reset()"
   ]
  },
  {
   "cell_type": "markdown",
   "metadata": {
    "collapsed": true
   },
   "source": [
    "This will clear all particles ($N=0$ afterwards), set the time to zero, reset the integrator settings. Basically, you'll have to start from scratch. However, since we saved a binary file earlier we can use that to load the particles back into memory:"
   ]
  },
  {
   "cell_type": "code",
   "execution_count": 20,
   "metadata": {
    "collapsed": false
   },
   "outputs": [
    {
     "name": "stdout",
     "output_type": "stream",
     "text": [
      "---------------------------------\n",
      "Rebound version:     \t0.2.2\n",
      "Build on:            \tMay 10 2015 17:42:12\n",
      "Number of particles: \t3\n",
      "Simulation time:     \t56548.668038\n",
      "---------------------------------\n",
      "<rebound.Particle object, m=1.0 x=0.00114717628038 y=0.000445309619738 z=0.0 vx=-0.000668987677577 vy=0.00012064164774 vz=0.0>\n",
      "<rebound.Particle object, m=0.001 x=0.640711392651 y=-0.756112486567 z=0.0 vx=0.772804259687 vy=0.647864437961 vz=0.0>\n",
      "<rebound.Particle object, m=0.001 x=-1.78788767288 y=0.310802866826 z=0.0 vx=-0.103816582109 vy=-0.768506085701 vz=0.0>\n",
      "---------------------------------\n"
     ]
    }
   ],
   "source": [
    "rebound.load(\"checkpoint.bin\")\n",
    "rebound.status()"
   ]
  },
  {
   "cell_type": "markdown",
   "metadata": {},
   "source": [
    "Just as a test, let's change the particles' velocity, by multiplying it with minus one. Thus, all particles will be moving backwards!"
   ]
  },
  {
   "cell_type": "code",
   "execution_count": 21,
   "metadata": {
    "collapsed": false
   },
   "outputs": [],
   "source": [
    "p = rebound.get_particles()\n",
    "for i in range(0,rebound.get_N()):\n",
    "    p[i].vx *= -1.\n",
    "    p[i].vy *= -1.\n",
    "    p[i].vz *= -1."
   ]
  },
  {
   "cell_type": "markdown",
   "metadata": {},
   "source": [
    "Then, let's setup the integrator again (remember, the `reset()` call reset everything):"
   ]
  },
  {
   "cell_type": "code",
   "execution_count": 22,
   "metadata": {
    "collapsed": true
   },
   "outputs": [],
   "source": [
    "rebound.set_integrator(\"whfast\")\n",
    "rebound.set_dt(1e-3)"
   ]
  },
  {
   "cell_type": "markdown",
   "metadata": {},
   "source": [
    "If we now set the time from $t$ to $-t$ and integrate back to 0, then the particles should roughly be back where they started from. Let's also move back to the heliocentric frame."
   ]
  },
  {
   "cell_type": "code",
   "execution_count": 23,
   "metadata": {
    "collapsed": false
   },
   "outputs": [
    {
     "name": "stdout",
     "output_type": "stream",
     "text": [
      "---------------------------------\n",
      "Rebound version:     \t0.2.2\n",
      "Build on:            \tMay 10 2015 17:42:12\n",
      "Number of particles: \t3\n",
      "Simulation time:     \t0.000000\n",
      "---------------------------------\n",
      "<rebound.Particle object, m=1.0 x=0.0 y=0.0 z=0.0 vx=0.0 vy=0.0 vz=0.0>\n",
      "<rebound.Particle object, m=0.001 x=0.999999999999 y=-6.2969300657e-08 z=0.0 vx=-6.30158152872e-08 vy=-1.0 vz=0.0>\n",
      "<rebound.Particle object, m=0.001 x=1.800999001 y=2.10951342898e-08 z=0.0 vx=8.18096390903e-09 vy=-0.783516306451 vz=0.0>\n",
      "---------------------------------\n"
     ]
    }
   ],
   "source": [
    "rebound.set_t(-rebound.get_t())\n",
    "rebound.integrate(0.)\n",
    "for i in range(rebound.get_N()-1,-1,-1):\n",
    "    p[i].x -= p[0].x\n",
    "    p[i].y -= p[0].y\n",
    "    p[i].z -= p[0].z\n",
    "    p[i].vx -= p[0].vx\n",
    "    p[i].vy -= p[0].vy\n",
    "    p[i].vz -= p[0].vz\n",
    "\n",
    "rebound.status()"
   ]
  },
  {
   "cell_type": "markdown",
   "metadata": {},
   "source": [
    "It worked. If you compare this output to the first output we got just after we added the particles, you'll see that the positions are almost exactly identical. There is a small difference due to numerical round-off erros (see Rein & Tamayo, 2015). Nevertheless, this proves that WHFast is time-reversible."
   ]
  },
  {
   "cell_type": "markdown",
   "metadata": {},
   "source": [
    "## NASA Horizons\n",
    "\n",
    "If you're interested in Solar System dynamics, you might have heard of NASA Horizons. It's a large database of Solar System objects and includes planets, moons, satellites and spacecrafts. With rebound, you can easily import data from NASA Horizons. Rebound automatically converts the units (it assumes that $G=1$). As an example, if you want to have the present day positions of Jupiter, Saturn and the Sun, you can do:"
   ]
  },
  {
   "cell_type": "code",
   "execution_count": 101,
   "metadata": {
    "collapsed": false
   },
   "outputs": [
    {
     "name": "stdout",
     "output_type": "stream",
     "text": [
      "Searching NASA Horizons for 'Sun'... Found: Sun (10).\n",
      "Searching NASA Horizons for 'Jupiter'... Found: Jupiter Barycenter (5).\n",
      "Searching NASA Horizons for 'Saturn'... Found: Saturn Barycenter (6).\n"
     ]
    }
   ],
   "source": [
    "rebound.reset()\n",
    "rebound.add(\"Sun\")\n",
    "rebound.add(\"Jupiter\")\n",
    "rebound.add(\"Saturn\")"
   ]
  },
  {
   "cell_type": "markdown",
   "metadata": {},
   "source": [
    "Now all the data is in rebound! Let's check it out:"
   ]
  },
  {
   "cell_type": "code",
   "execution_count": 102,
   "metadata": {
    "collapsed": false
   },
   "outputs": [
    {
     "name": "stdout",
     "output_type": "stream",
     "text": [
      "---------------------------------\n",
      "Rebound version:     \t0.2.2\n",
      "Build on:            \tMay 10 2015 17:42:12\n",
      "Number of particles: \t3\n",
      "Simulation time:     \t0.000000\n",
      "---------------------------------\n",
      "<rebound.Particle object, m=0.999962227894 x=0.0 y=0.0 z=0.0 vx=0.0 vy=0.0 vz=0.0>\n",
      "<rebound.Particle object, m=0.00095475585071 x=-4.37539890824 y=3.0944397809 z=0.0850547214905 vx=-0.258762084874 vy=-0.337765153416 vz=0.00719283010183>\n",
      "<rebound.Particle object, m=0.000285874874218 x=-4.82715581883 y=-8.72410073649 z=0.343822914171 vx=0.265906756484 vy=-0.158214087484 vz=-0.00784008423716>\n",
      "---------------------------------\n"
     ]
    }
   ],
   "source": [
    "rebound.status()"
   ]
  },
  {
   "cell_type": "markdown",
   "metadata": {},
   "source": [
    "Let's add something more interesting. The Comet 67P/Churyumov-Gerasimenko. "
   ]
  },
  {
   "cell_type": "code",
   "execution_count": 103,
   "metadata": {
    "collapsed": false
   },
   "outputs": [
    {
     "name": "stdout",
     "output_type": "stream",
     "text": [
      "Searching NASA Horizons for 'Churyumov-Gerasimenko'... Found: 67P/Churyumov-Gerasimenko.\n",
      "Warning: Mass cannot be retrieved from NASA HORIZONS. Set to 0.\n"
     ]
    }
   ],
   "source": [
    "rebound.add(\"Churyumov-Gerasimenko\")\n",
    "#rebound.add(\"900647\")"
   ]
  },
  {
   "cell_type": "markdown",
   "metadata": {},
   "source": [
    "When searching for a body by name, rebound takes the first dataset that Horizons offers. In this case, it's a set of parameters from 1962. You probably want to go to the Horizons website and check that the values you are using are up-to-date and appropriate for what you want to do. Note that you can also use the ID # from Horizons to add a particle. E.g. in this case you could use `rebound.add(\"900647\")` to have a newer set of orbital parameters for Churyumov-Gerasimenko.\n",
    "\n",
    "NASA Horizons doesn't have masses for all bodies. In our case, we don't need the mass of the comet (it's very small anyway). However, it you want need, you can add it manually using the syntax `rebound.add(\"Churyumov-Gerasimenko\", m=1.0e-18)`.\n",
    "\n",
    "Let's integrate backwards in time again, say for 70 years (so we'll need to revert the velocities again first). While we're integrating, let's store the positions of Jupiter and the comet at 1000 point in the interval."
   ]
  },
  {
   "cell_type": "code",
   "execution_count": 104,
   "metadata": {
    "collapsed": true
   },
   "outputs": [],
   "source": [
    "p = rebound.get_particles()\n",
    "for i in range(0,rebound.get_N()):\n",
    "    p[i].vx *= -1.\n",
    "    p[i].vy *= -1.\n",
    "    p[i].vz *= -1."
   ]
  },
  {
   "cell_type": "code",
   "execution_count": 105,
   "metadata": {
    "collapsed": false
   },
   "outputs": [],
   "source": [
    "rebound.set_integrator(\"whfast\")\n",
    "rebound.set_dt(0.01)\n",
    "rebound.move_to_com()\n",
    "\n",
    "Noutputs = 1000\n",
    "times = np.linspace(torb, 70.*2.*np.pi, Noutputs)\n",
    "x = np.zeros((2,Noutputs))\n",
    "y = np.zeros((2,Noutputs))\n",
    "for i,time in enumerate(times):\n",
    "    rebound.integrate(time, exactFinishTime=0)\n",
    "    x[0][i] = p[1].x\n",
    "    y[0][i] = p[1].y\n",
    "    x[1][i] = p[3].x\n",
    "    y[1][i] = p[3].y"
   ]
  },
  {
   "cell_type": "markdown",
   "metadata": {},
   "source": [
    "And let's plot them!"
   ]
  },
  {
   "cell_type": "code",
   "execution_count": 106,
   "metadata": {
    "collapsed": false
   },
   "outputs": [
    {
     "data": {
      "image/png": "[encoded data removed]",
      "text/plain": [
       "<matplotlib.figure.Figure at 0x104a8d090>"
      ]
     },
     "metadata": {},
     "output_type": "display_data"
    }
   ],
   "source": [
    "import matplotlib.pyplot as plt\n",
    "fig = plt.figure(figsize=(5,5))\n",
    "ax = plt.subplot(111)\n",
    "ax.set_xlim([-6,6])\n",
    "ax.set_ylim([-6,6])\n",
    "plt.plot(x[0], y[0]);\n",
    "plt.plot(x[1], y[1]);"
   ]
  },
  {
   "cell_type": "markdown",
   "metadata": {},
   "source": [
    "As it turns out, the comet 67P has a rather strong encounter with Jupiter a few years ago. Of course, if you wanted to do a realistic simulation, you'd need to include the other planets and maybe even some non-gravitational effects on the comet. However, in our simplistic model, let's try to find out when the two bodies had a close encouter. We already stored the data, so we can just plot their distance as a function of time (remember we're integrating back in time, so positive simulation time really means we're going backgwards in time, we'll account for that while plotting)."
   ]
  },
  {
   "cell_type": "code",
   "execution_count": 107,
   "metadata": {
    "collapsed": false
   },
   "outputs": [
    {
     "name": "stdout",
     "output_type": "stream",
     "text": [
      "Minimum distance occured at time: -56.255255\n"
     ]
    },
    {
     "data": {
      "image/png": "[encoded data removed]",
      "text/plain": [
       "<matplotlib.figure.Figure at 0x104bb49d0>"
      ]
     },
     "metadata": {},
     "output_type": "display_data"
    }
   ],
   "source": [
    "fig = plt.figure(figsize=(12,5))\n",
    "ax = plt.subplot(111)\n",
    "ax.set_xlabel(\"time [yrs]\")\n",
    "ax.set_ylabel(\"distance [AU]\")\n",
    "distance = np.sqrt(np.square(x[0]-x[1])+np.square(y[0]-y[1]))\n",
    "plt.plot(-times/(np.pi*2.), distance);\n",
    "closeencountertime = -times[np.argmin(distance)]/(np.pi*2.)\n",
    "print(\"Minimum distance occured at time: %f\" % closeencountertime)"
   ]
  },
  {
   "cell_type": "markdown",
   "metadata": {},
   "source": [
    "We can see that the minimum distance occured at time, 67.792793 years ago (as of writing this tutorial). Let's see what that the date was:"
   ]
  },
  {
   "cell_type": "code",
   "execution_count": 108,
   "metadata": {
    "collapsed": false
   },
   "outputs": [
    {
     "data": {
      "text/plain": [
       "'1959-02-06'"
      ]
     },
     "execution_count": 108,
     "metadata": {},
     "output_type": "execute_result"
    }
   ],
   "source": [
    "import datetime\n",
    "encounterdate = datetime.datetime.today() + datetime.timedelta(days=365.25*closeencountertime)\n",
    "encounterdate.strftime(\"%Y-%m-%d\")"
   ]
  },
  {
   "cell_type": "markdown",
   "metadata": {},
   "source": [
    "According our calculation, the close encounter happened in February 1959! And, according to wikipedia, that was indeed the time of the encounter!"
   ]
  },
  {
   "cell_type": "code",
   "execution_count": null,
   "metadata": {
    "collapsed": true
   },
   "outputs": [],
   "source": []
  }
 ],
 "metadata": {
  "kernelspec": {
   "display_name": "Python 2",
   "language": "python",
   "name": "python2"
  },
  "language_info": {
   "codemirror_mode": {
    "name": "ipython",
    "version": 2
   },
   "file_extension": ".py",
   "mimetype": "text/x-python",
   "name": "python",
   "nbconvert_exporter": "python",
   "pygments_lexer": "ipython2",
   "version": "2.7.6"
  }
 },
 "nbformat": 4,
 "nbformat_minor": 0
}
