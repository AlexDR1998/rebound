{
 "cells": [
  {
   "cell_type": "markdown",
   "metadata": {},
   "source": [
    "# 67P/Churyumov–Gerasimenko\n",
    "\n",
    "This tutorial teaches you how to use the IAS15 integator (Rein and Spiegel, 2015) to simulate the orbit of 67P/Churyumov–Gerasimenko. We will download the data from NASA Horizons and visualizae the orbit using matplotlib.\n",
    "\n",
    "This tutorial assumes that you have already installed REBOUND."
   ]
  },
  {
   "cell_type": "markdown",
   "metadata": {},
   "source": [
    "## NASA Horizons\n",
    "\n",
    "If you're interested in Solar System dynamics, you have probably heard of NASA Horizons. It's a large database of Solar System objects, their orbits and physical properties. It includes planets, moons, satellites, asteroids, comets and spacecrafts. With REBOUND, you can easily import data from NASA Horizons. As an example, let's pull in the present day positions of Jupiter, Saturn and the Sun:"
   ]
  },
  {
   "cell_type": "code",
   "execution_count": 1,
   "metadata": {
    "collapsed": false
   },
   "outputs": [
    {
     "name": "stdout",
     "output_type": "stream",
     "text": [
      "Searching NASA Horizons for 'Sun'... Found: Sun (10).\n",
      "Searching NASA Horizons for 'Jupiter'... Found: Jupiter Barycenter (5).\n",
      "Searching NASA Horizons for 'Saturn'... Found: Saturn Barycenter (6).\n"
     ]
    }
   ],
   "source": [
    "import rebound\n",
    "rebound.add(\"Sun\")\n",
    "rebound.add(\"Jupiter\")\n",
    "rebound.add(\"Saturn\")"
   ]
  },
  {
   "cell_type": "markdown",
   "metadata": {},
   "source": [
    "Now all the data is in rebound! Let's have a look at the orbits of the two planets."
   ]
  },
  {
   "cell_type": "code",
   "execution_count": 2,
   "metadata": {
    "collapsed": false
   },
   "outputs": [
    {
     "name": "stdout",
     "output_type": "stream",
     "text": [
      "<rebound.Orbit instance, a=5.20229231024 e=0.048887179453>\n",
      "<rebound.Orbit instance, a=9.54683738627 e=0.0539237758789>\n"
     ]
    }
   ],
   "source": [
    "for orbit in rebound.get_orbits():\n",
    "    print(orbit)"
   ]
  },
  {
   "cell_type": "markdown",
   "metadata": {},
   "source": [
    "Although there are three bodies, the `get_orbits()` function only returns two objects as the orbit for the Sun would be a little boring. The function returns the orbits in Jacobi coordinates. Since we didn't specify a falue for $G$, REBOUND assumes that $G=1$. The unit of length is an astronomical unit, the unit of time is year/$2\\pi$. \n",
    "\n",
    "Let's add something more interesting to our simulation. The comet 67P/Churyumov-Gerasimenko. "
   ]
  },
  {
   "cell_type": "code",
   "execution_count": 3,
   "metadata": {
    "collapsed": false
   },
   "outputs": [
    {
     "name": "stdout",
     "output_type": "stream",
     "text": [
      "Searching NASA Horizons for 'Churyumov-Gerasimenko'... Found: 67P/Churyumov-Gerasimenko.\n",
      "Warning: Mass cannot be retrieved from NASA HORIZONS. Set to 0.\n"
     ]
    }
   ],
   "source": [
    "rebound.add(\"Churyumov-Gerasimenko\")"
   ]
  },
  {
   "cell_type": "markdown",
   "metadata": {},
   "source": [
    "When searching for a body by name, REBOUND takes the first dataset that Horizons offers. In this case, it's a set of parameters from 1962. You probably want to go to the Horizons website and check that the values you are using are up-to-date and appropriate for what you want to do. You can also use the ID number from Horizons to add a particle. For example you could use `rebound.add(\"900647\")` to use a newer set of orbital parameters for Churyumov-Gerasimenko.\n",
    "\n",
    "NASA Horizons doesn't have masses for all bodies. If REBOUND doesn't find a mass, you get a warning message (see above). In our case, we don't need the mass of the comet (it's really smal). However, it you want, you can add it manually using the syntax `rebound.add(\"Churyumov-Gerasimenko\", m=5.03e-18)`.\n",
    "\n",
    "Let's integrate backwards in time again, say for 70 years. To integrate backwards, we could set a negative timestep or simply multiply all velocities with $-1$. We'll choose the second option:"
   ]
  },
  {
   "cell_type": "code",
   "execution_count": 4,
   "metadata": {
    "collapsed": false
   },
   "outputs": [],
   "source": [
    "p = rebound.get_particles()\n",
    "for i in range(0,rebound.get_N()):\n",
    "    p[i].vx *= -1.\n",
    "    p[i].vy *= -1.\n",
    "    p[i].vz *= -1."
   ]
  },
  {
   "cell_type": "markdown",
   "metadata": {},
   "source": [
    "While we're integrating, let's store the positions of Jupiter and the comet at 1000 point in the interval. We'll need to prepare a few variables to do that:"
   ]
  },
  {
   "cell_type": "code",
   "execution_count": 5,
   "metadata": {
    "collapsed": false
   },
   "outputs": [],
   "source": [
    "import numpy as np\n",
    "Noutputs = 1000\n",
    "year = 2.*np.pi\n",
    "times = np.linspace(0., 70.*year, Noutputs)\n",
    "x = np.zeros((2,Noutputs))\n",
    "y = np.zeros((2,Noutputs))"
   ]
  },
  {
   "cell_type": "markdown",
   "metadata": {},
   "source": [
    "Now we're ready to start the integration:"
   ]
  },
  {
   "cell_type": "code",
   "execution_count": 6,
   "metadata": {
    "collapsed": false
   },
   "outputs": [],
   "source": [
    "rebound.set_integrator(\"ias15\") #IAS15 is the default integrator, so we don't need to line\n",
    "rebound.move_to_com() # We always move to the center of momentum frame before an integration\n",
    "\n",
    "for i,time in enumerate(times):\n",
    "    rebound.integrate(time, exactFinishTime=0)\n",
    "    x[0][i] = p[1].x\n",
    "    y[0][i] = p[1].y\n",
    "    x[1][i] = p[3].x\n",
    "    y[1][i] = p[3].y"
   ]
  },
  {
   "cell_type": "markdown",
   "metadata": {},
   "source": [
    "Let's plot the orbits of Jupiter (blue) and the comet (green)."
   ]
  },
  {
   "cell_type": "code",
   "execution_count": 7,
   "metadata": {
    "collapsed": false
   },
   "outputs": [
    {
     "data": {
      "image/png": "[encoded data removed]",
      "text/plain": [
       "<matplotlib.figure.Figure at 0x103ebd490>"
      ]
     },
     "metadata": {},
     "output_type": "display_data"
    }
   ],
   "source": [
    "%matplotlib inline\n",
    "import matplotlib.pyplot as plt\n",
    "fig = plt.figure(figsize=(5,5))\n",
    "ax = plt.subplot(111)\n",
    "ax.set_xlim([-6,6])\n",
    "ax.set_ylim([-6,6])\n",
    "plt.plot(x[0], y[0]);\n",
    "plt.plot(x[1], y[1]);"
   ]
  },
  {
   "cell_type": "markdown",
   "metadata": {},
   "source": [
    "As you can see in the above image, the comet 67P had a rather strong encounter with Jupiter a few years ago. Of course, if you wanted to do a realistic simulation of that encounter, you'd need to include all the other planets and maybe even some non-gravitational effects for the comet. However, let's stick with out simplistic model and try to find out when exactly the two bodies had a close encouter. We already stored the data, so we can just plot their distance as a function of time (remember we're integrating back in time, so positive simulation time really means we're going backgwards in time - we'll account for that while plotting)."
   ]
  },
  {
   "cell_type": "code",
   "execution_count": 8,
   "metadata": {
    "collapsed": false
   },
   "outputs": [
    {
     "name": "stdout",
     "output_type": "stream",
     "text": [
      "Minimum distance (0.024057 AU) occured at time: -56.266266 years.\n"
     ]
    },
    {
     "data": {
      "image/png": "[encoded data removed]",
      "text/plain": [
       "<matplotlib.figure.Figure at 0x10206cd50>"
      ]
     },
     "metadata": {},
     "output_type": "display_data"
    }
   ],
   "source": [
    "fig = plt.figure(figsize=(12,5))\n",
    "ax = plt.subplot(111)\n",
    "ax.set_xlabel(\"time [yrs]\")\n",
    "ax.set_ylabel(\"distance [AU]\")\n",
    "distance = np.sqrt(np.square(x[0]-x[1])+np.square(y[0]-y[1]))\n",
    "plt.plot(-times/year, distance);\n",
    "closeencountertime = -times[np.argmin(distance)]/year\n",
    "print(\"Minimum distance (%f AU) occured at time: %f years.\" % (np.min(distance),closeencountertime))"
   ]
  },
  {
   "cell_type": "markdown",
   "metadata": {},
   "source": [
    "We can see that the minimum distance occured approximately 56 years ago (as of writing this tutorial). Let's see what date that was:"
   ]
  },
  {
   "cell_type": "code",
   "execution_count": 9,
   "metadata": {
    "collapsed": false
   },
   "outputs": [
    {
     "data": {
      "text/plain": [
       "'1959-02-03 09:17'"
      ]
     },
     "execution_count": 9,
     "metadata": {},
     "output_type": "execute_result"
    }
   ],
   "source": [
    "import datetime\n",
    "encounterdate = datetime.datetime.today() + datetime.timedelta(days=365.25*closeencountertime)\n",
    "encounterdate.strftime(\"%Y-%m-%d %H:%M\")"
   ]
  },
  {
   "cell_type": "markdown",
   "metadata": {},
   "source": [
    "According our calculation, the close encounter happened in February 1959. If you check [wikipedia](http://en.wikipedia.org/wiki/67P/Churyumov–Gerasimenko) it turns out we were right (at least approximately)!"
   ]
  },
  {
   "cell_type": "code",
   "execution_count": null,
   "metadata": {
    "collapsed": true
   },
   "outputs": [],
   "source": []
  }
 ],
 "metadata": {
  "kernelspec": {
   "display_name": "Python 2",
   "language": "python",
   "name": "python2"
  },
  "language_info": {
   "codemirror_mode": {
    "name": "ipython",
    "version": 2
   },
   "file_extension": ".py",
   "mimetype": "text/x-python",
   "name": "python",
   "nbconvert_exporter": "python",
   "pygments_lexer": "ipython2",
   "version": "2.7.6"
  }
 },
 "nbformat": 4,
 "nbformat_minor": 0
}
