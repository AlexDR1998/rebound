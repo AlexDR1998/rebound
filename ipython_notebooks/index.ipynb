{
 "cells": [
  {
   "cell_type": "markdown",
   "metadata": {},
   "source": [
    "# REBOUND Tutorials\n",
    "\n",
    "1. [Installing REBOUND](Installation.ipynb)\n",
    "2. [The symplectic integrator WHFast](WHFast.ipynb)\n",
    "3. [Using NASA Horizons and IAS15 to simulate a close encounter of Churyumov–Gerasimenko with Jupiter](Churyumov–Gerasimenko.ipynb)"
   ]
  },
  {
   "cell_type": "code",
   "execution_count": null,
   "metadata": {
    "collapsed": true
   },
   "outputs": [],
   "source": []
  }
 ],
 "metadata": {
  "kernelspec": {
   "display_name": "Python 2",
   "language": "python",
   "name": "python2"
  },
  "language_info": {
   "codemirror_mode": {
    "name": "ipython",
    "version": 2
   },
   "file_extension": ".py",
   "mimetype": "text/x-python",
   "name": "python",
   "nbconvert_exporter": "python",
   "pygments_lexer": "ipython2",
   "version": "2.7.6"
  }
 },
 "nbformat": 4,
 "nbformat_minor": 0
}
