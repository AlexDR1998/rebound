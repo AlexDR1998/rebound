{
 "cells": [
  {
   "cell_type": "code",
   "execution_count": 1,
   "metadata": {
    "collapsed": false
   },
   "outputs": [
    {
     "ename": "TypeError",
     "evalue": "incompatible types, _FuncPtr instance instead of CFunctionType instance",
     "output_type": "error",
     "traceback": [
      "\u001b[0;31m---------------------------------------------------------------------------\u001b[0m",
      "\u001b[0;31mTypeError\u001b[0m                                 Traceback (most recent call last)",
      "\u001b[0;32m<ipython-input-1-0abf669f51f8>\u001b[0m in \u001b[0;36m<module>\u001b[0;34m()\u001b[0m\n\u001b[1;32m      4\u001b[0m \u001b[0;32mimport\u001b[0m \u001b[0mtime\u001b[0m\u001b[0;34m\u001b[0m\u001b[0m\n\u001b[1;32m      5\u001b[0m \u001b[0mstart_time\u001b[0m \u001b[0;34m=\u001b[0m \u001b[0mtime\u001b[0m\u001b[0;34m.\u001b[0m\u001b[0mtime\u001b[0m\u001b[0;34m(\u001b[0m\u001b[0;34m)\u001b[0m\u001b[0;34m\u001b[0m\u001b[0m\n\u001b[0;32m----> 6\u001b[0;31m \u001b[0msim\u001b[0m \u001b[0;34m=\u001b[0m \u001b[0mrebound\u001b[0m\u001b[0;34m.\u001b[0m\u001b[0mSimulation\u001b[0m\u001b[0;34m(\u001b[0m\u001b[0;34m)\u001b[0m\u001b[0;34m\u001b[0m\u001b[0m\n\u001b[0m\u001b[1;32m      7\u001b[0m \u001b[0msim\u001b[0m\u001b[0;34m.\u001b[0m\u001b[0mG\u001b[0m \u001b[0;34m=\u001b[0m \u001b[0;36m4.\u001b[0m\u001b[0;34m*\u001b[0m\u001b[0;34m(\u001b[0m\u001b[0mnp\u001b[0m\u001b[0;34m.\u001b[0m\u001b[0mpi\u001b[0m\u001b[0;34m)\u001b[0m\u001b[0;34m**\u001b[0m\u001b[0;36m2\u001b[0m\u001b[0;34m\u001b[0m\u001b[0m\n\u001b[1;32m      8\u001b[0m \u001b[0msim\u001b[0m\u001b[0;34m.\u001b[0m\u001b[0mintegrator\u001b[0m \u001b[0;34m=\u001b[0m \u001b[0;34m'whfast'\u001b[0m\u001b[0;34m\u001b[0m\u001b[0m\n",
      "\u001b[0;32m/Users/dtamayo/Documents/workspace/rebound/rebound/simulation.py\u001b[0m in \u001b[0;36m__init__\u001b[0;34m(self, filename)\u001b[0m\n\u001b[1;32m    174\u001b[0m             \u001b[0;32melse\u001b[0m\u001b[0;34m:\u001b[0m\u001b[0;34m\u001b[0m\u001b[0m\n\u001b[1;32m    175\u001b[0m                 \u001b[0;32mraise\u001b[0m \u001b[0mValueError\u001b[0m\u001b[0;34m(\u001b[0m\u001b[0;34m\"File does not exist.\"\u001b[0m\u001b[0;34m)\u001b[0m\u001b[0;34m\u001b[0m\u001b[0m\n\u001b[0;32m--> 176\u001b[0;31m         \u001b[0mself\u001b[0m\u001b[0;34m.\u001b[0m\u001b[0msimulation\u001b[0m\u001b[0;34m.\u001b[0m\u001b[0mcontents\u001b[0m\u001b[0;34m.\u001b[0m\u001b[0madditional_forces\u001b[0m \u001b[0;34m=\u001b[0m \u001b[0mclibrebound\u001b[0m\u001b[0;34m.\u001b[0m\u001b[0mreb_create_simulation\u001b[0m\u001b[0;34m\u001b[0m\u001b[0m\n\u001b[0m\u001b[1;32m    177\u001b[0m     \u001b[0mAFF\u001b[0m \u001b[0;34m=\u001b[0m \u001b[0mCFUNCTYPE\u001b[0m\u001b[0;34m(\u001b[0m\u001b[0;32mNone\u001b[0m\u001b[0;34m,\u001b[0m\u001b[0mPOINTER\u001b[0m\u001b[0;34m(\u001b[0m\u001b[0mreb_simulation\u001b[0m\u001b[0;34m)\u001b[0m\u001b[0;34m)\u001b[0m\u001b[0;34m\u001b[0m\u001b[0m\n\u001b[1;32m    178\u001b[0m     \u001b[0mafp\u001b[0m \u001b[0;34m=\u001b[0m \u001b[0;32mNone\u001b[0m \u001b[0;31m# additional forces pointer\u001b[0m\u001b[0;34m\u001b[0m\u001b[0m\n",
      "\u001b[0;31mTypeError\u001b[0m: incompatible types, _FuncPtr instance instead of CFunctionType instance"
     ]
    }
   ],
   "source": [
    "import rebound\n",
    "import reboundxf\n",
    "import numpy as np\n",
    "import time\n",
    "start_time = time.time()\n",
    "sim = rebound.Simulation()\n",
    "sim.G = 4.*(np.pi)**2\n",
    "sim.integrator = 'whfast'\n",
    "sim.dt = 0.012\n",
    "sim.add(m=1.0)\n",
    "sim.add(m=1.e-8, a=1.0, e=0.0, anom = 0)\n",
    "sim.add(m=1.e-5, a=2.1**(2.0/3.0), e=0.0, anom = 0)\n",
    "sim.move_to_com()\n",
    "\n",
    "tmax = 1.e1\n",
    "xf = reboundxf.Params(sim)\n",
    "sim.post_timestep_modifications = reboundxf.modify_elements()\n",
    "xf.e_damping_p = 1.\n",
    "xf.tau_e = [0., 1.e5, 100.]\n",
    "xf.tau_a = [0., 1.e10, 1.e7]\n",
    "xf.tau_pomega = [0., 1.e5, 100.]\n",
    "\n",
    "sim.integrate(tmax)\n",
    "print(time.time() - start_time)"
   ]
  },
  {
   "cell_type": "code",
   "execution_count": null,
   "metadata": {
    "collapsed": false
   },
   "outputs": [],
   "source": [
    "print(type(sim.simulation.contents.free_simulation))"
   ]
  },
  {
   "cell_type": "code",
   "execution_count": null,
   "metadata": {
    "collapsed": true
   },
   "outputs": [],
   "source": []
  },
  {
   "cell_type": "code",
   "execution_count": null,
   "metadata": {
    "collapsed": false
   },
   "outputs": [],
   "source": [
    "print(sim.ptmp)"
   ]
  },
  {
   "cell_type": "code",
   "execution_count": null,
   "metadata": {
    "collapsed": false
   },
   "outputs": [],
   "source": [
    "import rebound\n",
    "import reboundxf\n",
    "import numpy as np\n",
    "sim = rebound.Simulation()\n",
    "sim.force_is_velocity_dependent = 1\n",
    "sim.G = 4.*(np.pi)**2\n",
    "sim.integrator = 'whfast'\n",
    "sim.dt = 0.012\n",
    "sim.add(m=1.0)\n",
    "sim.add(m=1.e-8, a=1.0, e=0.0, anom = 0)\n",
    "sim.add(m=1.e-5, a=2.1**(2.0/3.0), e=0.0, anom = 0)\n",
    "sim.move_to_com()\n",
    "\n",
    "xf = reboundxf.Params(sim)\n",
    "tmax = 1.e1\n",
    "sim.post_timestep_modifications = reboundxf.modify_elements()\n",
    "xf.e_damping_p = 1.\n",
    "xf.tau_e = [0., 1.e5, 100.]\n",
    "xf.tau_a = [0., 1.e10, 1.e7]\n",
    "xf.tau_pomega = [0., 1.e5, 100.]\n",
    "\n",
    "Nout = 1000\n",
    "pratio = np.zeros(Nout)\n",
    "a1 = np.zeros(Nout)\n",
    "a2 = np.zeros(Nout)\n",
    "e1 = np.zeros(Nout)\n",
    "e2 = np.zeros(Nout)\n",
    "po1 = np.zeros(Nout)\n",
    "po2 = np.zeros(Nout)\n",
    "times = np.linspace(0,tmax,Nout)\n",
    "ps = sim.particles\n",
    "for i, time in enumerate(times):\n",
    "    sim.integrate(time)\n",
    "    o1 = ps[1].calculate_orbit(sim)\n",
    "    o2 = ps[2].calculate_orbit(sim)\n",
    "    a1[i] = o1.a\n",
    "    a2[i] = o2.a\n",
    "    e1[i] = o1.e\n",
    "    e2[i] = o2.e\n",
    "    po1[i] = o1.Omega + o1.omega\n",
    "    po2[i] = o2.Omega + o2.omega\n",
    "    pratio[i] = o2.P/o1.P\n",
    "%matplotlib inline\n",
    "import matplotlib.pyplot as plt\n",
    "plt.plot(times,pratio)"
   ]
  },
  {
   "cell_type": "code",
   "execution_count": null,
   "metadata": {
    "collapsed": false
   },
   "outputs": [],
   "source": [
    "print(type(sim.simulation.contents.additional_forces))"
   ]
  },
  {
   "cell_type": "code",
   "execution_count": null,
   "metadata": {
    "collapsed": true
   },
   "outputs": [],
   "source": []
  }
 ],
 "metadata": {
  "kernelspec": {
   "display_name": "Python 3",
   "language": "python",
   "name": "python3"
  },
  "language_info": {
   "codemirror_mode": {
    "name": "ipython",
    "version": 3
   },
   "file_extension": ".py",
   "mimetype": "text/x-python",
   "name": "python",
   "nbconvert_exporter": "python",
   "pygments_lexer": "ipython3",
   "version": "3.4.3"
  }
 },
 "nbformat": 4,
 "nbformat_minor": 0
}
