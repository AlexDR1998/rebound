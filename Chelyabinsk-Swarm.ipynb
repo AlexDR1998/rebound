{
 "cells": [
  {
   "cell_type": "code",
   "execution_count": 1,
   "metadata": {
    "collapsed": false
   },
   "outputs": [],
   "source": [
    "%matplotlib inline\n",
    "import rebound\n",
    "import os\n",
    "import numpy as np\n",
    "import datetime\n",
    "import corner\n",
    "from astropy.time import Time\n",
    "from astropy.coordinates import SkyCoord, EarthLocation, AltAz\n",
    "import matplotlib.pyplot as plt"
   ]
  },
  {
   "cell_type": "code",
   "execution_count": 2,
   "metadata": {
    "collapsed": true
   },
   "outputs": [],
   "source": [
    "def radec2xyz(ra, dec):\n",
    "    x = np.cos(np.pi/180.*dec)*np.cos(np.pi/180.*ra)\n",
    "    y = np.cos(np.pi/180.*dec)*np.sin(np.pi/180.*ra)\n",
    "    z = np.sin(np.pi/180.*dec)\n",
    "    return np.array([x, y, z])\n",
    "\n",
    "def radec2xyz_dra(ra, dec):\n",
    "    x = -np.pi/180.*np.cos(np.pi/180.*dec)*np.sin(np.pi/180.*ra)\n",
    "    y = np.pi/180.*np.cos(np.pi/180.*dec)*np.cos(np.pi/180.*ra)\n",
    "    z = 0.\n",
    "    return np.array([x, y, z])\n",
    "\n",
    "def radec2xyz_ddra(ra, dec):\n",
    "    x = -np.pi/180.*np.pi/180.*np.cos(np.pi/180.*dec)*np.cos(np.pi/180.*ra)\n",
    "    y = -np.pi/180.*np.pi/180.*np.cos(np.pi/180.*dec)*np.sin(np.pi/180.*ra)\n",
    "    z = 0.\n",
    "    return np.array([x, y, z])\n",
    "\n",
    "def radec2xyz_ddec(ra, dec):\n",
    "    x = -np.pi/180.*np.sin(np.pi/180.*dec)*np.cos(np.pi/180.*ra)\n",
    "    y = -np.pi/180.*np.sin(np.pi/180.*dec)*np.sin(np.pi/180.*ra)\n",
    "    z = np.pi/180.*np.cos(np.pi/180.*dec)\n",
    "    return np.array([x, y, z])\n",
    "\n",
    "def radec2xyz_dddec(ra, dec):\n",
    "    x = -np.pi/180.*np.pi/180.*np.cos(np.pi/180.*dec)*np.cos(np.pi/180.*ra)\n",
    "    y = -np.pi/180.*np.pi/180.*np.cos(np.pi/180.*dec)*np.sin(np.pi/180.*ra)\n",
    "    z = -np.pi/180.*np.pi/180.*np.sin(np.pi/180.*dec)\n",
    "    return np.array([x, y, z])\n",
    "\n",
    "def radec2xyz_dra_ddec(ra, dec):\n",
    "    x = np.pi/180.*np.pi/180.*np.sin(np.pi/180.*dec)*np.sin(np.pi/180.*ra)\n",
    "    y = -np.pi/180.*np.pi/180.*np.sin(np.pi/180.*dec)*np.cos(np.pi/180.*ra)\n",
    "    z = 0.\n",
    "    return np.array([x, y, z])\n",
    "\n",
    "def mod360(a):\n",
    "    while a>360.:\n",
    "        a-=360.\n",
    "    while a<0.:\n",
    "        a+=360.\n",
    "    return a"
   ]
  },
  {
   "cell_type": "code",
   "execution_count": 3,
   "metadata": {
    "collapsed": true
   },
   "outputs": [],
   "source": [
    "# Meteor properties:\n",
    "time = \"2013-02-15 03:20:21.1\" # Time [UTC]\n",
    "v = 19.03                      # velocity relative to Earth [km/s]\n",
    "v_err = 0.013                  # ^error\n",
    "ra = 328.12                    # radiant right ascension [degree]\n",
    "ra_err = 0.1                   # ^error\n",
    "dec = 7.41                     # radiant declination [degree]\n",
    "dec_err = 0.05                 # ^error\n",
    "height = 95.*6.6845871e-09     # height [AU]\n",
    "lat = 54.4540                  # latitude [degree]\n",
    "lon = 64.4739                  # longitude [degree]"
   ]
  },
  {
   "cell_type": "code",
   "execution_count": 4,
   "metadata": {
    "collapsed": false
   },
   "outputs": [],
   "source": [
    "# Physical constants\n",
    "re = 4.2587571e-05             # Earth radius [AU]\n",
    "day = 0.017202791              # Earth day [year/(2*pi)]\n",
    "inc = 23.4392911111111         # Inclination of ecliptic [degree]\n",
    "\n",
    "vconv = 0.033572943            # 1km/s in 2*pi*AU/year\n",
    "v *= vconv\n",
    "v_err *= vconv"
   ]
  },
  {
   "cell_type": "code",
   "execution_count": 5,
   "metadata": {
    "collapsed": true
   },
   "outputs": [],
   "source": [
    "event = Time(time, format=\"iso\", scale=\"utc\")\n",
    "aa_frame = AltAz(location=EarthLocation(lat=lat,lon=lon), obstime=event)\n",
    "\n",
    "# Cache Horizon data\n",
    "if not os.path.isfile(\"ss.bin\"):\n",
    "    sim = rebound.Simulation()\n",
    "    te_tcb = datetime.datetime.strptime(event.tcb.iso,\"%Y-%m-%d %H:%M:%S.%f\")\n",
    "    for p in [\"Sun\",\"Mercury\",\"Venus\",\"399\", \"301\", \"Mars\", \"Jupiter\", \"Saturn\"]:\n",
    "        sim.add(p, date=te_tcb, plane=\"frame\")\n",
    "    sim.save(\"ss.bin\")\n",
    "else:\n",
    "    sim = rebound.Simulation.from_file(\"ss.bin\")"
   ]
  },
  {
   "cell_type": "code",
   "execution_count": 6,
   "metadata": {
    "collapsed": false
   },
   "outputs": [],
   "source": [
    "# Create new meteor particle\n",
    "p = sim.particles[3].copy()\n",
    "p.m = 0.\n",
    "\n",
    "# Add velocity of meteor relative to Earth's atmosphere \n",
    "p.vxyz = np.array(p.vxyz) - v*radec2xyz(ra,dec)\n",
    "\n",
    "# Add velocity of Earth's atmosphere relative to Earth\n",
    "east = SkyCoord('90deg 0deg',frame=aa_frame).transform_to(\"icrs\")\n",
    "p.vxyz = np.array(p.vxyz) + 2.*np.pi*np.cos(lat*np.pi/180.)*(re+height)/day *radec2xyz(east.ra.value, east.dec.value)\n",
    "\n",
    "# Add position relative to Earth\n",
    "up = SkyCoord('0deg 90deg',frame=aa_frame).transform_to(\"icrs\")\n",
    "p.xyz = np.array(p.xyz) + (re + height) *radec2xyz(up.ra.value, up.dec.value)\n",
    "\n",
    "sim.add(p)"
   ]
  },
  {
   "cell_type": "code",
   "execution_count": 7,
   "metadata": {
    "collapsed": true
   },
   "outputs": [],
   "source": [
    "# Add variations\n",
    "var_dv = sim.add_variation(testparticle=8)\n",
    "var_dv.particles[0].vxyz = -radec2xyz(ra,dec)\n",
    "\n",
    "var_ddv = sim.add_variation(testparticle=8, order=2, first_order=var_dv)\n",
    "\n",
    "var_dra = sim.add_variation(testparticle=8)\n",
    "var_dra.particles[0].vxyz = -v*radec2xyz_dra(ra,dec)\n",
    "\n",
    "var_ddra = sim.add_variation(testparticle=8, order=2, first_order=var_dra)\n",
    "var_ddra.particles[0].vxyz = -v*radec2xyz_ddra(ra,dec)\n",
    "\n",
    "var_ddec = sim.add_variation(testparticle=8)\n",
    "var_ddec.particles[0].vxyz = -v*radec2xyz_ddec(ra,dec)\n",
    "\n",
    "var_dddec = sim.add_variation(testparticle=8, order=2, first_order=var_ddec)\n",
    "var_dddec.particles[0].vxyz = -v*radec2xyz_dddec(ra,dec)\n",
    "\n",
    "var_dra_ddec = sim.add_variation(testparticle=8, order=2, first_order=var_dra, first_order_2=var_ddec)\n",
    "var_dra_ddec.particles[0].vxyz = -v*radec2xyz_dra_ddec(ra,dec)\n",
    "\n",
    "var_dv_dra = sim.add_variation(testparticle=8, order=2, first_order=var_dra, first_order_2=var_dv)\n",
    "var_dv_dra.particles[0].vxyz = -radec2xyz_ddra(ra,dec)\n",
    "\n",
    "var_dv_ddec = sim.add_variation(testparticle=8, order=2, first_order=var_ddec, first_order_2=var_dv)\n",
    "var_dv_ddec.particles[0].vxyz = -radec2xyz_ddec(ra,dec)"
   ]
  },
  {
   "cell_type": "code",
   "execution_count": 8,
   "metadata": {
    "collapsed": true
   },
   "outputs": [],
   "source": [
    "sim.dt = 1e-6\n",
    "sim.ri_ias15.min_dt = sim.dt\n",
    "sim.integrate(-60.*day)\n",
    "\n",
    "# Rotate to ecliptic frame to calculate orbital parameters\n",
    "cos = np.cos(inc/180.*np.pi)\n",
    "sin = np.sin(inc/180.*np.pi)\n",
    "for p in sim.particles:\n",
    "    p.y, p.z = cos*p.y + sin*p.z, -sin*p.y + cos*p.z\n",
    "    p.vy, p.vz = cos*p.vy + sin*p.vz, -sin*p.vy + cos*p.vz"
   ]
  },
  {
   "cell_type": "code",
   "execution_count": 49,
   "metadata": {
    "collapsed": false
   },
   "outputs": [],
   "source": [
    "def get_shadow_particle(dv, dra, ddec):\n",
    "    p = sim.particles[8].copy()\n",
    "    p += dv*            var_dv.particles[0]\n",
    "    p += dra*           var_dra.particles[0] \n",
    "    p += ddec*          var_ddec.particles[0] \n",
    "    p += 0.5*dv*dv*     var_ddv.particles[0]       \n",
    "    p += 0.5*dra*dra*   var_ddra.particles[0]       \n",
    "    p += 0.5*ddec*ddec* var_dddec.particles[0]\n",
    "    p += dra*ddec*      var_dra_ddec.particles[0]\n",
    "    p += dv*dra*        var_dv_dra.particles[0]\n",
    "    p += dv*ddec*       var_dv_ddec.particles[0]\n",
    "    return p\n",
    "\n",
    "simn = rebound.Simulation()\n",
    "simn.t = -60.*day\n",
    "for i in range(8):\n",
    "    simn.add(sim.particles[i])\n",
    "simn.N_active = simn.N\n",
    "\n",
    "N= 1000\n",
    "for i in range(N):\n",
    "    dv   = v_err   * np.random.normal()\n",
    "    dra  = ra_err  * np.random.normal()\n",
    "    ddec = dec_err * np.random.normal()\n",
    "    p = get_shadow_particle(dv, dra, ddec)\n",
    "    simn.add(p)\n",
    "\n",
    "samples = np.zeros((N,3))\n",
    "for i in range(N):\n",
    "    samples[i] = simn.particles[simn.N_active+i].xyz\n",
    "    "
   ]
  },
  {
   "cell_type": "code",
   "execution_count": 50,
   "metadata": {
    "collapsed": true
   },
   "outputs": [],
   "source": [
    "sim.integrate(-130.*365.*day)\n",
    "simn.integrate(-130.*365.*day)"
   ]
  },
  {
   "cell_type": "code",
   "execution_count": 54,
   "metadata": {
    "collapsed": false
   },
   "outputs": [
    {
     "data": {
      "text/plain": [
       "[<matplotlib.lines.Line2D at 0x14e4c5630>]"
      ]
     },
     "execution_count": 54,
     "metadata": {},
     "output_type": "execute_result"
    },
    {
     "data": {
      "image/png": "[encoded data removed]",
      "text/plain": [
       "<matplotlib.figure.Figure at 0x14e4c55f8>"
      ]
     },
     "metadata": {},
     "output_type": "display_data"
    }
   ],
   "source": [
    "f = rebound.OrbitPlot(sim,lim=5.9)\n",
    "samples = np.zeros((N,3))\n",
    "for i in range(N):\n",
    "    samples[i] = simn.particles[simn.N_active+i].xyz\n",
    "    \n",
    "f.axes[0].plot(samples[:,0],samples[:,1],\"ro\",alpha=0.25)"
   ]
  },
  {
   "cell_type": "code",
   "execution_count": null,
   "metadata": {
    "collapsed": true
   },
   "outputs": [],
   "source": []
  },
  {
   "cell_type": "code",
   "execution_count": null,
   "metadata": {
    "collapsed": true
   },
   "outputs": [],
   "source": []
  },
  {
   "cell_type": "code",
   "execution_count": null,
   "metadata": {
    "collapsed": true
   },
   "outputs": [],
   "source": []
  },
  {
   "cell_type": "code",
   "execution_count": null,
   "metadata": {
    "collapsed": true
   },
   "outputs": [],
   "source": []
  },
  {
   "cell_type": "code",
   "execution_count": null,
   "metadata": {
    "collapsed": true
   },
   "outputs": [],
   "source": []
  },
  {
   "cell_type": "code",
   "execution_count": null,
   "metadata": {
    "collapsed": true
   },
   "outputs": [],
   "source": []
  },
  {
   "cell_type": "code",
   "execution_count": null,
   "metadata": {
    "collapsed": true
   },
   "outputs": [],
   "source": []
  }
 ],
 "metadata": {
  "kernelspec": {
   "display_name": "Python 3",
   "language": "python",
   "name": "python3"
  },
  "language_info": {
   "codemirror_mode": {
    "name": "ipython",
    "version": 3
   },
   "file_extension": ".py",
   "mimetype": "text/x-python",
   "name": "python",
   "nbconvert_exporter": "python",
   "pygments_lexer": "ipython3",
   "version": "3.5.1"
  },
  "widgets": {
   "state": {},
   "version": "1.0.0"
  }
 },
 "nbformat": 4,
 "nbformat_minor": 0
}
