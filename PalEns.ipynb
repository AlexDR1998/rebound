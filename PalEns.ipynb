{
 "cells": [
  {
   "cell_type": "code",
   "execution_count": 1,
   "metadata": {
    "collapsed": false
   },
   "outputs": [
    {
     "name": "stderr",
     "output_type": "stream",
     "text": [
      "/Users/rein/git/rebound/venv/lib/python2.7/site-packages/matplotlib/font_manager.py:273: UserWarning: Matplotlib is building the font cache using fc-list. This may take a moment.\n",
      "  warnings.warn('Matplotlib is building the font cache using fc-list. This may take a moment.')\n"
     ]
    }
   ],
   "source": [
    "import rebound\n",
    "%matplotlib inline\n",
    "import matplotlib.pyplot as plt\n",
    "import observations\n",
    "import state\n",
    "import mcmc\n",
    "import numpy as np\n",
    "import corner\n",
    "from ipywidgets import FloatProgress\n",
    "from IPython.display import display"
   ]
  },
  {
   "cell_type": "markdown",
   "metadata": {},
   "source": [
    "# Setting up fake observations"
   ]
  },
  {
   "cell_type": "code",
   "execution_count": 2,
   "metadata": {
    "collapsed": false
   },
   "outputs": [],
   "source": [
    "true_state = state.State(planets=[{\"m\":1e-3, \"a\":1., \"h\":0.2, \"k\":0.0, \"l\":0.}])\n",
    "obs = observations.FakeObservation(true_state, Npoints=100, error=1e-4, tmax=10.)"
   ]
  },
  {
   "cell_type": "code",
   "execution_count": 3,
   "metadata": {
    "collapsed": false
   },
   "outputs": [],
   "source": [
    "#fig = plt.figure(figsize=(10,5))\n",
    "#ax = plt.subplot(111)\n",
    "#ax.plot(*true_state.get_rv_plotting(tmax=10.))\n",
    "#ax.plot(obs.t, obs.rv, \".\")"
   ]
  },
  {
   "cell_type": "code",
   "execution_count": null,
   "metadata": {
    "collapsed": true
   },
   "outputs": [],
   "source": []
  },
  {
   "cell_type": "markdown",
   "metadata": {},
   "source": [
    "# PalEns \n",
    "Starting from exact solution."
   ]
  },
  {
   "cell_type": "code",
   "execution_count": null,
   "metadata": {
    "collapsed": false
   },
   "outputs": [],
   "source": [
    "Nwalkers = 8\n",
    "palens = mcmc.PalEns(true_state,obs,scales={\"m\":1e-3, \"a\":1., \"h\":0.5, \"k\":0.5, \"l\":np.pi},nwalkers=Nwalkers)\n",
    "Niter = 100\n",
    "chain = np.zeros((Niter,Nwalkers,palens.state.Nvars))\n",
    "chainlogp = np.zeros((Niter,Nwalkers))\n",
    "tries = 0\n",
    "f = FloatProgress(min=0, max=Niter)\n",
    "display(f)\n",
    "for i in range(Niter):\n",
    "    tries += palens.step_force()\n",
    "    for k in range(Nwalkers):\n",
    "        chain[i][k] = palens.states[k].get_params()\n",
    "        chainlogp[i][k] = palens.states[k].logp\n",
    "    f.value = i\n",
    "print(\"Acceptance rate: %.2f%%\"%(float(Niter)/tries*100))"
   ]
  },
  {
   "cell_type": "code",
   "execution_count": null,
   "metadata": {
    "collapsed": false
   },
   "outputs": [],
   "source": [
    "f, axs = plt.subplots(true_state.Nvars+1,Nwalkers,figsize=(15,8))\n",
    "for i in range(true_state.Nvars):\n",
    "    for k in range(Nwalkers):\n",
    "        ax = axs[i,k]\n",
    "        ax.set_ylabel(true_state.get_keys()[i])\n",
    "        ax.plot(chain[:,k,i])\n",
    "for k in range(Nwalkers):\n",
    "    ax = axs[true_state.Nvars,k]\n",
    "    ax.set_ylabel(\"$\\log(p)$\")\n",
    "    ax.plot(chainlogp[:,k])    "
   ]
  },
  {
   "cell_type": "code",
   "execution_count": null,
   "metadata": {
    "collapsed": false
   },
   "outputs": [],
   "source": [
    "fig = plt.figure(figsize=(10,5))\n",
    "ax = plt.subplot(111)\n",
    "for c in np.random.choice(Niter,100):\n",
    "    k = np.random.randint(Nwalkers)\n",
    "    s = palens.state.deepcopy()\n",
    "    s.set_params(chain[c,k])\n",
    "    ax.plot(*s.get_rv_plotting(tmax=10.), alpha=0.1, color=\"gray\")\n",
    "ax.plot(*true_state.get_rv_plotting(tmax=10.), color=\"blue\")\n",
    "ax.plot(obs.t, obs.rv, \"r.\")    "
   ]
  },
  {
   "cell_type": "code",
   "execution_count": null,
   "metadata": {
    "collapsed": false
   },
   "outputs": [],
   "source": [
    "figure = corner.corner(np.reshape(chain,(Nwalkers*Niter,true_state.Nvars)), labels=s.get_keys(), plot_contours=False, truths=true_state.get_params(),label_kwargs={\"fontsize\":20})"
   ]
  },
  {
   "cell_type": "code",
   "execution_count": null,
   "metadata": {
    "collapsed": true
   },
   "outputs": [],
   "source": []
  },
  {
   "cell_type": "code",
   "execution_count": null,
   "metadata": {
    "collapsed": true
   },
   "outputs": [],
   "source": []
  },
  {
   "cell_type": "code",
   "execution_count": null,
   "metadata": {
    "collapsed": true
   },
   "outputs": [],
   "source": []
  },
  {
   "cell_type": "code",
   "execution_count": null,
   "metadata": {
    "collapsed": true
   },
   "outputs": [],
   "source": []
  }
 ],
 "metadata": {
  "kernelspec": {
   "display_name": "Python 2",
   "language": "python",
   "name": "python2"
  },
  "language_info": {
   "codemirror_mode": {
    "name": "ipython",
    "version": 2
   },
   "file_extension": ".py",
   "mimetype": "text/x-python",
   "name": "python",
   "nbconvert_exporter": "python",
   "pygments_lexer": "ipython2",
   "version": "2.7.10"
  }
 },
 "nbformat": 4,
 "nbformat_minor": 0
}
