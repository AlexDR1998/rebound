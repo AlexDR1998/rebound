{
 "cells": [
  {
   "cell_type": "code",
   "execution_count": 10,
   "metadata": {
    "collapsed": false
   },
   "outputs": [],
   "source": [
    "import rebound\n",
    "%matplotlib inline\n",
    "import matplotlib.pyplot as plt\n",
    "import observations\n",
    "import state\n",
    "import numpy as np"
   ]
  },
  {
   "cell_type": "code",
   "execution_count": 2,
   "metadata": {
    "collapsed": false
   },
   "outputs": [],
   "source": [
    "true_state = state.State(planets=[{\"m\":1e-3, \"a\":1., \"h\":0.2}])\n",
    "obs = observations.FakeObservation(true_state, Npoints=100, error=1e-4, tmax=10.)"
   ]
  },
  {
   "cell_type": "code",
   "execution_count": 3,
   "metadata": {
    "collapsed": false
   },
   "outputs": [
    {
     "data": {
      "text/plain": [
       "[<matplotlib.lines.Line2D at 0x10bdddc10>]"
      ]
     },
     "execution_count": 3,
     "metadata": {},
     "output_type": "execute_result"
    },
    {
     "data": {
      "image/png": "[encoded data removed]",
      "text/plain": [
       "<matplotlib.figure.Figure at 0x10dbedc10>"
      ]
     },
     "metadata": {},
     "output_type": "display_data"
    }
   ],
   "source": [
    "fig = plt.figure(figsize=(10,5))\n",
    "ax = plt.subplot(111)\n",
    "times, rv = true_state.get_rv_plotting(tmax=10.)\n",
    "ax.plot(times, rv)\n",
    "ax.plot(obs.t, obs.rv, \".\")"
   ]
  },
  {
   "cell_type": "code",
   "execution_count": 4,
   "metadata": {
    "collapsed": false
   },
   "outputs": [
    {
     "data": {
      "text/plain": [
       "0.8236261209363378"
      ]
     },
     "execution_count": 4,
     "metadata": {},
     "output_type": "execute_result"
    }
   ],
   "source": [
    "true_state.get_chi2(obs)"
   ]
  },
  {
   "cell_type": "code",
   "execution_count": 5,
   "metadata": {
    "collapsed": false
   },
   "outputs": [
    {
     "data": {
      "text/plain": [
       "0.8236261209363378"
      ]
     },
     "execution_count": 5,
     "metadata": {},
     "output_type": "execute_result"
    }
   ],
   "source": [
    "varState = state.StateVar(planets=[{\"m\":1e-3, \"a\":1., \"h\":0.2, \"k\":0.}], ignore_vars=[\"a\",\"m\"])\n",
    "\n",
    "varState.get_chi2(obs)"
   ]
  },
  {
   "cell_type": "code",
   "execution_count": 6,
   "metadata": {
    "collapsed": false
   },
   "outputs": [
    {
     "name": "stdout",
     "output_type": "stream",
     "text": [
      "[['h', 'k']]\n"
     ]
    }
   ],
   "source": [
    "print(varState.planets_vars)"
   ]
  },
  {
   "cell_type": "code",
   "execution_count": 7,
   "metadata": {
    "collapsed": false
   },
   "outputs": [
    {
     "data": {
      "text/plain": [
       "(0.82362612093634158,\n",
       " array([-0.47582265, -1.38635811]),\n",
       " array([[ 127.19253159,   -6.64105744],\n",
       "        [  -6.64105744,  123.08841551]]))"
      ]
     },
     "execution_count": 7,
     "metadata": {},
     "output_type": "execute_result"
    }
   ],
   "source": []
  },
  {
   "cell_type": "code",
   "execution_count": 19,
   "metadata": {
    "collapsed": false
   },
   "outputs": [
    {
     "name": "stdout",
     "output_type": "stream",
     "text": [
      "[-0.46946273 -1.38020369]\n",
      "[-0.47582265 -1.38635811]\n",
      "[[ 127.19253067   -6.64105646]\n",
      " [  -6.64105646  123.08841714]]\n",
      "[[ 127.19253159   -6.64105744]\n",
      " [  -6.64105744  123.08841551]]\n"
     ]
    }
   ],
   "source": [
    "Delta = 1e-4\n",
    "s = state.StateVar(planets=[{\"m\":1e-3, \"a\":1., \"h\":0.2, \"k\":0.}], ignore_vars=[\"a\",\"m\"])\n",
    "chi2 = s.get_chi2(obs)\n",
    "fd_d = np.zeros(s.Nvars)\n",
    "fd_dd = np.zeros((s.Nvars,s.Nvars))\n",
    "for i in range(s.Nvars):\n",
    "    shift = np.zeros(s.Nvars)\n",
    "    shift[i] = Delta\n",
    "    s.shift(shift);\n",
    "    chi2p = s.get_chi2(obs)\n",
    "    s.shift(-shift);\n",
    "    fd_d[i] = (chi2p-chi2)/Delta\n",
    "    for j in range(s.Nvars):\n",
    "        shift = np.zeros(s.Nvars)\n",
    "        shift[i] += Delta\n",
    "        shift[j] += Delta\n",
    "        s.shift(shift);\n",
    "        chi2pp = s.get_chi2(obs)\n",
    "        s.shift(-shift);\n",
    "        \n",
    "        shift = np.zeros(s.Nvars)\n",
    "        shift[i] -= Delta\n",
    "        shift[j] += Delta\n",
    "        s.shift(shift);\n",
    "        chi2mp = s.get_chi2(obs)\n",
    "        s.shift(-shift);\n",
    "        \n",
    "        shift = np.zeros(s.Nvars)\n",
    "        shift[i] += Delta\n",
    "        shift[j] -= Delta\n",
    "        s.shift(shift);\n",
    "        chi2pm = s.get_chi2(obs)\n",
    "        s.shift(-shift);\n",
    "        \n",
    "        shift = np.zeros(s.Nvars)\n",
    "        shift[i] -= Delta\n",
    "        shift[j] -= Delta\n",
    "        s.shift(shift);\n",
    "        chi2mm = s.get_chi2(obs)\n",
    "        s.shift(-shift);\n",
    "        \n",
    "        fd_dd[i][j] = (chi2pp-chi2mp-chi2pm+chi2mm)/(4.*Delta**2)\n",
    "\n",
    "chi2, v_d, v_dd = s.get_chi2_d_dd(obs)\n",
    "\n",
    "print(fd_d)\n",
    "print(v_d)\n",
    "print(fd_dd)\n",
    "print(v_dd)\n",
    "\n"
   ]
  },
  {
   "cell_type": "code",
   "execution_count": null,
   "metadata": {
    "collapsed": true
   },
   "outputs": [],
   "source": []
  },
  {
   "cell_type": "code",
   "execution_count": null,
   "metadata": {
    "collapsed": true
   },
   "outputs": [],
   "source": []
  },
  {
   "cell_type": "code",
   "execution_count": null,
   "metadata": {
    "collapsed": true
   },
   "outputs": [],
   "source": []
  },
  {
   "cell_type": "code",
   "execution_count": null,
   "metadata": {
    "collapsed": true
   },
   "outputs": [],
   "source": []
  }
 ],
 "metadata": {
  "kernelspec": {
   "display_name": "Python 2",
   "language": "python",
   "name": "python2"
  },
  "language_info": {
   "codemirror_mode": {
    "name": "ipython",
    "version": 2
   },
   "file_extension": ".py",
   "mimetype": "text/x-python",
   "name": "python",
   "nbconvert_exporter": "python",
   "pygments_lexer": "ipython2",
   "version": "2.7.10"
  }
 },
 "nbformat": 4,
 "nbformat_minor": 0
}
