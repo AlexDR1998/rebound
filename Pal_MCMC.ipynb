{
 "cells": [
  {
   "cell_type": "code",
   "execution_count": 1,
   "metadata": {
    "collapsed": false
   },
   "outputs": [
    {
     "name": "stderr",
     "output_type": "stream",
     "text": [
      "/Users/rein/git/rebound/venv/lib/python2.7/site-packages/matplotlib/font_manager.py:273: UserWarning: Matplotlib is building the font cache using fc-list. This may take a moment.\n",
      "  warnings.warn('Matplotlib is building the font cache using fc-list. This may take a moment.')\n"
     ]
    }
   ],
   "source": [
    "import rebound\n",
    "%matplotlib inline\n",
    "import matplotlib.pyplot as plt\n",
    "import observations\n",
    "import state\n",
    "import mcmc\n",
    "import numpy as np"
   ]
  },
  {
   "cell_type": "code",
   "execution_count": 2,
   "metadata": {
    "collapsed": false
   },
   "outputs": [],
   "source": [
    "true_state = state.State(planets=[{\"m\":1e-3, \"a\":1., \"h\":0.2}])\n",
    "obs = observations.FakeObservation(true_state, Npoints=100, error=1e-4, tmax=10.)"
   ]
  },
  {
   "cell_type": "code",
   "execution_count": 3,
   "metadata": {
    "collapsed": false
   },
   "outputs": [],
   "source": [
    "#fig = plt.figure(figsize=(10,5))\n",
    "#ax = plt.subplot(111)\n",
    "#times, rv = true_state.get_rv_plotting(tmax=10.)\n",
    "#ax.plot(times, rv)\n",
    "#ax.plot(obs.t, obs.rv, \".\")"
   ]
  },
  {
   "cell_type": "code",
   "execution_count": 4,
   "metadata": {
    "collapsed": false
   },
   "outputs": [
    {
     "data": {
      "text/plain": [
       "92.622928598526983"
      ]
     },
     "execution_count": 4,
     "metadata": {},
     "output_type": "execute_result"
    }
   ],
   "source": [
    "varState = state.StateVar(planets=[{\"m\":1e-3, \"a\":1., \"h\":0.2, \"k\":0., \"l\":1.4}], ignore_vars=[\"a\",\"m\"])\n",
    "\n",
    "varState.get_chi2(obs)"
   ]
  },
  {
   "cell_type": "code",
   "execution_count": 5,
   "metadata": {
    "collapsed": false
   },
   "outputs": [
    {
     "name": "stdout",
     "output_type": "stream",
     "text": [
      "First order:\n",
      "[ 33.98108205 -38.35868678  80.80293712]\n",
      "[ 33.98392686 -38.35948876  80.8047794 ]\n",
      "\n",
      "Second order:\n",
      "[[-56.88327995 -26.87977307 -69.24770943]\n",
      " [-26.87977307  16.02522524 -84.47840187]\n",
      " [-69.24770943 -84.47840187 -36.84355825]]\n",
      "[[-56.88326162 -26.87976424 -69.24771385]\n",
      " [-26.87976424  16.02523879 -84.47839284]\n",
      " [-69.24771385 -84.47839284 -36.84355767]]\n"
     ]
    }
   ],
   "source": [
    "Delta = 1e-4\n",
    "s = state.StateVar(planets=[{\"m\":1e-3, \"a\":1., \"h\":0.2, \"k\":0., \"l\":1.4}], ignore_vars=[\"a\",\"m\"])\n",
    "chi2 = s.get_chi2(obs)\n",
    "fd_d = np.zeros(s.Nvars)\n",
    "fd_dd = np.zeros((s.Nvars,s.Nvars))\n",
    "for i in range(s.Nvars):\n",
    "    shift = np.zeros(s.Nvars)\n",
    "    shift[i] = Delta\n",
    "    s.shift(shift);\n",
    "    chi2p = s.get_chi2(obs)\n",
    "    s.shift(-shift);\n",
    "    fd_d[i] = (chi2p-chi2)/Delta\n",
    "    for j in range(s.Nvars):\n",
    "        shift = np.zeros(s.Nvars)\n",
    "        shift[i] += Delta\n",
    "        shift[j] += Delta\n",
    "        s.shift(shift);\n",
    "        chi2pp = s.get_chi2(obs)\n",
    "        s.shift(-shift);\n",
    "        \n",
    "        shift = np.zeros(s.Nvars)\n",
    "        shift[i] -= Delta\n",
    "        shift[j] += Delta\n",
    "        s.shift(shift);\n",
    "        chi2mp = s.get_chi2(obs)\n",
    "        s.shift(-shift);\n",
    "        \n",
    "        shift = np.zeros(s.Nvars)\n",
    "        shift[i] += Delta\n",
    "        shift[j] -= Delta\n",
    "        s.shift(shift);\n",
    "        chi2pm = s.get_chi2(obs)\n",
    "        s.shift(-shift);\n",
    "        \n",
    "        shift = np.zeros(s.Nvars)\n",
    "        shift[i] -= Delta\n",
    "        shift[j] -= Delta\n",
    "        s.shift(shift);\n",
    "        chi2mm = s.get_chi2(obs)\n",
    "        s.shift(-shift);\n",
    "        \n",
    "        fd_dd[i][j] = (chi2pp-chi2mp-chi2pm+chi2mm)/(4.*Delta**2)\n",
    "\n",
    "chi2, v_d, v_dd = s.get_chi2_d_dd(obs)\n",
    "\n",
    "print(\"First order:\")\n",
    "print(fd_d)\n",
    "print(v_d)\n",
    "print(\"\\nSecond order:\")\n",
    "print(fd_dd)\n",
    "print(v_dd)\n",
    "\n"
   ]
  },
  {
   "cell_type": "code",
   "execution_count": 9,
   "metadata": {
    "collapsed": false
   },
   "outputs": [
    {
     "data": {
      "text/plain": [
       "[{'a': 1.0,\n",
       "  'h': 0.20203361574567361,\n",
       "  'k': 0.00043313013576109762,\n",
       "  'l': 1.3993607125183578,\n",
       "  'm': 0.001}]"
      ]
     },
     "execution_count": 9,
     "metadata": {},
     "output_type": "execute_result"
    }
   ],
   "source": [
    "mh = mcmc.Mh(s,obs)\n",
    "mh.scales = 1e-3*np.ones(s.Nvars)\n",
    "mh.generate_proposal().planets"
   ]
  },
  {
   "cell_type": "code",
   "execution_count": null,
   "metadata": {
    "collapsed": true
   },
   "outputs": [],
   "source": []
  },
  {
   "cell_type": "code",
   "execution_count": null,
   "metadata": {
    "collapsed": true
   },
   "outputs": [],
   "source": []
  },
  {
   "cell_type": "code",
   "execution_count": null,
   "metadata": {
    "collapsed": true
   },
   "outputs": [],
   "source": []
  },
  {
   "cell_type": "code",
   "execution_count": null,
   "metadata": {
    "collapsed": true
   },
   "outputs": [],
   "source": []
  },
  {
   "cell_type": "code",
   "execution_count": null,
   "metadata": {
    "collapsed": true
   },
   "outputs": [],
   "source": []
  },
  {
   "cell_type": "code",
   "execution_count": null,
   "metadata": {
    "collapsed": true
   },
   "outputs": [],
   "source": []
  },
  {
   "cell_type": "code",
   "execution_count": null,
   "metadata": {
    "collapsed": true
   },
   "outputs": [],
   "source": []
  }
 ],
 "metadata": {
  "kernelspec": {
   "display_name": "Python 2",
   "language": "python",
   "name": "python2"
  },
  "language_info": {
   "codemirror_mode": {
    "name": "ipython",
    "version": 2
   },
   "file_extension": ".py",
   "mimetype": "text/x-python",
   "name": "python",
   "nbconvert_exporter": "python",
   "pygments_lexer": "ipython2",
   "version": "2.7.10"
  }
 },
 "nbformat": 4,
 "nbformat_minor": 0
}
