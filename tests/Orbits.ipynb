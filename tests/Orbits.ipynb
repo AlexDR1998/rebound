{
 "cells": [
  {
   "cell_type": "code",
   "execution_count": 4,
   "metadata": {
    "collapsed": false
   },
   "outputs": [
    {
     "name": "stdout",
     "output_type": "stream",
     "text": [
      "<rebound.Particle object, id=-1 m=0.0 x=0.9553364891256051 y=0.29552020666133927 z=0.0 vx=-0.29552020666133955 vy=0.955336489125607 vz=0.0>\n",
      "<rebound.Orbit instance, a=0.9999999999999996 e=7.447602459741814e-16 inc=0.0 Omega=3.141592653589793 omega=3.141592653589793 f=0.4636476090008069>\n",
      "<rebound.Particle object, id=-1 m=0.0 x=0.9553364891256051 y=0.29552020666133927 z=0.0 vx=-0.29552020666133955 vy=0.955336489125607 vz=0.0>\n"
     ]
    }
   ],
   "source": [
    "import rebound\n",
    "sim = rebound.Simulation()\n",
    "sim.add(m=1.)\n",
    "sim.add(m=0.,a=1.,e=1.e-15, f=0.3)\n",
    "print(sim.particles[1])\n",
    "o = sim.calculate_orbits()\n",
    "print(o[0])\n",
    "print(sim.particles[1])\n",
    "orbs = sim.calculate_orbits()\n"
   ]
  },
  {
   "cell_type": "code",
   "execution_count": 1,
   "metadata": {
    "collapsed": false
   },
   "outputs": [
    {
     "data": {
      "image/png": "[encoded data removed]",
      "text/plain": [
       "<matplotlib.figure.Figure at 0x106da9a20>"
      ]
     },
     "metadata": {},
     "output_type": "display_data"
    }
   ],
   "source": [
    "import rebound\n",
    "import random\n",
    "import numpy as np\n",
    "\n",
    "def simulation(par):\n",
    "    e,f = par\n",
    "    e = 10**e\n",
    "    f = 10**f\n",
    "    sim = rebound.Simulation()\n",
    "    sim.add(m=1.)\n",
    "    inc = 0.3\n",
    "    Omega = random.random()*2*np.pi\n",
    "    omega = random.random()*2*np.pi\n",
    "    sim.add(m=0.,a=1.,e=e,inc=inc,Omega=Omega, omega=omega,f=f)\n",
    "    o=sim.calculate_orbits()[0]\n",
    "    if o.omega < 0:\n",
    "        o.omega += 2*np.pi\n",
    "    if o.Omega < 0:\n",
    "        o.Omega += 2*np.pi\n",
    "    if o.f < 0:\n",
    "        o.f += 2*np.pi\n",
    "    return np.sqrt((o.a-1.)**2 + ((o.e-e)/e)**2 + ((o.inc-inc)/inc)**2 + ((o.Omega-Omega)/Omega)**2 + ((o.omega-omega)/omega)**2 + ((o.f-f)/f)**2)\n",
    "\n",
    "random.seed(71)\n",
    "N = 10\n",
    "es = np.linspace(-16.,-14.,N)\n",
    "fs = np.linspace(-16.,-14.,N)\n",
    "params = [(e,f) for e in es for f in fs]\n",
    "\n",
    "pool=rebound.InterruptiblePool()\n",
    "res = pool.map(simulation, params)\n",
    "res = np.array(res).reshape(N,N)\n",
    "res = np.nan_to_num(res)\n",
    "\n",
    "%matplotlib inline\n",
    "import matplotlib.pyplot as plt\n",
    "from matplotlib import ticker\n",
    "from matplotlib.colors import LogNorm\n",
    "import matplotlib\n",
    "\n",
    "f,ax = plt.subplots(1,1,figsize=(7,5))\n",
    "extent=[fs.min(), fs.max(), es.min(), es.max()]\n",
    "\n",
    "ax.set_xlim(extent[0], extent[1])\n",
    "ax.set_ylim(extent[2], extent[3])\n",
    "ax.set_xlabel(r\"true anomaly (f)\")\n",
    "ax.set_ylabel(r\"eccentricity\")\n",
    "\n",
    "im = ax.imshow(res, norm=LogNorm(), vmax=1., vmin=1.e-16, aspect='auto', origin=\"lower\", interpolation='nearest', cmap=\"RdYlGn_r\", extent=extent)\n",
    "cax,kw = matplotlib.colorbar.make_axes([ax])\n",
    "cb = plt.colorbar(im, cax=cax, **kw)\n",
    "cb.solids.set_rasterized(True)\n",
    "cb.set_label(\"Relative Error\")"
   ]
  },
  {
   "cell_type": "code",
   "execution_count": 2,
   "metadata": {
    "collapsed": false
   },
   "outputs": [
    {
     "name": "stdout",
     "output_type": "stream",
     "text": [
      "[[  3.12011158e+16   1.93317718e+16   1.10659770e+16   6.46736255e+15\n",
      "    4.71929938e+15   1.21621055e+15   2.89722451e+13   1.31125023e+15\n",
      "    7.86073859e+14   3.28895413e+14]\n",
      " [  4.71238898e+16   2.13056888e+16   5.64514930e+15   3.38417810e+15\n",
      "    6.08628441e+15   1.48979118e+14   2.81643609e+15   4.37083409e+14\n",
      "    1.81726137e+13   6.03820664e+14]\n",
      " [  2.44978663e+15   9.41667658e+15   1.22756053e+16   4.95993065e+14\n",
      "    7.45326944e+15   2.24274302e+15   1.55815833e+15   1.65620419e+15\n",
      "    2.62024620e+14   6.00901786e+14]\n",
      " [  5.88396454e+16   3.07169411e+15   5.64514930e+15   4.20734532e+13\n",
      "    2.49119669e+14   4.41518364e+15   5.41466567e+13   5.99245592e+13\n",
      "    2.58550148e+13   1.75763148e+12]\n",
      " [  7.79666338e+14   3.07169411e+15   2.09199538e+16   7.13324873e+14\n",
      "    6.04971071e+13   1.08712846e+00   2.89263505e+14   8.69266922e+12\n",
      "    6.32474779e+13   6.17424335e+14]\n",
      " [  6.21687641e+16   7.14726375e+14   6.01642350e+12   1.06512769e+14\n",
      "    8.08478072e+15   4.76855864e+15   2.88742403e+15   1.21659392e+13\n",
      "    5.47149181e+12   8.92833418e+11]\n",
      " [  6.24910760e+16   6.24440176e+13   2.23811459e+16   4.03909176e+13\n",
      "    4.23637740e+13   6.93764862e+13   3.33041486e+13   2.43934063e+13\n",
      "    2.02710572e+12   3.12498983e+11]\n",
      " [  6.27031837e+16   1.00267711e+00   2.24332773e+16   1.34652047e+16\n",
      "    8.05706603e+15   1.05849768e+13   2.90615914e+15   1.55275141e+12\n",
      "    1.04744688e+15   4.09926482e+12]\n",
      " [  6.27841104e+16   3.76372181e+16   2.25764377e+16   5.11582065e+13\n",
      "    1.00068795e+00   4.25661509e+12   2.91123607e+15   2.57637027e+12\n",
      "    6.51598458e+11   2.31481068e+11]\n",
      " [  4.97154995e+13   3.76137641e+16   2.25735781e+16   2.29520654e+12\n",
      "    8.11160604e+15   4.85824352e+15   2.83789259e+12   1.74427602e+15\n",
      "    3.33377207e+11   2.54754884e+11]]\n"
     ]
    }
   ],
   "source": [
    "print(res)"
   ]
  },
  {
   "cell_type": "code",
   "execution_count": null,
   "metadata": {
    "collapsed": true
   },
   "outputs": [],
   "source": []
  }
 ],
 "metadata": {
  "kernelspec": {
   "display_name": "Python 3",
   "language": "python",
   "name": "python3"
  },
  "language_info": {
   "codemirror_mode": {
    "name": "ipython",
    "version": 3
   },
   "file_extension": ".py",
   "mimetype": "text/x-python",
   "name": "python",
   "nbconvert_exporter": "python",
   "pygments_lexer": "ipython3",
   "version": "3.4.3"
  }
 },
 "nbformat": 4,
 "nbformat_minor": 0
}
