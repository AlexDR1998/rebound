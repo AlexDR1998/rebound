{
 "cells": [
  {
   "cell_type": "markdown",
   "metadata": {},
   "source": [
    "# 67P/Churyumov–Gerasimenko\n",
    "\n",
    "This tutorial teaches you how to use the IAS15 integator (Rein and Spiegel, 2015) to simulate the orbit of 67P/Churyumov–Gerasimenko. We will download the data from NASA Horizons and visualizae the orbit using matplotlib.\n",
    "\n",
    "This tutorial assumes that you have already installed REBOUND."
   ]
  },
  {
   "cell_type": "markdown",
   "metadata": {},
   "source": [
    "## NASA Horizons\n",
    "\n",
    "If you're interested in Solar System dynamics, you have probably heard of NASA Horizons. It's a large database of Solar System objects, their orbits and physical properties. It includes planets, moons, satellites, asteroids, comets and spacecrafts. With REBOUND, you can easily import data from NASA Horizons. As an example, let's pull in the present day positions of Jupiter, Saturn and the Sun:"
   ]
  },
  {
   "cell_type": "code",
   "execution_count": 1,
   "metadata": {
    "collapsed": false
   },
   "outputs": [
    {
     "name": "stdout",
     "output_type": "stream",
     "text": [
      "Searching NASA Horizons for 'Sun'... Found: Sun (10).\n",
      "Searching NASA Horizons for 'Jupiter'... Found: Jupiter Barycenter (5).\n",
      "Searching NASA Horizons for 'Saturn'... Found: Saturn Barycenter (6).\n"
     ]
    }
   ],
   "source": [
    "import rebound\n",
    "rebound.add(\"Sun\")\n",
    "rebound.add(\"Jupiter\")\n",
    "rebound.add(\"Saturn\")"
   ]
  },
  {
   "cell_type": "markdown",
   "metadata": {},
   "source": [
    "Now all the data is in REBOUND! Let's have a look at the orbits of the two planets."
   ]
  },
  {
   "cell_type": "code",
   "execution_count": 2,
   "metadata": {
    "collapsed": false
   },
   "outputs": [
    {
     "name": "stdout",
     "output_type": "stream",
     "text": [
      "<rebound.Orbit instance, a=5.20227795742 e=0.0488880470556>\n",
      "<rebound.Orbit instance, a=9.5468735857 e=0.0539199750097>\n"
     ]
    }
   ],
   "source": [
    "for orbit in rebound.calculate_orbits():\n",
    "    print(orbit)"
   ]
  },
  {
   "cell_type": "markdown",
   "metadata": {},
   "source": [
    "Although there are three bodies, the `get_orbits()` function only returns two objects as the orbit for the Sun would be a little boring. The function returns the orbits in Jacobi coordinates. Since we didn't specify a falue for $G$, REBOUND assumes that $G=1$. The unit of length is one astronomical unit, the unit of time is one year/$2\\pi$.\n",
    "\n",
    "Let's add something more interesting to our simulation: the comet 67P/Churyumov-Gerasimenko. "
   ]
  },
  {
   "cell_type": "code",
   "execution_count": 3,
   "metadata": {
    "collapsed": false
   },
   "outputs": [
    {
     "name": "stdout",
     "output_type": "stream",
     "text": [
      "Searching NASA Horizons for 'Churyumov-Gerasimenko'... Found: 67P/Churyumov-Gerasimenko.\n",
      "Warning: Mass cannot be retrieved from NASA HORIZONS. Set to 0.\n"
     ]
    }
   ],
   "source": [
    "rebound.add(\"Churyumov-Gerasimenko\")"
   ]
  },
  {
   "cell_type": "markdown",
   "metadata": {},
   "source": [
    "When searching for a body by name, REBOUND takes the first dataset that Horizons offers. In this case, it's a set of parameters from 1962. You probably want to go to the Horizons website and check that the values you are using are up-to-date and appropriate for what you want to do. You can also use more complicted Horizons queries, for example, to get the most recent apparition solution for the comet, use\n",
    "\n",
    "    rebound.add(\"NAME=Churyumov-Gerasimenko; CAP\")\n",
    "\n",
    "You can also use the IAU asteroid number for numbered asteroids, or the database record numbers from Horizons for objects not yet numbered by the IAU (but note that database record numbers can change as the database gets rearranged with new discoveries, see http://ssd.jpl.nasa.gov/?horizons_doc#sb for details). In our case the current database record number is 900647, so you could use `rebound.add(\"900647\")` to get the newest set of orbital parameters for Churyumov-Gerasimenko.\n",
    "\n",
    "NASA Horizons doesn't have masses for all bodies. If REBOUND doesn't find a mass, you get a warning message (see above). In our case, we don't need the mass of the comet (it's really smal). However, it you want, you can add it manually using the syntax `rebound.add(\"Churyumov-Gerasimenko\", m=5.03e-18)`."
   ]
  },
  {
   "cell_type": "markdown",
   "metadata": {},
   "source": [
    "## Integration with IAS15\n",
    "We will integrate backwards in time for 70 years. Because we don't know what will happen yet (hint: a close encounter) we will use the IAS15 integrator. It is fast, accurate and has adaptive timesteps to capture any potential close encounters. \n",
    "\n",
    "To integrate backwards, we could set a negative timestep or simply multiply all velocities with $-1$. We'll choose the second option:"
   ]
  },
  {
   "cell_type": "code",
   "execution_count": 4,
   "metadata": {
    "collapsed": false
   },
   "outputs": [],
   "source": [
    "for p in rebound.particles:\n",
    "    p.vx *= -1.\n",
    "    p.vy *= -1.\n",
    "    p.vz *= -1."
   ]
  },
  {
   "cell_type": "markdown",
   "metadata": {},
   "source": [
    "While we're integrating, let's store the positions of Jupiter and the comet at 1000 times during the interval. We'll need to prepare a few variables to do that:"
   ]
  },
  {
   "cell_type": "code",
   "execution_count": 5,
   "metadata": {
    "collapsed": false
   },
   "outputs": [],
   "source": [
    "import numpy as np\n",
    "Noutputs = 1000\n",
    "year = 2.*np.pi # One year in units where G=1\n",
    "times = np.linspace(0., 70.*year, Noutputs)\n",
    "x = np.zeros((2,Noutputs))\n",
    "y = np.zeros((2,Noutputs))"
   ]
  },
  {
   "cell_type": "markdown",
   "metadata": {},
   "source": [
    "Now we're ready to start the integration:"
   ]
  },
  {
   "cell_type": "code",
   "execution_count": 6,
   "metadata": {
    "collapsed": false
   },
   "outputs": [],
   "source": [
    "rebound.integrator = \"ias15\" # IAS15 is the default integrator, so we actually don't need this line\n",
    "rebound.move_to_com() # We always move to the center of momentum frame before an integration\n",
    "\n",
    "ps = rebound.particles  # ps is now an array of pointers and will change as the simulation runs\n",
    "\n",
    "for i,time in enumerate(times):\n",
    "    rebound.integrate(time)\n",
    "    x[0][i] = ps[1].x   # This stores the data which allows us to plot it later\n",
    "    y[0][i] = ps[1].y\n",
    "    x[1][i] = ps[3].x\n",
    "    y[1][i] = ps[3].y"
   ]
  },
  {
   "cell_type": "markdown",
   "metadata": {},
   "source": [
    "## Visualization with matplotlib\n",
    "Let's plot the orbits of Jupiter (blue) and the comet (green) to get an idea of what was going on during our integration."
   ]
  },
  {
   "cell_type": "code",
   "execution_count": 7,
   "metadata": {
    "collapsed": false
   },
   "outputs": [
    {
     "data": {
      "image/png": "[encoded data removed]",
      "text/plain": [
       "<matplotlib.figure.Figure at 0x10e471910>"
      ]
     },
     "metadata": {},
     "output_type": "display_data"
    }
   ],
   "source": [
    "%matplotlib inline\n",
    "import matplotlib.pyplot as plt\n",
    "fig = plt.figure(figsize=(5,5))\n",
    "ax = plt.subplot(111)\n",
    "ax.set_xlim([-6,6])\n",
    "ax.set_ylim([-6,6])\n",
    "plt.plot(x[0], y[0]);\n",
    "plt.plot(x[1], y[1]);"
   ]
  },
  {
   "cell_type": "markdown",
   "metadata": {},
   "source": [
    "As you can see in the above image, the comet 67P had a rather strong encounter with Jupiter a few years ago. Of course, if you wanted to do a realistic simulation of that encounter, you'd need to include all the other planets and maybe even some non-gravitational effects for the comet. However, let's stick with our simplistic model and try to find out when exactly the two bodies had a close encouter. We already stored the data, so we can just plot their distance as a function of time (remember we're integrating back in time, so positive simulation time really means we're going backwards in time - we'll account for that while plotting)."
   ]
  },
  {
   "cell_type": "code",
   "execution_count": 8,
   "metadata": {
    "collapsed": false
   },
   "outputs": [
    {
     "name": "stdout",
     "output_type": "stream",
     "text": [
      "Minimum distance (0.015501 AU) occured at time: -56.266266 years.\n"
     ]
    },
    {
     "data": {
      "image/png": "[encoded data removed]",
      "text/plain": [
       "<matplotlib.figure.Figure at 0x10c60b2d0>"
      ]
     },
     "metadata": {},
     "output_type": "display_data"
    }
   ],
   "source": [
    "fig = plt.figure(figsize=(12,5))\n",
    "ax = plt.subplot(111)\n",
    "ax.set_xlabel(\"time [yrs]\")\n",
    "ax.set_ylabel(\"distance [AU]\")\n",
    "distance = np.sqrt(np.square(x[0]-x[1])+np.square(y[0]-y[1]))\n",
    "plt.plot(-times/year, distance);\n",
    "closeencountertime = -times[np.argmin(distance)]/year\n",
    "print(\"Minimum distance (%f AU) occured at time: %f years.\" % (np.min(distance),closeencountertime))"
   ]
  },
  {
   "cell_type": "markdown",
   "metadata": {},
   "source": [
    "We can see that the minimum distance occured approximately 56 years ago (as of writing this tutorial). Let's see what date that was using some python magic and the datetime module:"
   ]
  },
  {
   "cell_type": "code",
   "execution_count": 9,
   "metadata": {
    "collapsed": false
   },
   "outputs": [
    {
     "data": {
      "text/plain": [
       "'1959-02-08 11:18'"
      ]
     },
     "execution_count": 9,
     "metadata": {},
     "output_type": "execute_result"
    }
   ],
   "source": [
    "import datetime\n",
    "encounterdate = datetime.datetime.today() + datetime.timedelta(days=365.25*closeencountertime)\n",
    "encounterdate.strftime(\"%Y-%m-%d %H:%M\")"
   ]
  },
  {
   "cell_type": "markdown",
   "metadata": {},
   "source": [
    "According our calculation, the close encounter happened in February 1959. If you check [wikipedia](http://en.wikipedia.org/wiki/67P/Churyumov–Gerasimenko) it turns out we are (at least approximately) right!"
   ]
  }
 ],
 "metadata": {
  "kernelspec": {
   "display_name": "Python 2",
   "language": "python",
   "name": "python2"
  },
  "language_info": {
   "codemirror_mode": {
    "name": "ipython",
    "version": 2
   },
   "file_extension": ".py",
   "mimetype": "text/x-python",
   "name": "python",
   "nbconvert_exporter": "python",
   "pygments_lexer": "ipython2",
   "version": "2.7.6"
  }
 },
 "nbformat": 4,
 "nbformat_minor": 0
}
