{
 "cells": [
  {
   "cell_type": "markdown",
   "metadata": {},
   "source": [
    "# Checkpoints\n",
    "You can easily save and load particle positions to a binary file with REBOUND. The binary file includes the masses, positions and velocities of all particles, as well as the current simulation time (but nothing else!). \n",
    "\n",
    "Let's add two particles to REBOUND and save them to a file."
   ]
  },
  {
   "cell_type": "code",
   "execution_count": 1,
   "metadata": {
    "collapsed": true
   },
   "outputs": [],
   "source": [
    "import rebound\n",
    "rebound.add(m=1.)\n",
    "rebound.add(m=1e-6, a=1.)\n",
    "rebound.add(a=2.)\n",
    "rebound.save(\"checkpoint.bin\")"
   ]
  },
  {
   "cell_type": "markdown",
   "metadata": {},
   "source": [
    "The binary files are small in size and store every floating point number exactly, so you don't have to worry about efficiency or loosing precision. You can make lots of checkpoints if you want!\n",
    "\n",
    "Let's reset REBOUND (that deletes the particles from memory) and then read the binary file we just saved."
   ]
  },
  {
   "cell_type": "code",
   "execution_count": 2,
   "metadata": {
    "collapsed": false
   },
   "outputs": [
    {
     "name": "stdout",
     "output_type": "stream",
     "text": [
      "---------------------------------\n",
      "Rebound version:     \t0.3.1\n",
      "Build on:            \tMay 16 2015 22:25:31\n",
      "Number of particles: \t3\n",
      "Simulation time:     \t0.000000\n",
      "---------------------------------\n",
      "<rebound.Particle object, m=1.0 x=0.0 y=0.0 z=0.0 vx=0.0 vy=0.0 vz=0.0>\n",
      "<rebound.Particle object, m=1e-06 x=1.0 y=0.0 z=0.0 vx=0.0 vy=1.0000005 vz=0.0>\n",
      "<rebound.Particle object, m=0.0 x=2.000001 y=0.0 z=0.0 vx=0.0 vy=0.707108134739 vz=0.0>\n",
      "---------------------------------\n"
     ]
    }
   ],
   "source": [
    "rebound.reset()\n",
    "rebound.load(\"checkpoint.bin\")\n",
    "rebound.status()"
   ]
  },
  {
   "cell_type": "markdown",
   "metadata": {},
   "source": [
    "The checkpoint files only include the particle information and the time. They do not include the current settings of the integrator, the timestep and other other settings of REBOUND. "
   ]
  }
 ],
 "metadata": {
  "kernelspec": {
   "display_name": "Python 2",
   "language": "python",
   "name": "python2"
  },
  "language_info": {
   "codemirror_mode": {
    "name": "ipython",
    "version": 2
   },
   "file_extension": ".py",
   "mimetype": "text/x-python",
   "name": "python",
   "nbconvert_exporter": "python",
   "pygments_lexer": "ipython2",
   "version": "2.7.6"
  }
 },
 "nbformat": 4,
 "nbformat_minor": 0
}
