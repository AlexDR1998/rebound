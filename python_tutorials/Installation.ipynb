{
 "cells": [
  {
   "cell_type": "markdown",
   "metadata": {
    "collapsed": true
   },
   "source": [
    "# Installing REBOUND\n",
    "\n",
    "Installing REBOUND is very easy. Rebound does not depend on any libraries. However, you need to have python (version 2 or 3) and a C compiler installed. Most likely, you already have those on your system.\n",
    "\n",
    "## Create a virtual environment\n",
    "\n",
    "Before you start, you can create a virtual environment to keep your python installation clean. This is recommended, but not necessary. You need to have [virtualenv](https://virtualenv.pypa.io/en/latest/) installed (if you use the Anaconda python distribution, you'll need to instead create a conda environment - see below).\n",
    "\n",
    "To create a virtual environment, simply open a terminal window, go to the folder where you want REBOUND to be installed (e.g. `/home/username/rebound/`) and enter:\n",
    "\n",
    "    virtualenv venv\n",
    "\n",
    "This creates a virtual environment named `venv`. To activate it, type:\n",
    "\n",
    "    source venv/bin/activate\n",
    "\n",
    "If you log out of your terminal or open a new one, you'll need to reactivate the virtual environment with the above command.\n",
    "\n",
    "If you use the Anaconda distribution, the above likely will not work. To create a conda environment run the follog command:\n",
    "\n",
    "    conda create -n venv pip && source activate venv\n",
    "    pip install rebound\n",
    "\n",
    "\n",
    "## Standard python installation using pip\n",
    "\n",
    "Now you can install REBOUND using pip. All you have to do is type the following into a terminal window:\n",
    "\n",
    "    pip install rebound\n",
    "\n",
    "The setup script will download the latest version of REBOUND from [PyPI](https://pypi.python.org/pypi) (the Python Package Index), compile the C code in the background and place all the files in their correct location. No other libraries are needed to start working with WHFast and REBOUND, but you might want to install numpy and matplotlib to be able to post-process your data and make plots. Installing those libraries is also very easy (but may need a few minutes):\n",
    "\n",
    "    pip install numpy matplotlib\n",
    "\n",
    "That's all there is to do!\n",
    "\n",
    "\n",
    "## Installing the development version directly from github\n",
    "\n",
    "Instead of using pip to install the latest version of REBOUND from PyPI, you can also install REBOUND directly from github. This is useful if you want to make changes to REBOUND.\n",
    "\n",
    "First clone the repository (you might need to create a github account):\n",
    "\n",
    "    git clone git@github.com:hannorein/rebound.git\n",
    "\n",
    "If you already know that you might be contributing something to REBOUND, you can also first fork the repository on github and then clone your own repository.\n",
    "\n",
    "Next, create a virtual environment with the same commands as above:\n",
    "\n",
    "    virtualenv venv && source venv/bin/activate\n",
    "\n",
    "Now you can install rebound from source using\n",
    "\n",
    "    pip install -e .\n",
    "\n",
    "You can modify the python module files in the directory `rebound/` and you'll see the changed the next time you run a python script (no need to reinstall the REBOUND package every time).\n",
    "\n",
    "If you install REBOUND directly from github, you can also run it without python. Have a look at the README file in the main directory and at the examples in the `examples/` directory for examples in C. These are much more diverse than the python examples (e.g. allow you to use a tree code for gravity calculations, use other boundary conditions, etc)."
   ]
  }
 ],
 "metadata": {
  "kernelspec": {
   "display_name": "Python 2",
   "language": "python",
   "name": "python2"
  },
  "language_info": {
   "codemirror_mode": {
    "name": "ipython",
    "version": 2
   },
   "file_extension": ".py",
   "mimetype": "text/x-python",
   "name": "python",
   "nbconvert_exporter": "python",
   "pygments_lexer": "ipython2",
   "version": "2.7.6"
  }
 },
 "nbformat": 4,
 "nbformat_minor": 0
}
