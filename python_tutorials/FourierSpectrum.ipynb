{
 "cells": [
  {
   "cell_type": "markdown",
   "metadata": {},
   "source": [
    "#Fourier analysis & resonances\n",
    "\n",
    "A great benefit of being able to call rebound from within python is the ability to directly apply sophisticated analysis tools from scipy and other python libraries.  Here we will do a simple Fourier analysis of a reduced Solar System consisting of Jupiter and Saturn.  Let's begin by setting our units and adding these planets using JPL's horizons database:"
   ]
  },
  {
   "cell_type": "code",
   "execution_count": 1,
   "metadata": {
    "collapsed": false
   },
   "outputs": [
    {
     "ename": "SyntaxError",
     "evalue": "invalid syntax (librebound.py, line 24)",
     "output_type": "error",
     "traceback": [
      "\u001b[0;36m  File \u001b[0;32m\"/Users/dtamayo/Documents/workspace/rebound/rebound/librebound.py\"\u001b[0;36m, line \u001b[0;32m24\u001b[0m\n\u001b[0;31m    <<<<<<< HEAD\u001b[0m\n\u001b[0m     ^\u001b[0m\n\u001b[0;31mSyntaxError\u001b[0m\u001b[0;31m:\u001b[0m invalid syntax\n"
     ]
    }
   ],
   "source": [
    "import rebound\n",
    "rebound.units = ('AU', 'yr', 'Msun')\n",
    "rebound.add(\"Sun\")\n",
    "rebound.add(\"Jupiter\")\n",
    "rebound.add(\"Saturn\")"
   ]
  },
  {
   "cell_type": "markdown",
   "metadata": {},
   "source": [
    "Now let's set the integrator to whfast, and sacrificing accuracy for speed, set the timestep for the integration to about $10\\%$ of Jupiter's orbital period."
   ]
  },
  {
   "cell_type": "code",
   "execution_count": 2,
   "metadata": {
    "collapsed": false
   },
   "outputs": [
    {
     "ename": "NameError",
     "evalue": "name 'rebound' is not defined",
     "output_type": "error",
     "traceback": [
      "\u001b[0;31m---------------------------------------------------------------------------\u001b[0m",
      "\u001b[0;31mNameError\u001b[0m                                 Traceback (most recent call last)",
      "\u001b[0;32m<ipython-input-2-1dbe14ee6a6d>\u001b[0m in \u001b[0;36m<module>\u001b[0;34m()\u001b[0m\n\u001b[1;32m      1\u001b[0m \u001b[0;32mimport\u001b[0m \u001b[0mnumpy\u001b[0m \u001b[0;32mas\u001b[0m \u001b[0mnp\u001b[0m\u001b[0;34m\u001b[0m\u001b[0m\n\u001b[0;32m----> 2\u001b[0;31m \u001b[0mrebound\u001b[0m\u001b[0;34m.\u001b[0m\u001b[0mintegrator\u001b[0m \u001b[0;34m=\u001b[0m \u001b[0;34m\"whfast\"\u001b[0m\u001b[0;34m\u001b[0m\u001b[0m\n\u001b[0m\u001b[1;32m      3\u001b[0m \u001b[0mrebound\u001b[0m\u001b[0;34m.\u001b[0m\u001b[0mdt\u001b[0m \u001b[0;34m=\u001b[0m \u001b[0;36m1.\u001b[0m \u001b[0;31m# in years.  About 10% of Jupiter's period\u001b[0m\u001b[0;34m\u001b[0m\u001b[0m\n\u001b[1;32m      4\u001b[0m \u001b[0mrebound\u001b[0m\u001b[0;34m.\u001b[0m\u001b[0mmove_to_com\u001b[0m\u001b[0;34m(\u001b[0m\u001b[0;34m)\u001b[0m\u001b[0;34m\u001b[0m\u001b[0m\n",
      "\u001b[0;31mNameError\u001b[0m: name 'rebound' is not defined"
     ]
    }
   ],
   "source": [
    "import numpy as np\n",
    "rebound.integrator = \"whfast\"\n",
    "rebound.dt = 1. # in years.  About 10% of Jupiter's period\n",
    "rebound.move_to_com()"
   ]
  },
  {
   "cell_type": "markdown",
   "metadata": {},
   "source": [
    "The last line (moving to the center of mass frame) is important to take out the linear drift in positions due to the constant COM motion.  Without it we would erase some of the signal at low frequencies.\n",
    "\n",
    "Now let's run the integration, storing time series for the two planets' eccentricities (for plotting) and x-positions (for the Fourier analysis).  Additionally, we store the mean longitudes and pericenter longitudes (varpi) for reasons that will become clear below.  Having some idea of what the secular timescales are in the Solar System, we'll run the integration for $3\\times 10^5$ yrs.  We choose to collect $10^5$ outputs in order to resolve the planets' orbital periods ($\\sim 10$ yrs) in the Fourier spectrum."
   ]
  },
  {
   "cell_type": "code",
   "execution_count": null,
   "metadata": {
    "collapsed": false
   },
   "outputs": [],
   "source": [
    "Nout = 100000\n",
    "tmax = 3.e5\n",
    "Nplanets = 2\n",
    "\n",
    "x = np.zeros((Nplanets,Nout))\n",
    "ecc = np.zeros((Nplanets,Nout))\n",
    "longitude = np.zeros((Nplanets,Nout))\n",
    "varpi = np.zeros((Nplanets,Nout))\n",
    "\n",
    "times = np.linspace(0.,tmax,Nout)\n",
    "ps = rebound.particles\n",
    "\n",
    "for i,time in enumerate(times):\n",
    "    rebound.integrate(time)\n",
    "    os = rebound.calculate_orbits()\n",
    "    for j in range(Nplanets):\n",
    "        x[j][i] = ps[j+1].x  # we use the 0 index in x for Jup and 1 for Sat, but the indices for ps start with the Sun at 0\n",
    "        ecc[j][i] = os[j].e\n",
    "        longitude[j][i] = os[j].l\n",
    "        varpi[j][i] = os[j].Omega + os[j].omega"
   ]
  },
  {
   "cell_type": "markdown",
   "metadata": {},
   "source": [
    "Let's see what the eccentricity evolution looks like with matplotlib:"
   ]
  },
  {
   "cell_type": "code",
   "execution_count": null,
   "metadata": {
    "collapsed": false
   },
   "outputs": [],
   "source": [
    "%matplotlib inline\n",
    "labels = [\"Jupiter\", \"Saturn\"]\n",
    "import matplotlib.pyplot as plt\n",
    "fig = plt.figure(figsize=(12,5))\n",
    "ax = plt.subplot(111)\n",
    "plt.plot(times,ecc[0],label=labels[0])\n",
    "plt.plot(times,ecc[1],label=labels[1])\n",
    "ax.set_xlabel(\"Time (yrs)\", fontsize=20)\n",
    "ax.set_ylabel(\"Eccentricity\", fontsize=20)\n",
    "ax.tick_params(labelsize=20)\n",
    "plt.legend()"
   ]
  },
  {
   "cell_type": "markdown",
   "metadata": {},
   "source": [
    "Now let's try to analyze the periodicities in this signal.  Here we have a uniformly spaced time series, so we could run a Fast Fourier Transform, but as an example of the wider array of tools available through scipy, let's run a Lomb-Scargle periodogram (which allows for non-uniform time series). This could also be used when storing outputs at each timestep using the integrator IAS15 (which uses adaptive and therefore nonuniform timesteps).\n",
    "\n",
    "Let's check for periodicities with periods logarithmically spaced between 10 and $10^5$ yrs.  From the documentation, we find that the lombscargle function requires a list of corresponding angular frequencies (ws), and we obtain the appropriate normalization for the plot.  To avoid conversions to orbital elements, we analyze the time series of Jupiter's x-position."
   ]
  },
  {
   "cell_type": "code",
   "execution_count": null,
   "metadata": {
    "collapsed": false
   },
   "outputs": [],
   "source": [
    "from scipy import signal\n",
    "Npts = 3000\n",
    "logPmin = np.log10(10.)\n",
    "logPmax = np.log10(1.e5)\n",
    "Ps = np.logspace(logPmin,logPmax,Npts)\n",
    "ws = np.asarray([2*np.pi/P for P in Ps])\n",
    "\n",
    "periodogram = signal.lombscargle(times,x[0],ws)\n",
    "\n",
    "fig = plt.figure(figsize=(12,5))\n",
    "ax = plt.subplot(111)\n",
    "ax.plot(Ps,np.sqrt(4*periodogram/Nout))\n",
    "ax.set_xscale('log')\n",
    "ax.set_xlim([10**logPmin,10**logPmax])\n",
    "ax.set_ylim([0,0.15])\n",
    "ax.set_xlabel(\"Period (yrs)\", fontsize=20)\n",
    "ax.set_ylabel(\"Power\", fontsize=20)\n",
    "ax.tick_params(labelsize=20)"
   ]
  },
  {
   "cell_type": "markdown",
   "metadata": {},
   "source": [
    "We pick out the obvious signal in the eccentricity plot with a period of $\\approx 45000$ yrs, which is due to secular interactions between the two planets.  There is quite a bit of power aliased into neighboring frequencies due to the short integration duration, with contributions from the second secular timescale, which is out at $\\sim 2\\times10^5$ yrs and causes a slower, low-amplitude modulation of the eccentricity signal plotted above (we limited the time of integration so that the example runs in a few seconds).  \n",
    "\n",
    "Additionally, though it was invisible on the scale of the eccentricity plot above, we clearly see a strong signal at Jupiter's orbital period of about 12 years.  \n",
    "\n",
    "But wait!  Even on this scale set by the dominant frequencies of the problem, we see an additional blip just below $10^3$ yrs.  Such a periodicity is actually visible in the above eccentricity plot if you inspect the thickness of the lines. Let's investigate by narrowing the period range:"
   ]
  },
  {
   "cell_type": "code",
   "execution_count": null,
   "metadata": {
    "collapsed": false
   },
   "outputs": [],
   "source": [
    "fig = plt.figure(figsize=(12,5))\n",
    "ax = plt.subplot(111)\n",
    "ax.plot(Ps,np.sqrt(4*periodogram/Nout))\n",
    "ax.set_xscale('log')\n",
    "ax.set_xlim([600,1600])\n",
    "ax.set_ylim([0,0.003])\n",
    "ax.set_xlabel(\"Period (yrs)\", fontsize=20)\n",
    "ax.set_ylabel(\"Power\", fontsize=20)\n",
    "ax.tick_params(labelsize=20)"
   ]
  },
  {
   "cell_type": "markdown",
   "metadata": {},
   "source": [
    "This is the right timescale to be due to resonant perturbations between giant planets ($\\sim 100$ orbits).  In fact, Jupiter and Saturn are close to a 5:2 mean-motion resonance.  This is the famous great inequality that Laplace showed was responsible for slight offsets in the predicted positions of the two giant planets.  Let's check whether this is in fact responsible for the peak.  \n",
    "\n",
    "In this case, we have that the mean longitude of Jupiter $\\lambda_J$ cycles approximately 5 times for every 2 of Saturn's ($\\lambda_S$).  The game is to construct a slowly-varying resonant angle, which here could be $\\phi_{5:2} = 5\\lambda_S - 2\\lambda_J - 3\\varpi_J$, where $\\varpi_J$ is Jupiter's longitude of pericenter.  This last term is a much smaller contribution to the variation of $\\phi_{5:2}$ than the first two, but ensures that the coefficients in the resonant angle sum to zero and therefore that the physics do not depend on your choice of coordinates.\n",
    "\n",
    "To see a clear trend, we have to shift each value of $\\phi_{5:2}$ into the range $[0,360]$ degrees, so we define a small helper function that does the wrapping and conversion to degrees:"
   ]
  },
  {
   "cell_type": "code",
   "execution_count": null,
   "metadata": {
    "collapsed": true
   },
   "outputs": [],
   "source": [
    "def zeroTo360(val):\n",
    "    while val < 0:\n",
    "        val += 2*np.pi\n",
    "    while val > 2*np.pi:\n",
    "        val -= 2*np.pi\n",
    "    return val*180/np.pi"
   ]
  },
  {
   "cell_type": "markdown",
   "metadata": {},
   "source": [
    "Now we construct $\\phi_{5:2}$ and plot it over the first 5000 yrs. "
   ]
  },
  {
   "cell_type": "code",
   "execution_count": null,
   "metadata": {
    "collapsed": false
   },
   "outputs": [],
   "source": [
    "phi = [zeroTo360(5.*longitude[1][i] - 2.*longitude[0][i] - 3.*varpi[0][i]) for i in range(Nout)]\n",
    "fig = plt.figure(figsize=(12,5))\n",
    "ax = plt.subplot(111)\n",
    "ax.plot(times,phi)\n",
    "ax.set_xlim([0,5.e3])\n",
    "ax.set_ylim([0,360.])\n",
    "ax.set_xlabel(\"time (yrs)\", fontsize=20)\n",
    "ax.set_ylabel(r\"$\\phi_{5:2}$\", fontsize=20)\n",
    "ax.tick_params(labelsize=20)"
   ]
  },
  {
   "cell_type": "markdown",
   "metadata": {},
   "source": [
    "We see that the resonant angle $\\phi_{5:2}$ circulates, but with a long period of $\\approx 900$ yrs (compared to the orbital periods of $\\sim 10$ yrs), which precisely matches the blip we saw in the Lomb-Scargle periodogram.  This is approximately the same oscillation period observed in the Solar System, despite our simplified setup!\n",
    "\n",
    "This resonant angle is able to have a visible effect because its (small) effects build up coherently over many orbits.   As a further illustration, other resonance angles like those at the 2:1 will circulate much faster (because Jupiter and Saturn's period ratio is not close to 2).  We can easily plot this.  Taking one of the 2:1 resonance angles $\\phi_{2:1} = 2\\lambda_S - \\lambda_J - \\varpi_J$,"
   ]
  },
  {
   "cell_type": "code",
   "execution_count": null,
   "metadata": {
    "collapsed": false
   },
   "outputs": [],
   "source": [
    "phi2 = [zeroTo360(2*longitude[1][i] - longitude[0][i] - varpi[0][i]) for i in range(Nout)]\n",
    "fig = plt.figure(figsize=(12,5))\n",
    "ax = plt.subplot(111)\n",
    "ax.plot(times,phi2)\n",
    "ax.set_xlim([0,5.e3])\n",
    "ax.set_ylim([0,360.])\n",
    "ax.set_xlabel(\"time (yrs)\", fontsize=20)\n",
    "ax.set_ylabel(r\"$\\phi_{2:1}$\", fontsize=20)\n",
    "ax.tick_params(labelsize=20)"
   ]
  },
  {
   "cell_type": "markdown",
   "metadata": {
    "collapsed": true
   },
   "source": [
    "In this case, since we are far from this particular resonance (the 2:1), the corresponding resonance angles vary on fast (orbital) timescales, and their effects simply average out."
   ]
  }
 ],
 "metadata": {
  "kernelspec": {
   "display_name": "Python 3",
   "language": "python",
   "name": "python3"
  },
  "language_info": {
   "codemirror_mode": {
    "name": "ipython",
    "version": 3
   },
   "file_extension": ".py",
   "mimetype": "text/x-python",
   "name": "python",
   "nbconvert_exporter": "python",
   "pygments_lexer": "ipython3",
   "version": "3.4.3"
  }
 },
 "nbformat": 4,
 "nbformat_minor": 0
}
