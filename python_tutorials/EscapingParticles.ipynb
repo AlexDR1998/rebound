{
 "cells": [
  {
   "cell_type": "markdown",
   "metadata": {
    "collapsed": true
   },
   "source": [
    "# Escaping particles\n",
    "\n",
    "Sometimes we are not interested in particles that get too far from the central body.  Here we will define a radius beyond which we remove particles from the simulation.  Let's set up an artificial situation with 2 planets, and the inner one simply moves radially outward with $v > v_{escape}$."
   ]
  },
  {
   "cell_type": "code",
   "execution_count": 1,
   "metadata": {
    "collapsed": true
   },
   "outputs": [],
   "source": [
    "import rebound\n",
    "import numpy as np\n",
    "def setupSimulation():\n",
    "    rebound.reset()\n",
    "    rebound.integrator = \"ias15\" # IAS15 is the default integrator, so we don't need this line\n",
    "    rebound.add(m=1.)\n",
    "    rebound.add(m=1e-3,x=1.,vx=2.)\n",
    "    rebound.add(m=1e-3,a=1.25,anom=np.pi/2)\n",
    "    rebound.move_to_com()"
   ]
  },
  {
   "cell_type": "markdown",
   "metadata": {
    "collapsed": true
   },
   "source": [
    "Each particle has an ID, assigned to it in the order they were added to the simulation:"
   ]
  },
  {
   "cell_type": "code",
   "execution_count": 2,
   "metadata": {
    "collapsed": false
   },
   "outputs": [
    {
     "name": "stdout",
     "output_type": "stream",
     "text": [
      "[0, 1, 2]\n"
     ]
    }
   ],
   "source": [
    "setupSimulation()\n",
    "print([rebound.particles[i].ID for i in range(rebound.N)])"
   ]
  },
  {
   "cell_type": "markdown",
   "metadata": {},
   "source": [
    "Now let's run a simulation for 20 years (in default units where $G=1$ of AU, yr/2$\\pi$, and $M_\\odot$, see [Units.ipynb](Units.ipynb) for how to change units), and set up a 50 AU sphere beyond which we remove particles from the simulation.  We can do this by passing a `maxR` value to `rebound.integrate`.  If a particle's distance (from the origin of whatever inertial reference frame chosen) exceeds `maxR`, the particle is removed from the simulation.  It's probably therefore important to have moved to the center of momentum frame in `setupSimulation()` so that our system doesn't slowly drift out of our sphere:"
   ]
  },
  {
   "cell_type": "code",
   "execution_count": 3,
   "metadata": {
    "collapsed": false
   },
   "outputs": [
    {
     "ename": "ParticleEscaping",
     "evalue": "At least one particle's distance > maxR.",
     "output_type": "error",
     "traceback": [
      "\u001b[0;31m---------------------------------------------------------------------------\u001b[0m",
      "\u001b[0;31mParticleEscaping\u001b[0m                          Traceback (most recent call last)",
      "\u001b[0;32m<ipython-input-3-2f448b554568>\u001b[0m in \u001b[0;36m<module>\u001b[0;34m()\u001b[0m\n\u001b[0;32m----> 1\u001b[0;31m \u001b[0mrebound\u001b[0m\u001b[0;34m.\u001b[0m\u001b[0mintegrate\u001b[0m\u001b[0;34m(\u001b[0m\u001b[0;36m20.\u001b[0m\u001b[0;34m*\u001b[0m\u001b[0;36m2.\u001b[0m\u001b[0;34m*\u001b[0m\u001b[0mnp\u001b[0m\u001b[0;34m.\u001b[0m\u001b[0mpi\u001b[0m\u001b[0;34m,\u001b[0m \u001b[0mmaxR\u001b[0m\u001b[0;34m=\u001b[0m\u001b[0;36m50.\u001b[0m\u001b[0;34m)\u001b[0m\u001b[0;34m\u001b[0m\u001b[0m\n\u001b[0m",
      "\u001b[0;32m/Users/dtamayo/Documents/workspace/rebound/rebound/librebound.py\u001b[0m in \u001b[0;36mintegrate\u001b[0;34m(self, tmax, exact_finish_time, maxR, minD)\u001b[0m\n\u001b[1;32m    378\u001b[0m                 \u001b[0;32mraise\u001b[0m \u001b[0mself\u001b[0m\u001b[0;34m.\u001b[0m\u001b[0mNoParticleLeft\u001b[0m\u001b[0;34m(\u001b[0m\u001b[0;34m\"No more particles left in simulation.\"\u001b[0m\u001b[0;34m)\u001b[0m\u001b[0;34m\u001b[0m\u001b[0m\n\u001b[1;32m    379\u001b[0m             \u001b[0;32mif\u001b[0m \u001b[0mret_value\u001b[0m \u001b[0;34m==\u001b[0m \u001b[0;36m2\u001b[0m\u001b[0;34m:\u001b[0m\u001b[0;34m\u001b[0m\u001b[0m\n\u001b[0;32m--> 380\u001b[0;31m                 \u001b[0;32mraise\u001b[0m \u001b[0mself\u001b[0m\u001b[0;34m.\u001b[0m\u001b[0mParticleEscaping\u001b[0m\u001b[0;34m(\u001b[0m\u001b[0mc_int\u001b[0m\u001b[0;34m.\u001b[0m\u001b[0min_dll\u001b[0m\u001b[0;34m(\u001b[0m\u001b[0mself\u001b[0m\u001b[0;34m.\u001b[0m\u001b[0mclibrebound\u001b[0m\u001b[0;34m,\u001b[0m \u001b[0;34m\"escapedParticle\"\u001b[0m\u001b[0;34m)\u001b[0m\u001b[0;34m.\u001b[0m\u001b[0mvalue\u001b[0m\u001b[0;34m)\u001b[0m\u001b[0;34m\u001b[0m\u001b[0m\n\u001b[0m\u001b[1;32m    381\u001b[0m             \u001b[0;32mif\u001b[0m \u001b[0mret_value\u001b[0m \u001b[0;34m==\u001b[0m \u001b[0;36m3\u001b[0m\u001b[0;34m:\u001b[0m\u001b[0;34m\u001b[0m\u001b[0m\n\u001b[1;32m    382\u001b[0m                 raise self.CloseEncounter(c_int.in_dll(self.clibrebound, \"closeEncounterPi\").value,\n",
      "\u001b[0;31mParticleEscaping\u001b[0m: At least one particle's distance > maxR."
     ]
    }
   ],
   "source": [
    "rebound.integrate(20.*2.*np.pi, maxR=50.)"
   ]
  },
  {
   "cell_type": "markdown",
   "metadata": {},
   "source": [
    "If we just run things directly, the program crashes with an exception.  But we can instead deal with the exception in a customized way. Let's try removing escaping particles from the simulation with `rebound.remove_particle`:"
   ]
  },
  {
   "cell_type": "code",
   "execution_count": 4,
   "metadata": {
    "collapsed": false
   },
   "outputs": [
    {
     "name": "stdout",
     "output_type": "stream",
     "text": [
      "Particle 1 went beyond maxR at t=33.52651791650018\n"
     ]
    }
   ],
   "source": [
    "setupSimulation() # Resets everything\n",
    "Noutputs = 1000\n",
    "times = np.linspace(0,20.*2.*np.pi,Noutputs)\n",
    "xs = np.zeros((3,Noutputs))\n",
    "ys = np.zeros((3,Noutputs))\n",
    "for i,time in enumerate(times):\n",
    "    try:\n",
    "        rebound.integrate(time,maxR=50.)    \n",
    "        for j in range(rebound.N):\n",
    "            xs[j,i] = rebound.particles[j].x\n",
    "            ys[j,i] = rebound.particles[j].y\n",
    "    except rebound.ParticleEscaping as e:\n",
    "        rebound.remove_particle(e.id1)\n",
    "        print(\"Particle {0} went beyond maxR at t={1}\".format(e.id1, rebound.t))"
   ]
  },
  {
   "cell_type": "markdown",
   "metadata": {},
   "source": [
    "Let's check that the particle 1 was correctly removed from the simulation:"
   ]
  },
  {
   "cell_type": "code",
   "execution_count": 5,
   "metadata": {
    "collapsed": false
   },
   "outputs": [
    {
     "name": "stdout",
     "output_type": "stream",
     "text": [
      "Number of particles remaining = 2\n",
      "ID of rebound.particles[1] = 2\n"
     ]
    }
   ],
   "source": [
    "print(\"Number of particles remaining = {0}\".format(rebound.N))\n",
    "print(\"ID of rebound.particles[1] = {0}\".format(rebound.particles[1].ID))"
   ]
  },
  {
   "cell_type": "markdown",
   "metadata": {},
   "source": [
    "So this worked as expected.  We went down to 2 particles, and `particles[1]` (which had `ID = 1` before) has evidently been replaced with `particles[2]`).  `rebound.remove_particles` removes the particle from the `particles` array corresponding to the index that you pass it, and shifts all particles with higher indices down by one (so IDs will always be sorted in ascending order).  See [IDs.ipynb](IDs.ipynb) for more info.  Now let's plot what we got:"
   ]
  },
  {
   "cell_type": "code",
   "execution_count": 6,
   "metadata": {
    "collapsed": false
   },
   "outputs": [
    {
     "data": {
      "text/plain": [
       "(-2, 10)"
      ]
     },
     "execution_count": 6,
     "metadata": {},
     "output_type": "execute_result"
    },
    {
     "data": {
      "image/png": "[encoded data removed]",
      "text/plain": [
       "<matplotlib.figure.Figure at 0x105e2a978>"
      ]
     },
     "metadata": {},
     "output_type": "display_data"
    }
   ],
   "source": [
    "%matplotlib inline\n",
    "import matplotlib.pyplot as plt\n",
    "fig,ax = plt.subplots(figsize=(15,5))\n",
    "for i in range(3):\n",
    "    ax.plot(xs[i,:], ys[i,:])\n",
    "ax.set_aspect('equal')\n",
    "ax.set_xlim([-2,10])"
   ]
  },
  {
   "cell_type": "markdown",
   "metadata": {},
   "source": [
    "Uh oh.  There are a couple issues contributing to these strange results.  First, we kept updating `xs[1]` with `particles[1].x` after `particle[1]` was removed.  This means that following the removal, `xs[1]` all of a sudden started getting populated by the values for the particle with `ID=2`.  This is why the radial green orbit (horizontal line along the $x$ axis) all of a sudden turns into the roughly circular orbit corresponding to the outer particle with `ID=2` (originally red).  \n",
    "\n",
    "The second problem is that when we get the exception, we aren't storing the `x` and `y` values for that timestep, so they remain initialized at 0.  This is why all the colors jump to the origin at some point (because `plot` is connecting all the points with lines).  One way to fix these problems is:"
   ]
  },
  {
   "cell_type": "code",
   "execution_count": 10,
   "metadata": {
    "collapsed": false
   },
   "outputs": [
    {
     "name": "stdout",
     "output_type": "stream",
     "text": [
      "Particle 1 went beyond maxR at t=33.52651791650018\n"
     ]
    },
    {
     "data": {
      "text/plain": [
       "(-2, 10)"
      ]
     },
     "execution_count": 10,
     "metadata": {},
     "output_type": "execute_result"
    },
    {
     "data": {
      "image/png": "[encoded data removed]",
      "text/plain": [
       "<matplotlib.figure.Figure at 0x109140940>"
      ]
     },
     "metadata": {},
     "output_type": "display_data"
    }
   ],
   "source": [
    "setupSimulation() # Resets everything\n",
    "Noutputs = 1000\n",
    "times = np.linspace(0,20.*2.*np.pi,Noutputs)\n",
    "xs = np.zeros((3,Noutputs))\n",
    "ys = np.zeros((3,Noutputs))\n",
    "for i,time in enumerate(times):\n",
    "    try:\n",
    "        rebound.integrate(time,maxR=50.)    \n",
    "        for j in range(rebound.N):\n",
    "            xs[rebound.particles[j].ID,i] = rebound.particles[j].x\n",
    "            ys[rebound.particles[j].ID,i] = rebound.particles[j].y\n",
    "    except rebound.ParticleEscaping as e:\n",
    "        print(\"Particle {0} went beyond maxR at t={1}\".format(e.id1, rebound.t)) \n",
    "        rebound.remove_particle(e.id1)\n",
    "        for j in range(rebound.N):\n",
    "            xs[rebound.particles[j].ID,i] = rebound.particles[j].x\n",
    "            ys[rebound.particles[j].ID,i] = rebound.particles[j].y\n",
    "fig,ax = plt.subplots(figsize=(15,5))\n",
    "for i in range(3):\n",
    "    ax.plot(xs[i,:], ys[i,:])\n",
    "ax.set_aspect('equal')\n",
    "ax.set_xlim([-2,10])"
   ]
  },
  {
   "cell_type": "markdown",
   "metadata": {},
   "source": [
    "Much better!  Since at the beginning of the integration the IDs match up with the corresponding indices in the `xs` and `ys` arrays, we solved the first problem by using the IDs as indices throughout the simulation.\n",
    "For the second problem, we simply had to populate the `xs` and `ys` array when we handled the exception.\n",
    "\n",
    "As an aside, the horizontal drift of the circular orbit is a real effect:  in the center of mass frame, if the Jupiter-mass planet is drifting right at some speed, the Sun must be moving at a speed lower by a factor of approximately 1000 (their mass ratio) in the opposite direction, so the Sun-particle2 system slowly drifts left.  If we integrated long enough, this would mean all our particles would eventually leave our box.  \n",
    "\n",
    "If we wanted to make sure things stayed in the box, we could additionally move to new center of mass frame after each removal of a particle, but this would introduce unphysical jumps in the remaining particles' time series, since their coordinates are measured between different inertial frames.  Of course whether this matters depends on the application!"
   ]
  },
  {
   "cell_type": "code",
   "execution_count": null,
   "metadata": {
    "collapsed": true
   },
   "outputs": [],
   "source": []
  }
 ],
 "metadata": {
  "kernelspec": {
   "display_name": "Python 3",
   "language": "python",
   "name": "python3"
  },
  "language_info": {
   "codemirror_mode": {
    "name": "ipython",
    "version": 3
   },
   "file_extension": ".py",
   "mimetype": "text/x-python",
   "name": "python",
   "nbconvert_exporter": "python",
   "pygments_lexer": "ipython3",
   "version": "3.4.3"
  }
 },
 "nbformat": 4,
 "nbformat_minor": 0
}
