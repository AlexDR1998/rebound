{
 "cells": [
  {
   "cell_type": "code",
   "execution_count": 1,
   "metadata": {
    "collapsed": false
   },
   "outputs": [
    {
     "name": "stderr",
     "output_type": "stream",
     "text": [
      "/Users/rein/git/rebound/venv/lib/python2.7/site-packages/matplotlib/font_manager.py:273: UserWarning: Matplotlib is building the font cache using fc-list. This may take a moment.\n",
      "  warnings.warn('Matplotlib is building the font cache using fc-list. This may take a moment.')\n"
     ]
    }
   ],
   "source": [
    "import rebound\n",
    "import numpy as np\n",
    "%matplotlib inline\n",
    "import matplotlib;\n",
    "import matplotlib.pyplot as plt\n",
    "import scipy.optimize as opt"
   ]
  },
  {
   "cell_type": "code",
   "execution_count": 54,
   "metadata": {
    "collapsed": false
   },
   "outputs": [
    {
     "data": {
      "image/png": "[encoded data removed]",
      "text/plain": [
       "<matplotlib.figure.Figure at 0x10ad6a5d0>"
      ]
     },
     "metadata": {},
     "output_type": "display_data"
    }
   ],
   "source": [
    "N_transit = 20\n",
    "\n",
    "def transittimes(x,Ginteract=1.):\n",
    "    a, m = x\n",
    "    sim = rebound.Simulation()\n",
    "    sim.add(m=1.)\n",
    "    sim.add(primary=sim.particles[0], m=1e-5, a=a,e=0.1,omega=0.25)\n",
    "    sim.add(primary=sim.particles[0], m=m, a=a*(2.**(2./3.)))# 1.757)\n",
    "    sim.Ginteract = Ginteract\n",
    "    var_dm = sim.add_variation()\n",
    "    var_dm.init_particle(2,\"m\")\n",
    "    var_da = sim.add_variation()\n",
    "    var_da.init_particle(1,\"a\")\n",
    "    var_dda = sim.add_variation(order=2, first_order=var_da)\n",
    "    var_dda.init_particle(1,\"a\")\n",
    "    var_da_dm = sim.add_variation(order=2, first_order=var_da, first_order_2=var_dm)\n",
    "    var_da_dm.init_particle(1,\"a\",\"m\")\n",
    "\n",
    "    \n",
    "    sim.move_to_com()\n",
    "    tt = np.zeros(N_transit)\n",
    "    tt_dda = np.zeros(N_transit)\n",
    "    tt_da_dm = np.zeros(N_transit)\n",
    "    tt_da = np.zeros(N_transit)\n",
    "    tt_dm = np.zeros(N_transit)\n",
    "    ps = sim.particles\n",
    "    s = ps[0]\n",
    "    p = ps[1]\n",
    "    p_da    = var_da.particles[1]\n",
    "    p_dm    = var_dm.particles[1]\n",
    "    p_da_dm = var_da_dm.particles[1]\n",
    "    p_dda   = var_dda.particles[1]\n",
    "    i = 0\n",
    "    while i<N_transit:\n",
    "        y_old = (p.y-s.y)\n",
    "        t_old = sim.t\n",
    "        sim.integrate(sim.t+0.5) # check for transits every 0.5 time units. Note that 0.5 is shorter than one orbit\n",
    "        t_new = sim.t\n",
    "        if y_old*(p.y-s.y)<0. and p.x>0.:   # sign changed (y_old*y<0), planet in front of star (x>0)\n",
    "            while t_new-t_old>1e-9:   # bisect until prec of 1e-9 reached\n",
    "                if y_old*(p.y-s.y)<0.:\n",
    "                    t_new = sim.t\n",
    "                else:\n",
    "                    t_old = sim.t\n",
    "                sim.integrate( (t_new+t_old)/2.)\n",
    "            tt[i] = sim.t\n",
    "            tt_dda[i] = p_dda.y/p.vy                         - 2. * p_da.y*p_da.vy/(p.vy)**2                        - p.y/(p.vy)**2 * p_dda.vy                        + 2. * p.y/(p.vy)**3 * p_da.vy*p_da.vy\n",
    "            tt_da[i] = -p_da.y/p.vy + p.y/(p.vy**2) * p_da.vy\n",
    "            tt_dm[i] = -p_dm.y/p.vy + p.y/(p.vy**2) * p_dm.vy\n",
    "            tt_da_dm[i] = p_da_dm.y/p.vy                         - p_da.y*p_dm.vy/(p.vy)**2                        - p_dm.y*p_da.vy/(p.vy)**2                        - p.y/(p.vy)**2 * p_da_dm.vy                         + 2. * p.y/(p.vy)**3 * p_da.vy*p_dm.vy                        \n",
    "            i += 1\n",
    "            sim.integrate(sim.t+0.05)       # integrate 0.05 to be past the transit \n",
    "    return tt, -tt_da, -tt_dda, -tt_dm, -tt_da_dm\n",
    "\n",
    "\n",
    "\n",
    "def chi2(x):\n",
    "    a,m= x\n",
    "    if m<0. or m>1e-2 or a>2. or a<0.1:\n",
    "        return 1000.\n",
    "    tt = transittimes(x)\n",
    "    N = len(tt)\n",
    "    chi2 = 0.\n",
    "    for i in range(N):\n",
    "        chi2     += (tt[i]-tt_obs[i])**2\n",
    "    return chi2\n",
    "\n",
    "def chi2_a(a):\n",
    "    return chi2((a,0.))\n",
    "\n",
    "def chi2_der2(x):\n",
    "    tt, tt_da, tt_dda, tt_dm, tt_da_dm = transittimes_der2(x)\n",
    "    N = len(tt)\n",
    "    chi2 = 0.\n",
    "    chi2_dda = 0.\n",
    "    chi2_da_dm = 0.\n",
    "    for i in range(N):\n",
    "        chi2     += (tt[i]-tt_obs[i])**2\n",
    "        chi2_dda += 2.* tt_dda[i]*(tt[i]-tt_obs[i]) + 2.*tt_da[i]*tt_da[i]\n",
    "        chi2_da_dm += 2.* tt_da_dm[i]*(tt[i]-tt_obs[i]) + 2.*tt_da[i]*tt_dm[i]\n",
    "    return chi2, chi2_dda, chi2_da_dm\n",
    "\n",
    "def notrend(tt):\n",
    "    N = len(tt)\n",
    "    A = np.vstack([np.ones(N), range(N)]).T\n",
    "    c, m = np.linalg.lstsq(A, tt)[0]\n",
    "    tt_removed = (tt-m*np.array(range(N))-c)\n",
    "    return tt_removed\n",
    "\n",
    "tt_obs = transittimes((1.,1e-4),1)[0]/(2.*np.pi)\n",
    "tt_obsn = transittimes((1.,1e-4),0.)[0]/(2.*np.pi)\n",
    "\n",
    "\n",
    "tt, tt_dm, tt_ddm = transittimes((1.,0))[0:3]\n",
    "\n",
    "\n",
    "\n",
    "fig = plt.figure(figsize=(6,4))\n",
    "ax = plt.subplot(111)\n",
    "ax.set_xlabel(\"transit\")\n",
    "ax.set_ylabel(\"time\")\n",
    "im = ax.plot(notrend(tt_obs), \"ro\")\n",
    "im = ax.plot(notrend(tt_obsn), \"bo\")\n",
    "#im = ax.plot(notrend(tt+1e-3*tt_dm), \"go\")\n",
    "\n"
   ]
  },
  {
   "cell_type": "code",
   "execution_count": 5,
   "metadata": {
    "collapsed": true
   },
   "outputs": [],
   "source": [
    "def null(A, eps=1e-15):\n",
    "    u, s, vh = np.linalg.svd(A)\n",
    "    null_mask = (s <= eps)\n",
    "    null_space = np.compress(null_mask, vh, axis=0)\n",
    "    return np.transpose(null_space)"
   ]
  },
  {
   "cell_type": "code",
   "execution_count": 36,
   "metadata": {
    "collapsed": false
   },
   "outputs": [],
   "source": [
    "N=16\n",
    "grid = np.zeros((N,N))\n",
    "grid2 = np.zeros((N,N))\n",
    "gridm = np.linspace(0,1.5e-3,N)\n",
    "Da=0.001\n",
    "grida = np.linspace(1.-Da,1.+Da,N)\n",
    "for i, m in enumerate(gridm):\n",
    "    for j, a in enumerate(grida):\n",
    "        c2 = chi2((a,m))\n",
    "        grid[j][i] = c2"
   ]
  },
  {
   "cell_type": "code",
   "execution_count": 44,
   "metadata": {
    "collapsed": false
   },
   "outputs": [
    {
     "data": {
      "text/plain": [
       "[<matplotlib.lines.Line2D at 0x10d491090>]"
      ]
     },
     "execution_count": 44,
     "metadata": {},
     "output_type": "execute_result"
    },
    {
     "data": {
      "image/png": "[encoded data removed]",
      "text/plain": [
       "<matplotlib.figure.Figure at 0x10df7b050>"
      ]
     },
     "metadata": {},
     "output_type": "display_data"
    }
   ],
   "source": [
    "extent = [min(gridm),max(gridm),min(grida),max(grida)]\n",
    "fig = plt.figure(figsize=(12,4))\n",
    "ax = plt.subplot(121)\n",
    "ax.set_xlim(extent[0],extent[1])\n",
    "ax.set_ylabel(\"semi-major axis $a$\")\n",
    "ax.set_ylim(extent[2],extent[3])\n",
    "ax.set_xlabel(\"$m$\")\n",
    "ax.plot(track[:,1],track[:,0],color=\"red\")\n",
    "im = ax.imshow(np.log10(grid), cmap=\"viridis\", origin=\"lower\",aspect='auto', extent=extent) #interpolation=\"none\",\n",
    "ax.plot(track[:,1],track[:,0],color=\"red\")\n",
    "\n",
    "cb = plt.colorbar(im, ax=ax)\n",
    "cb.set_label('$ H$')\n",
    "\n",
    "ax = plt.subplot(122)\n",
    "ax.plot(trackc2)\n"
   ]
  },
  {
   "cell_type": "code",
   "execution_count": 8,
   "metadata": {
    "collapsed": false
   },
   "outputs": [
    {
     "name": "stdout",
     "output_type": "stream",
     "text": [
      "1.00009673046\n"
     ]
    },
    {
     "name": "stderr",
     "output_type": "stream",
     "text": [
      "rebound/particle.py:13: FutureWarning: comparison to `None` will result in an elementwise object comparison in the future.\n",
      "  return a.count(None) != len(a)\n"
     ]
    }
   ],
   "source": [
    "def findBestFitNonInteracting():\n",
    "    sol = opt.fmin_powell(chi2_a, 1.03, disp=False,ftol=1e-15,xtol=1e-15)\n",
    "    return sol\n",
    "a_start =  float(findBestFitNonInteracting())\n",
    "print a_start"
   ]
  },
  {
   "cell_type": "code",
   "execution_count": 39,
   "metadata": {
    "collapsed": false
   },
   "outputs": [],
   "source": [
    "def H(x,lam):\n",
    "    c2, c2_dda, c2_da_dm = chi2_der2((x,lam))\n",
    "    return c2, np.array([[c2_dda, c2_da_dm],[0.,0.]])"
   ]
  },
  {
   "cell_type": "code",
   "execution_count": 43,
   "metadata": {
    "collapsed": false
   },
   "outputs": [],
   "source": [
    "iterations = 10\n",
    "x, lam = a_start, 0.\n",
    "ds = 1./iterations*2.0e-3\n",
    "track = np.zeros((iterations,2))\n",
    "trackc2 = np.zeros((iterations))\n",
    "for i in range(iterations): # not quite correct, should be a loop until lam=1\n",
    "    c2, _H = H(x,lam)\n",
    "    nv = null(_H)[:,0]\n",
    "    \n",
    "    x += nv[0]*ds\n",
    "    lam += nv[1]*ds\n",
    "    \n",
    "    track[i][0] = x\n",
    "    track[i][1] = lam\n",
    "    trackc2[i] = c2"
   ]
  },
  {
   "cell_type": "code",
   "execution_count": 33,
   "metadata": {
    "collapsed": false
   },
   "outputs": [
    {
     "name": "stdout",
     "output_type": "stream",
     "text": [
      "[[  1.00008390e+00   1.09248808e-04]\n",
      " [  1.00007153e+00   2.18551163e-04]\n",
      " [  1.00005963e+00   3.27906230e-04]\n",
      " [  1.00004823e+00   4.37313019e-04]\n",
      " [  1.00003731e+00   5.46770379e-04]\n",
      " [  1.00002691e+00   6.56277003e-04]\n",
      " [  1.00001702e+00   7.65831426e-04]\n",
      " [  1.00000765e+00   8.75432029e-04]\n",
      " [  9.99998820e-01   9.85077038e-04]\n",
      " [  9.99990534e-01   1.09476453e-03]]\n"
     ]
    }
   ],
   "source": [
    "print track"
   ]
  },
  {
   "cell_type": "code",
   "execution_count": null,
   "metadata": {
    "collapsed": true
   },
   "outputs": [],
   "source": []
  },
  {
   "cell_type": "code",
   "execution_count": null,
   "metadata": {
    "collapsed": true
   },
   "outputs": [],
   "source": []
  },
  {
   "cell_type": "code",
   "execution_count": null,
   "metadata": {
    "collapsed": true
   },
   "outputs": [],
   "source": []
  },
  {
   "cell_type": "code",
   "execution_count": null,
   "metadata": {
    "collapsed": true
   },
   "outputs": [],
   "source": []
  },
  {
   "cell_type": "code",
   "execution_count": null,
   "metadata": {
    "collapsed": true
   },
   "outputs": [],
   "source": []
  },
  {
   "cell_type": "code",
   "execution_count": null,
   "metadata": {
    "collapsed": true
   },
   "outputs": [],
   "source": []
  },
  {
   "cell_type": "code",
   "execution_count": null,
   "metadata": {
    "collapsed": true
   },
   "outputs": [],
   "source": []
  },
  {
   "cell_type": "code",
   "execution_count": null,
   "metadata": {
    "collapsed": true
   },
   "outputs": [],
   "source": []
  },
  {
   "cell_type": "code",
   "execution_count": null,
   "metadata": {
    "collapsed": true
   },
   "outputs": [],
   "source": []
  },
  {
   "cell_type": "code",
   "execution_count": null,
   "metadata": {
    "collapsed": true
   },
   "outputs": [],
   "source": []
  }
 ],
 "metadata": {
  "kernelspec": {
   "display_name": "Python 2",
   "language": "python",
   "name": "python2"
  },
  "language_info": {
   "codemirror_mode": {
    "name": "ipython",
    "version": 2
   },
   "file_extension": ".py",
   "mimetype": "text/x-python",
   "name": "python",
   "nbconvert_exporter": "python",
   "pygments_lexer": "ipython2",
   "version": "2.7.10"
  }
 },
 "nbformat": 4,
 "nbformat_minor": 0
}
