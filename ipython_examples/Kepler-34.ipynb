{
 "cells": [
  {
   "cell_type": "code",
   "execution_count": 1,
   "metadata": {
    "collapsed": true
   },
   "outputs": [],
   "source": [
    "import rebound\n",
    "import numpy as np"
   ]
  },
  {
   "cell_type": "code",
   "execution_count": 2,
   "metadata": {
    "collapsed": false
   },
   "outputs": [
    {
     "name": "stdout",
     "output_type": "stream",
     "text": [
      "0.228818911026\n"
     ]
    }
   ],
   "source": [
    "tt = 0.0761007811\n",
    "aa = 0.22882\n",
    "ee = 0.52087\n",
    "ma = 1.0479\n",
    "mb = 1.0208\n",
    "#aa = 20.0\n",
    "#ee = 0.0\n",
    "#ma = 5.0\n",
    "#mb = 5.0\n",
    "print ((ma+mb)*tt**2)**(1./3.)"
   ]
  },
  {
   "cell_type": "markdown",
   "metadata": {},
   "source": [
    "The Kepler 34AB binary system features two G-type stars of 1.05 and 1.02 solar masses, separated by an average of 0.23 AU. They orbit each other every 28 days, with an eccentricity of 0.52."
   ]
  },
  {
   "cell_type": "code",
   "execution_count": 3,
   "metadata": {
    "collapsed": true
   },
   "outputs": [],
   "source": [
    "sim = rebound.Simulation()\n",
    "#sim.add(m=1.e-32)"
   ]
  },
  {
   "cell_type": "markdown",
   "metadata": {},
   "source": [
    "We need to compute the periastron and apastron distances (rp & ra) between the stars. Once we have that, we can transform to a barycentric coordinate and find periapsi and apoapsi for each star relative to the barycenter."
   ]
  },
  {
   "cell_type": "code",
   "execution_count": 4,
   "metadata": {
    "collapsed": true
   },
   "outputs": [],
   "source": [
    "rp = aa*(1-ee)\n",
    "ra = aa*(1+ee)\n",
    "rap = mb*rp/(ma+mb)\n",
    "rbp = ma*rp/(ma+mb)\n",
    "raa = mb*ra/(ma+mb)\n",
    "rba = ma*ra/(ma+mb)"
   ]
  },
  {
   "cell_type": "code",
   "execution_count": 5,
   "metadata": {
    "collapsed": false
   },
   "outputs": [
    {
     "name": "stdout",
     "output_type": "stream",
     "text": [
      "0.1096345266 0.3480054734\n",
      "0.0540991563558 0.0555353702442 0.171723298326 0.176282175074\n",
      "0.1096345266 0.3480054734\n"
     ]
    }
   ],
   "source": [
    "print rp,ra\n",
    "print rap,rbp,raa,rba\n",
    "print rap+rbp,raa+rba"
   ]
  },
  {
   "cell_type": "markdown",
   "metadata": {},
   "source": [
    "Next we need the semimajor axes for each star in the barycentric frame of reference. With those, we can compute the periapsis velocity of each star. We'll start each star at its periapsis. The stars are always diagrammatically opposed, so we know they will both be at periapsis at the same time."
   ]
  },
  {
   "cell_type": "code",
   "execution_count": 6,
   "metadata": {
    "collapsed": false
   },
   "outputs": [],
   "source": [
    "aaa = mb*aa/(ma+mb)\n",
    "aab = ma*aa/(ma+mb)\n",
    "vap = np.sqrt((1+ee)*mb/((1-ee)*aaa))\n",
    "vbp = -np.sqrt((1+ee)*ma/((1-ee)*aab))\n",
    "#vap = np.sqrt((ma+mb)/aaa*(1-ee**2))\n",
    "#vbp = -np.sqrt((ma+mb)/aab*(1-ee**2))"
   ]
  },
  {
   "cell_type": "code",
   "execution_count": 7,
   "metadata": {
    "collapsed": false
   },
   "outputs": [
    {
     "name": "stdout",
     "output_type": "stream",
     "text": [
      "0.112911227341 0.115908772659\n",
      "5.35699364329 -5.35699364329\n"
     ]
    }
   ],
   "source": [
    "print aaa,aab\n",
    "print vap,vbp"
   ]
  },
  {
   "cell_type": "code",
   "execution_count": 8,
   "metadata": {
    "collapsed": false
   },
   "outputs": [
    {
     "name": "stdout",
     "output_type": "stream",
     "text": [
      "0.112911227341 0.112911227341\n"
     ]
    }
   ],
   "source": [
    "a11 = -mb/(vap**2-2*mb/rap)   # Hanno's way\n",
    "a12 = mb/vap**2*(1+ee)/(1-ee) # My way\n",
    "print a11,a12"
   ]
  },
  {
   "cell_type": "code",
   "execution_count": 9,
   "metadata": {
    "collapsed": false
   },
   "outputs": [],
   "source": [
    "#sim.add(m=ma,x=rap,vy=vap)\n",
    "#sim.add(m=mb,x=-rbp,vy=vbp)\n",
    "sim.add(m=ma)\n",
    "sim.add(m=mb,a=aa,e=ee,omega=0.,primary=sim.particles[0])"
   ]
  },
  {
   "cell_type": "code",
   "execution_count": 10,
   "metadata": {
    "collapsed": false
   },
   "outputs": [
    {
     "name": "stdout",
     "output_type": "stream",
     "text": [
      "<rebound.Particle object, id=0 m=2.0687 x=0.0540991563558 y=0.0 z=0.0 vx=0.0 vy=2.64340847444 vz=0.0>\n"
     ]
    }
   ],
   "source": [
    "com=sim.calculate_com()\n",
    "print com"
   ]
  },
  {
   "cell_type": "markdown",
   "metadata": {},
   "source": [
    "Just to be safe, we explicitly tell the simulation that we'll be running in the center-of-momentum frame."
   ]
  },
  {
   "cell_type": "code",
   "execution_count": 11,
   "metadata": {
    "collapsed": true
   },
   "outputs": [],
   "source": [
    "sim.move_to_com()"
   ]
  },
  {
   "cell_type": "code",
   "execution_count": 12,
   "metadata": {
    "collapsed": false
   },
   "outputs": [
    {
     "name": "stdout",
     "output_type": "stream",
     "text": [
      "<rebound.Orbit instance, a=0.0297356426396 e=0.867636456264 inc=0.0 Omega=0.0 omega=3.14159265359 f=-3.14159265359>\n",
      "<rebound.Particle object, id=0 m=1.0479 x=-0.0540991563558 y=0.0 z=0.0 vx=0.0 vy=-2.64340847444 vz=0.0>\n",
      "<rebound.Particle object, id=0 m=1.0208 x=0.0555353702442 y=0.0 z=0.0 vx=0.0 vy=2.71358516885 vz=0.0>\n"
     ]
    }
   ],
   "source": [
    "for o in sim.calculate_orbits(barycentric=True): print o\n",
    "print sim.particles[0]\n",
    "print sim.particles[1]"
   ]
  },
  {
   "cell_type": "markdown",
   "metadata": {},
   "source": [
    "Now we can add out planet, Kepler 34ABb. It has 0.22 Jupiter masses (about 70 earth masses), an inclination relative to Kepler 34AB of 0.4966 degrees, a semimajor axis of 1.09 AU, a period of 288 days or so, and an eccentricity of 0.182. "
   ]
  },
  {
   "cell_type": "code",
   "execution_count": 13,
   "metadata": {
    "collapsed": false
   },
   "outputs": [
    {
     "name": "stdout",
     "output_type": "stream",
     "text": [
      "<rebound.Orbit instance, a=1.08885070831 e=0.181520180358 inc=0.00866730506539 Omega=-1.57079632679 omega=0.0 f=0.0>\n"
     ]
    }
   ],
   "source": [
    "ii = 0.4966*np.pi/180.\n",
    "mp = 2.1e-4\n",
    "ap = 1.0896\n",
    "tp = 0.79075154\n",
    "ep = 0.182\n",
    "sim.add(m=mp,a=ap,e=ep,inc=ii,Omega=1.5*np.pi)\n",
    "print sim.particles[2].calculate_orbit(primary=sim.calculate_com())\n",
    "sim.move_to_com()"
   ]
  },
  {
   "cell_type": "code",
   "execution_count": 17,
   "metadata": {
    "collapsed": false
   },
   "outputs": [
    {
     "data": {
      "image/png": "[encoded data removed]",
      "text/plain": [
       "<matplotlib.figure.Figure at 0x7fe1e2d6fb10>"
      ]
     },
     "metadata": {},
     "output_type": "display_data"
    }
   ],
   "source": [
    "%matplotlib inline"
   ]
  },
  {
   "cell_type": "code",
   "execution_count": 30,
   "metadata": {
    "collapsed": false
   },
   "outputs": [
    {
     "name": "stdout",
     "output_type": "stream",
     "text": [
      " 100000\n",
      "100000 628.318530718"
     ]
    },
    {
     "ename": "AttributeError",
     "evalue": "'numpy.ndarray' object has no attribute 'len'",
     "output_type": "error",
     "traceback": [
      "\u001b[1;31m---------------------------------------------------------------------------\u001b[0m",
      "\u001b[1;31mAttributeError\u001b[0m                            Traceback (most recent call last)",
      "\u001b[1;32m<ipython-input-30-f571be986c63>\u001b[0m in \u001b[0;36m<module>\u001b[1;34m()\u001b[0m\n\u001b[0;32m     17\u001b[0m     \u001b[0mi\u001b[0m\u001b[1;33m+=\u001b[0m\u001b[1;36m1\u001b[0m\u001b[1;33m\u001b[0m\u001b[0m\n\u001b[0;32m     18\u001b[0m \u001b[1;33m\u001b[0m\u001b[0m\n\u001b[1;32m---> 19\u001b[1;33m \u001b[1;32mprint\u001b[0m \u001b[0mlen\u001b[0m\u001b[1;33m(\u001b[0m\u001b[0mtimes\u001b[0m\u001b[1;33m)\u001b[0m\u001b[1;33m,\u001b[0m\u001b[0mtmax\u001b[0m\u001b[1;33m,\u001b[0m\u001b[0mtimes\u001b[0m\u001b[1;33m.\u001b[0m\u001b[0mlen\u001b[0m\u001b[1;33m(\u001b[0m\u001b[1;33m)\u001b[0m\u001b[1;33m\u001b[0m\u001b[0m\n\u001b[0m",
      "\u001b[1;31mAttributeError\u001b[0m: 'numpy.ndarray' object has no attribute 'len'"
     ]
    }
   ],
   "source": [
    "tmax = 100*2*np.pi\n",
    "times= np.linspace(0,tmax,num=100000)\n",
    "k34a = np.zeros([2,len(times)])\n",
    "k34b = np.zeros([2,len(times)])\n",
    "k34p = np.zeros([2,len(times)])\n",
    "i=0\n",
    "while i<len(times):\n",
    "    sim.integrate(times[i])\n",
    "    sim.move_to_com()\n",
    "    k34a[0][i]=sim.particles[0].x\n",
    "    k34a[1][i]=sim.particles[0].y\n",
    "    k34b[0][i]=sim.particles[1].x\n",
    "    k34b[1][i]=sim.particles[1].y\n",
    "    k34p[0][i]=sim.particles[2].x\n",
    "    k34p[1][i]=sim.particles[2].y\n",
    "    i+=1\n",
    "    "
   ]
  },
  {
   "cell_type": "code",
   "execution_count": 45,
   "metadata": {
    "collapsed": false
   },
   "outputs": [
    {
     "data": {
      "image/png": "[encoded data removed]",
      "text/plain": [
       "<matplotlib.figure.Figure at 0x7fe1bf36d410>"
      ]
     },
     "metadata": {},
     "output_type": "display_data"
    }
   ],
   "source": [
    "from pylab import *\n",
    "k34ao = plot(k34a[0][0:10000],k34a[1][0:10000],label='K34A')\n",
    "k34bo = plot(k34b[0][0:10000],k34b[1][0:10000],label='K34B')\n",
    "k34po = plot(k34p[0][0:10000],k34p[1][0:10000],label='K34ABb')\n",
    "ylabel('AU')\n",
    "xlabel('AU')\n",
    "title('Kepler 34')\n",
    "l=legend(bbox_to_anchor=(1.05, 1), loc=2, borderaxespad=0.)"
   ]
  },
  {
   "cell_type": "code",
   "execution_count": 48,
   "metadata": {
    "collapsed": true
   },
   "outputs": [],
   "source": [
    "global k34a,k34b,k34p\n",
    "def plotorbit(year):\n",
    "    t1=year*1000\n",
    "    t2=(year+1)*1000\n",
    "    k34ao = plot(k34a[0][t1:t2],k34a[1][t1:t2],label='K34A')\n",
    "    k34bo = plot(k34b[0][t1:t2],k34b[1][t1:t2],label='K34B')\n",
    "    k34po = plot(k34p[0][t1:t2],k34p[1][t1:t2],label='K34ABb')\n",
    "    xlim(-1.5,1.5)\n",
    "    ylim(-1.5,1.5)\n",
    "    xlabel('AU')\n",
    "    ylabel('AU')\n",
    "    title('Kepler 34 years '+str(year)+'-'+str(year+1))\n",
    "    l=legend(bbox_to_anchor=(1.05, 1), loc=2, borderaxespad=0.)"
   ]
  },
  {
   "cell_type": "code",
   "execution_count": 49,
   "metadata": {
    "collapsed": false
   },
   "outputs": [
    {
     "data": {
      "image/png": "[encoded data removed]",
      "text/plain": [
       "<matplotlib.figure.Figure at 0x7fe1bf53ed90>"
      ]
     },
     "metadata": {},
     "output_type": "display_data"
    }
   ],
   "source": [
    "n=interact(plotorbit,year=(0,99,1))"
   ]
  },
  {
   "cell_type": "code",
   "execution_count": null,
   "metadata": {
    "collapsed": true
   },
   "outputs": [],
   "source": []
  }
 ],
 "metadata": {
  "kernelspec": {
   "display_name": "Python 2",
   "language": "python",
   "name": "python2"
  },
  "language_info": {
   "codemirror_mode": {
    "name": "ipython",
    "version": 2
   },
   "file_extension": ".py",
   "mimetype": "text/x-python",
   "name": "python",
   "nbconvert_exporter": "python",
   "pygments_lexer": "ipython2",
   "version": "2.7.6"
  }
 },
 "nbformat": 4,
 "nbformat_minor": 0
}
