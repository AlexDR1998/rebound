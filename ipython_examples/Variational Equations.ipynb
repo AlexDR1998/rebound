{
 "cells": [
  {
   "cell_type": "markdown",
   "metadata": {},
   "source": [
    "# Variational Equations\n",
    "We work with an two planet system. We vary the initial semi-major axis $a$ of the outer planet. Because the planets interact with each other, the final $x$-position of the inner planet at the end of the simulation will depend on the semi-major axis of the outer planet. We run the simulation once for one $a_0$ and then use first and second order variational equations to predict the final position of the outer plnaet for different $a$s in a neighbourhood of $a_0$. \n",
    "\n",
    "To do that, let us first import REBOUND, numpy and matplotlib."
   ]
  },
  {
   "cell_type": "code",
   "execution_count": 1,
   "metadata": {
    "collapsed": false
   },
   "outputs": [
    {
     "name": "stderr",
     "output_type": "stream",
     "text": [
      "/Users/rein/git/rebound/venv/lib/python2.7/site-packages/matplotlib/font_manager.py:273: UserWarning: Matplotlib is building the font cache using fc-list. This may take a moment.\n",
      "  warnings.warn('Matplotlib is building the font cache using fc-list. This may take a moment.')\n"
     ]
    }
   ],
   "source": [
    "import rebound\n",
    "import numpy as np\n",
    "%matplotlib inline\n",
    "import matplotlib\n",
    "import matplotlib.pyplot as plt"
   ]
  },
  {
   "cell_type": "markdown",
   "metadata": {},
   "source": [
    "Before using variational equations, let us define a function that calculates the final position of the outer planet as a function of $a$ in the brute-force way:"
   ]
  },
  {
   "cell_type": "code",
   "execution_count": 2,
   "metadata": {
    "collapsed": false
   },
   "outputs": [],
   "source": [
    "def run_sim(a):\n",
    "    sim = rebound.Simulation()\n",
    "    sim.add(m=1.)\n",
    "    sim.add(primary=sim.particles[0],m=1e-3, a=1)\n",
    "    sim.add(primary=sim.particles[0],m=1e-3, a=a)\n",
    "    \n",
    "    sim.integrate(2.*np.pi*10.)\n",
    "    return sim.particles[1].x"
   ]
  },
  {
   "cell_type": "markdown",
   "metadata": {},
   "source": [
    "We'll use this function to create a list of *true* final positions to which we later compare our results."
   ]
  },
  {
   "cell_type": "code",
   "execution_count": 3,
   "metadata": {
    "collapsed": false
   },
   "outputs": [],
   "source": [
    "N=400\n",
    "x_exact = np.zeros((N))\n",
    "a_grid = np.linspace(1.4,1.7,N)\n",
    "for i,a in enumerate(a_grid):\n",
    "    x_exact[i] = run_sim(a)"
   ]
  },
  {
   "cell_type": "markdown",
   "metadata": {},
   "source": [
    "Running a simulation with variational equations is only slightly more complicated. We start by creating a simulation and adding the three particles (the star and two planets) as before. Note that we initialize the orbit in heliocentric coordinates, telling REBOUND excplicitly that the star is the primary. \n",
    "\n",
    "We then add variational particles to the simulation. We vary one paramter ($a$) and thus need only only set. The second order variational equations depend on the first order ones. Thus, when initializing them, one needs to specify the index where the first order variational particles are stored using the 'index_1st_order' parameters.\n",
    "\n",
    "Then the variational particles are initialized. REBOUND comes with several convenience functions that make varying orbital parameters particularly easy.\n",
    "\n",
    "The function returns not only the final position, but also the first and second derivates with respect to $a$. "
   ]
  },
  {
   "cell_type": "code",
   "execution_count": 4,
   "metadata": {
    "collapsed": true
   },
   "outputs": [],
   "source": [
    "def run_sim_var(a):\n",
    "    sim = rebound.Simulation()\n",
    "    sim.add(m=1.)\n",
    "    sim.add(primary=sim.particles[0],m=1e-3, a=1)\n",
    "    sim.add(primary=sim.particles[0],m=1e-3, a=a)\n",
    "    var_da = sim.add_variation()\n",
    "    var_dda = sim.add_variation(order=2, first_order=var_da)\n",
    "    var_da.init(2, \"a\")\n",
    "    var_dda.init(2, \"a\")\n",
    "    \n",
    "    sim.integrate(2.*np.pi*10.)\n",
    "    return sim.particles[1].x, var_da.particles[1].x, var_dda.particles[1].x"
   ]
  },
  {
   "cell_type": "markdown",
   "metadata": {},
   "source": [
    "We can now use the variational equations to predict the final position of the inner particle. We only run one simulation, at $a_0=1.56$."
   ]
  },
  {
   "cell_type": "code",
   "execution_count": 1,
   "metadata": {
    "collapsed": false
   },
   "outputs": [
    {
     "ename": "NameError",
     "evalue": "name 'run_sim_var' is not defined",
     "output_type": "error",
     "traceback": [
      "\u001b[0;31m---------------------------------------------------------------------------\u001b[0m",
      "\u001b[0;31mNameError\u001b[0m                                 Traceback (most recent call last)",
      "\u001b[0;32m<ipython-input-1-4052a13a9af2>\u001b[0m in \u001b[0;36m<module>\u001b[0;34m()\u001b[0m\n\u001b[1;32m      1\u001b[0m \u001b[0ma_0\u001b[0m \u001b[0;34m=\u001b[0m \u001b[0;36m1.56\u001b[0m\u001b[0;34m\u001b[0m\u001b[0m\n\u001b[0;32m----> 2\u001b[0;31m \u001b[0mx\u001b[0m\u001b[0;34m,\u001b[0m \u001b[0mdxda\u001b[0m\u001b[0;34m,\u001b[0m \u001b[0mddxdda\u001b[0m \u001b[0;34m=\u001b[0m \u001b[0mrun_sim_var\u001b[0m\u001b[0;34m(\u001b[0m\u001b[0ma_0\u001b[0m\u001b[0;34m)\u001b[0m\u001b[0;34m\u001b[0m\u001b[0m\n\u001b[0m\u001b[1;32m      3\u001b[0m \u001b[0mx_1st_order\u001b[0m \u001b[0;34m=\u001b[0m \u001b[0mnp\u001b[0m\u001b[0;34m.\u001b[0m\u001b[0mzeros\u001b[0m\u001b[0;34m(\u001b[0m\u001b[0mN\u001b[0m\u001b[0;34m)\u001b[0m\u001b[0;34m\u001b[0m\u001b[0m\n\u001b[1;32m      4\u001b[0m \u001b[0mx_2nd_order\u001b[0m \u001b[0;34m=\u001b[0m \u001b[0mnp\u001b[0m\u001b[0;34m.\u001b[0m\u001b[0mzeros\u001b[0m\u001b[0;34m(\u001b[0m\u001b[0mN\u001b[0m\u001b[0;34m)\u001b[0m\u001b[0;34m\u001b[0m\u001b[0m\n\u001b[1;32m      5\u001b[0m \u001b[0;32mfor\u001b[0m \u001b[0mi\u001b[0m\u001b[0;34m,\u001b[0m\u001b[0ma\u001b[0m \u001b[0;32min\u001b[0m \u001b[0menumerate\u001b[0m\u001b[0;34m(\u001b[0m\u001b[0ma_grid\u001b[0m\u001b[0;34m)\u001b[0m\u001b[0;34m:\u001b[0m\u001b[0;34m\u001b[0m\u001b[0m\n",
      "\u001b[0;31mNameError\u001b[0m: name 'run_sim_var' is not defined"
     ]
    }
   ],
   "source": [
    "a_0 = 1.56\n",
    "x, dxda, ddxdda = run_sim_var(a_0)\n",
    "x_1st_order = np.zeros(N)\n",
    "x_2nd_order = np.zeros(N)\n",
    "for i,a in enumerate(a_grid):\n",
    "    x_1st_order[i] = x + (a-a_0)*dxda\n",
    "    x_2nd_order[i] = x + (a-a_0)*dxda + 0.5*(a-a_0)*(a-a_0)*ddxdda"
   ]
  },
  {
   "cell_type": "markdown",
   "metadata": {},
   "source": [
    "In the figure below, we plot the final position as a function of the initial semi-major axis. The black line corresponds to the true final position as calculated by the brute-force approach. The dashed and dotted lines correspond to the approximations using first and second order variational equations. As one can see, the second order approximation is very accurate within a neighbourhood of $a_0$. "
   ]
  },
  {
   "cell_type": "code",
   "execution_count": 6,
   "metadata": {
    "collapsed": false
   },
   "outputs": [
    {
     "data": {
      "text/plain": [
       "[<matplotlib.lines.Line2D at 0x10cac0490>]"
      ]
     },
     "execution_count": 6,
     "metadata": {},
     "output_type": "execute_result"
    },
    {
     "data": {
      "image/png": "[encoded data removed]",
      "text/plain": [
       "<matplotlib.figure.Figure at 0x10c984fd0>"
      ]
     },
     "metadata": {},
     "output_type": "display_data"
    }
   ],
   "source": [
    "fig = plt.figure(figsize=(6,4))\n",
    "ax = plt.subplot(111)\n",
    "ax.set_xlim(a_grid[0],a_grid[-1])\n",
    "ax.set_ylim(np.min(x_exact),np.max(x_exact)*1.01)\n",
    "ax.set_xlabel(\"initial semi-major axis of outer planet\")\n",
    "ax.set_ylabel(\"$x$ position of inner planet after 10 orbits\")\n",
    "ax.plot(a_grid, x_exact, \"-\", color=\"black\", lw=2)\n",
    "ax.plot(a_grid, x_1st_order, \"--\", color=\"green\")\n",
    "ax.plot(a_grid, x_2nd_order, \":\", color=\"blue\")\n",
    "ax.plot(a_0, x, \"ro\",ms=10)\n",
    "#plt.savefig('paper_test1.pdf',bbox_inches='tight');"
   ]
  },
  {
   "cell_type": "code",
   "execution_count": null,
   "metadata": {
    "collapsed": true
   },
   "outputs": [],
   "source": []
  },
  {
   "cell_type": "code",
   "execution_count": null,
   "metadata": {
    "collapsed": true
   },
   "outputs": [],
   "source": []
  },
  {
   "cell_type": "code",
   "execution_count": null,
   "metadata": {
    "collapsed": true
   },
   "outputs": [],
   "source": []
  },
  {
   "cell_type": "code",
   "execution_count": null,
   "metadata": {
    "collapsed": true
   },
   "outputs": [],
   "source": []
  }
 ],
 "metadata": {
  "kernelspec": {
   "display_name": "Python 2",
   "language": "python",
   "name": "python2"
  },
  "language_info": {
   "codemirror_mode": {
    "name": "ipython",
    "version": 2
   },
   "file_extension": ".py",
   "mimetype": "text/x-python",
   "name": "python",
   "nbconvert_exporter": "python",
   "pygments_lexer": "ipython2",
   "version": "2.7.10"
  }
 },
 "nbformat": 4,
 "nbformat_minor": 0
}
