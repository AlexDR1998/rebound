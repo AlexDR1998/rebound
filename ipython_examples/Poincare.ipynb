{
 "cells": [
  {
   "cell_type": "markdown",
   "metadata": {},
   "source": [
    "# Poincare Map"
   ]
  },
  {
   "cell_type": "code",
   "execution_count": 1,
   "metadata": {
    "collapsed": false
   },
   "outputs": [],
   "source": [
    "import rebound\n",
    "import numpy as np\n",
    "import math\n",
    "import ctypes"
   ]
  },
  {
   "cell_type": "code",
   "execution_count": 5,
   "metadata": {
    "collapsed": false
   },
   "outputs": [],
   "source": [
    "def hyper(sim):\n",
    "    ps = sim.particles\n",
    "    dx  = ps[1].x -ps[0].x\n",
    "    dy  = ps[1].y -ps[0].y\n",
    "    dvx = ps[1].vx-ps[0].vx\n",
    "    dvy = ps[1].vy-ps[0].vy\n",
    "    return dx*dvx + dy*dvy\n",
    "def mod2pi(x):\n",
    "    if x>np.pi:\n",
    "        return mod2pi(x-2.*np.pi)\n",
    "    if x<-np.pi:\n",
    "        return mod2pi(x+2.*np.pi)\n",
    "    return x"
   ]
  },
  {
   "cell_type": "code",
   "execution_count": null,
   "metadata": {
    "collapsed": false
   },
   "outputs": [],
   "source": []
  },
  {
   "cell_type": "code",
   "execution_count": 3,
   "metadata": {
    "collapsed": false
   },
   "outputs": [
    {
     "name": "stdout",
     "output_type": "stream",
     "text": [
      "new sim\n",
      "---------------------------------\n",
      "REBOUND version:     \t2.6.0\n",
      "REBOUND built on:    \tAug 20 2015 11:50:27\n",
      "Number of particles: \t3\n",
      "Selected integrator: \tias15\n",
      "Simulation time:     \t3000.000000\n",
      "Current timestep:    \t0.057506\n",
      "---------------------------------\n",
      "<rebound.Particle object, id=-1 m=1.0 x=-0.00218980162848 y=0.000166211121329 z=0.0 vx=-0.000150813689825 vy=-0.00201984196032 vz=0.0>\n",
      "<rebound.Particle object, id=-1 m=0.001 x=0.791186489895 y=-0.128926119832 z=0.0 vx=0.139002874553 vy=1.19704330966 vz=0.0>\n",
      "<rebound.Particle object, id=-1 m=0.001 x=1.50552952176 y=-0.0364881317912 z=0.0 vx=0.0118167939681 vy=0.822801565818 vz=0.0>\n",
      "---------------------------------\n"
     ]
    }
   ],
   "source": [
    "N_points_max = 1000\n",
    "N_points = 0\n",
    "poincare_map = np.zeros((N_points_max,2))\n",
    "\n",
    "while N_points <N_points_max:\n",
    "    print \"new sim\"\n",
    "    sim = rebound.Simulation.from_file(\"resonance.bin\")\n",
    "    sim.status()\n",
    "    sim.t = 0.\n",
    "    dt = 0.13\n",
    "    dt_epsilon = 0.001\n",
    "    sign = hyper(sim)\n",
    "    while sim.t<6000. and N_points < N_points_max:\n",
    "        oldt = sim.t\n",
    "        olddt = sim.dt\n",
    "        sim.integrate(oldt+dt)\n",
    "        nsign = hyper(sim)\n",
    "        if sign*nsign < 0.:\n",
    "            leftt = oldt\n",
    "            rightt = sim.t\n",
    "            sim.dt = -olddt\n",
    "            while (rightt-leftt > dt_epsilon):\n",
    "                midt = (leftt+rightt)/2.\n",
    "                rebound.clibrebound.reb_integrator_reset(ctypes.byref(sim))\n",
    "                sim.integrate(midt, exact_finish_time=1)\n",
    "                msign = hyper(sim)\n",
    "                if msign*sign > 0.:\n",
    "                    leftt = midt\n",
    "                    sim.dt = 0.3*olddt\n",
    "                else:\n",
    "                    rightt = midt\n",
    "                    sim.dt = -0.3*olddt\n",
    "            o = sim.calculate_orbits()\n",
    "            if mod2pi(o[0].f)<0.3:\n",
    "                tp = np.pi*2.\n",
    "                phi = o[0].l-2.*o[1].l+o[0].omega+o[0].Omega\n",
    "                #phi = o[1].omega+o[1].Omega-o[0].omega-o[0].Omega\n",
    "                phid = (tp/o[0].P-2.*tp/o[1].P)/(tp/o[0].P)\n",
    "                poincare_map[N_points] = [mod2pi(phi),phid]\n",
    "                N_points += 1\n",
    "            sim.dt = olddt\n",
    "            sim.integrate(oldt+dt)\n",
    "        sign = nsign"
   ]
  },
  {
   "cell_type": "code",
   "execution_count": 4,
   "metadata": {
    "collapsed": false
   },
   "outputs": [
    {
     "name": "stdout",
     "output_type": "stream",
     "text": [
      "3870.62\n"
     ]
    },
    {
     "data": {
      "image/png": "[encoded data removed]",
      "text/plain": [
       "<matplotlib.figure.Figure at 0x10a2426d0>"
      ]
     },
     "metadata": {},
     "output_type": "display_data"
    }
   ],
   "source": [
    "%matplotlib inline\n",
    "pm_x = poincare_map[:,0]\n",
    "pm_y = poincare_map[:,1]\n",
    "if 0:\n",
    "    pm_maskedx = np.ma.masked_where(pm_x>0., pm_x)\n",
    "    pm_maskedy = np.ma.masked_where(pm_x>0., pm_y)\n",
    "else:\n",
    "    pm_maskedx = pm_x\n",
    "    pm_maskedy = pm_y\n",
    "\n",
    "    \n",
    "import matplotlib.pyplot as plt\n",
    "fig = plt.figure(figsize=(8,8))\n",
    "ax = plt.subplot(111)\n",
    "ax.scatter(pm_maskedx,pm_maskedy,marker=\".\",s=1.,alpha=.81)\n",
    "print sim.t"
   ]
  },
  {
   "cell_type": "code",
   "execution_count": null,
   "metadata": {
    "collapsed": true
   },
   "outputs": [],
   "source": []
  },
  {
   "cell_type": "code",
   "execution_count": null,
   "metadata": {
    "collapsed": true
   },
   "outputs": [],
   "source": []
  },
  {
   "cell_type": "code",
   "execution_count": null,
   "metadata": {
    "collapsed": true
   },
   "outputs": [],
   "source": []
  },
  {
   "cell_type": "code",
   "execution_count": null,
   "metadata": {
    "collapsed": true
   },
   "outputs": [],
   "source": []
  },
  {
   "cell_type": "code",
   "execution_count": null,
   "metadata": {
    "collapsed": true
   },
   "outputs": [],
   "source": []
  },
  {
   "cell_type": "code",
   "execution_count": null,
   "metadata": {
    "collapsed": true
   },
   "outputs": [],
   "source": []
  },
  {
   "cell_type": "code",
   "execution_count": null,
   "metadata": {
    "collapsed": true
   },
   "outputs": [],
   "source": []
  },
  {
   "cell_type": "code",
   "execution_count": null,
   "metadata": {
    "collapsed": true
   },
   "outputs": [],
   "source": []
  },
  {
   "cell_type": "code",
   "execution_count": null,
   "metadata": {
    "collapsed": true
   },
   "outputs": [],
   "source": []
  },
  {
   "cell_type": "code",
   "execution_count": 9,
   "metadata": {
    "collapsed": false
   },
   "outputs": [],
   "source": [
    "sim = rebound.Simulation.from_file(\"resonance.bin\")\n",
    "sim.t = 0.\n",
    "Nplot = 10000\n",
    "res = np.zeros((Nplot, 2))\n",
    "times = np.linspace(0.,18845.19,Nplot)\n",
    "for i, t in enumerate(times):\n",
    "    sim.integrate(t,exact_finish_time=1)\n",
    "    o = sim.calculate_orbits()\n",
    "    phi = mod2pi(o[1].omega+o[1].Omega-o[0].omega-o[0].Omega)\n",
    "\n",
    "    phi = mod2pi(o[0].l-2.*o[1].l+o[1].omega+o[1].Omega)\n",
    "    res[i] = [t,phi]\n"
   ]
  },
  {
   "cell_type": "code",
   "execution_count": 10,
   "metadata": {
    "collapsed": false
   },
   "outputs": [
    {
     "data": {
      "text/plain": [
       "<matplotlib.collections.PathCollection at 0x10b26f850>"
      ]
     },
     "execution_count": 10,
     "metadata": {},
     "output_type": "execute_result"
    },
    {
     "data": {
      "image/png": "[encoded data removed]",
      "text/plain": [
       "<matplotlib.figure.Figure at 0x10b2164d0>"
      ]
     },
     "metadata": {},
     "output_type": "display_data"
    }
   ],
   "source": [
    "%matplotlib inline\n",
    "import matplotlib.pyplot as plt\n",
    "fig = plt.figure(figsize=(8,8))\n",
    "ax = plt.subplot(111)\n",
    "ax.scatter(res[:,0], res[:,1],marker=\".\",s=1.)\n",
    "#ax.scatter(res2[:,0], res2[:,1],marker=\".\",s=1.)"
   ]
  },
  {
   "cell_type": "code",
   "execution_count": null,
   "metadata": {
    "collapsed": true
   },
   "outputs": [],
   "source": []
  },
  {
   "cell_type": "code",
   "execution_count": 14,
   "metadata": {
    "collapsed": false
   },
   "outputs": [],
   "source": [
    "sim = rebound.Simulation()\n",
    "sim.add(m=1.)\n",
    "sim.add(m=1e-3,a=1)\n",
    "sim.add(m=1e-3,a=1.65)\n",
    "sim.move_to_com()\n",
    "tau = 50000.\n",
    "def migrationForce(reb_sim):\n",
    "    ps[2].ax -= ps[2].vx/tau\n",
    "    ps[2].ay -= ps[2].vy/tau\n",
    "    ps[2].az -= ps[2].vz/tau\n",
    "sim.additional_forces = migrationForce\n",
    "ps = sim.particles    \n",
    "Nplot = 1000    \n",
    "res = np.zeros((Nplot, 2))\n",
    "res2 = np.zeros((Nplot, 2))\n",
    "times = np.linspace(0.,3000.,Nplot)\n",
    "for i, t in enumerate(times):\n",
    "    sim.integrate(t,exact_finish_time=1)\n",
    "    o = sim.calculate_orbits()\n",
    "    res[i] = [t,o[0].a]\n",
    "    res2[i] = [t,o[1].a]\n",
    "sim.save(\"resonance.bin\")    "
   ]
  },
  {
   "cell_type": "code",
   "execution_count": null,
   "metadata": {
    "collapsed": true
   },
   "outputs": [],
   "source": []
  },
  {
   "cell_type": "code",
   "execution_count": null,
   "metadata": {
    "collapsed": true
   },
   "outputs": [],
   "source": []
  },
  {
   "cell_type": "code",
   "execution_count": null,
   "metadata": {
    "collapsed": true
   },
   "outputs": [],
   "source": []
  },
  {
   "cell_type": "code",
   "execution_count": null,
   "metadata": {
    "collapsed": true
   },
   "outputs": [],
   "source": []
  },
  {
   "cell_type": "code",
   "execution_count": null,
   "metadata": {
    "collapsed": true
   },
   "outputs": [],
   "source": []
  },
  {
   "cell_type": "code",
   "execution_count": null,
   "metadata": {
    "collapsed": true
   },
   "outputs": [],
   "source": []
  }
 ],
 "metadata": {
  "kernelspec": {
   "display_name": "Python 2",
   "language": "python",
   "name": "python2"
  },
  "language_info": {
   "codemirror_mode": {
    "name": "ipython",
    "version": 2
   },
   "file_extension": ".py",
   "mimetype": "text/x-python",
   "name": "python",
   "nbconvert_exporter": "python",
   "pygments_lexer": "ipython2",
   "version": "2.7.6"
  }
 },
 "nbformat": 4,
 "nbformat_minor": 0
}
