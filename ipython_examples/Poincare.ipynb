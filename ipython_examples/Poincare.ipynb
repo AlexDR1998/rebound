{
 "cells": [
  {
   "cell_type": "markdown",
   "metadata": {},
   "source": [
    "# Poincare Map"
   ]
  },
  {
   "cell_type": "code",
   "execution_count": 3,
   "metadata": {
    "collapsed": false
   },
   "outputs": [],
   "source": [
    "import rebound\n",
    "import numpy as np\n",
    "import math\n",
    "import ctypes"
   ]
  },
  {
   "cell_type": "code",
   "execution_count": 4,
   "metadata": {
    "collapsed": false
   },
   "outputs": [],
   "source": [
    "def ydot(x,y,vx,Cj,mu1,mu2):\n",
    "    r1 = math.sqrt((x+mu2)*(x+mu2) + y*y)\n",
    "    r2 = math.sqrt((x-mu1)*(x-mu1) + y*y)\n",
    "    vy = np.sqrt(-Cj + (x*x+y*y) + 2.*(mu1/r1 + mu2/r2) - vx*vx)\n",
    "    return vy\n",
    "def hyper(sim):\n",
    "    ps = sim.particles\n",
    "    dx  = ps[1].x -ps[0].x\n",
    "    dy  = ps[1].y -ps[0].y\n",
    "    dvx = ps[1].vx-ps[0].vx\n",
    "    dvy = ps[1].vy-ps[0].vy\n",
    "    return dx*dvx + dy*dvy\n",
    "def mod2pi(x):\n",
    "    if x>np.pi:\n",
    "        return mod2pi(x-2.*np.pi)\n",
    "    if x<-np.pi:\n",
    "        return mod2pi(x+2.*np.pi)\n",
    "    return x"
   ]
  },
  {
   "cell_type": "code",
   "execution_count": null,
   "metadata": {
    "collapsed": false
   },
   "outputs": [],
   "source": []
  },
  {
   "cell_type": "code",
   "execution_count": 37,
   "metadata": {
    "collapsed": false
   },
   "outputs": [
    {
     "name": "stdout",
     "output_type": "stream",
     "text": [
      "new sim\n"
     ]
    }
   ],
   "source": [
    "N_points_max = 10000\n",
    "N_points = 0\n",
    "poincare_map = np.zeros((N_points_max,2))\n",
    "\n",
    "while N_points <N_points_max:\n",
    "    print \"new sim\"\n",
    "    sim = rebound.Simulation()\n",
    "    sim.integrator = \"ias15\"\n",
    "    sim.add(m=1.)\n",
    "    \n",
    "    sim.add(m=0, a=np.random.uniform(0.9*0.62996052,1.1*0.62996052), e=0.05)\n",
    "    sim.add(m=1e-4, a=1., e=0.001)\n",
    "    sim.move_to_com()\n",
    "    dt = 0.13\n",
    "    dt_epsilon = 0.0001\n",
    "    sign = hyper(sim)\n",
    "    while sim.t<50000. and N_points < N_points_max:\n",
    "        oldt = sim.t\n",
    "        olddt = sim.dt\n",
    "        sim.integrate(oldt+dt)\n",
    "        nsign = hyper(sim)\n",
    "        if sign*nsign < 0.:\n",
    "            leftt = oldt\n",
    "            rightt = sim.t\n",
    "            sim.dt = -olddt\n",
    "            while (rightt-leftt > dt_epsilon):\n",
    "                midt = (leftt+rightt)/2.\n",
    "                rebound.clibrebound.reb_integrator_reset(ctypes.byref(sim))\n",
    "                sim.integrate(midt, exact_finish_time=1)\n",
    "                msign = hyper(sim)\n",
    "                if msign*sign > 0.:\n",
    "                    leftt = midt\n",
    "                    sim.dt = 0.3*olddt\n",
    "                else:\n",
    "                    rightt = midt\n",
    "                    sim.dt = -0.3*olddt\n",
    "            o = sim.calculate_orbits()\n",
    "            if mod2pi(o[0].f)<0.3:\n",
    "                tp = np.pi*2.\n",
    "                phi = o[0].l-2.*o[1].l+o[0].omega+o[0].Omega\n",
    "                phid = tp/o[0].P-2.*tp/o[1].P\n",
    "                poincare_map[N_points] = [mod2pi(phi),phid]\n",
    "                N_points += 1\n",
    "            sim.dt = olddt\n",
    "            sim.integrate(oldt+dt)\n",
    "        sign = nsign"
   ]
  },
  {
   "cell_type": "code",
   "execution_count": 38,
   "metadata": {
    "collapsed": false
   },
   "outputs": [
    {
     "name": "stdout",
     "output_type": "stream",
     "text": [
      "20992.92\n"
     ]
    },
    {
     "data": {
      "image/png": "[encoded data removed]",
      "text/plain": [
       "<matplotlib.figure.Figure at 0x10ef915d0>"
      ]
     },
     "metadata": {},
     "output_type": "display_data"
    }
   ],
   "source": [
    "%matplotlib inline\n",
    "pm_x = poincare_map[:,0]\n",
    "pm_y = poincare_map[:,1]\n",
    "if 0:\n",
    "    pm_maskedx = np.ma.masked_where(pm_x>0., pm_x)\n",
    "    pm_maskedy = np.ma.masked_where(pm_x>0., pm_y)\n",
    "else:\n",
    "    pm_maskedx = pm_x\n",
    "    pm_maskedy = pm_y\n",
    "\n",
    "    \n",
    "import matplotlib.pyplot as plt\n",
    "fig = plt.figure(figsize=(8,8))\n",
    "ax = plt.subplot(111)\n",
    "ax.scatter(pm_maskedx,pm_maskedy,marker=\".\",s=1.,alpha=.81)\n",
    "print sim.t"
   ]
  },
  {
   "cell_type": "code",
   "execution_count": null,
   "metadata": {
    "collapsed": true
   },
   "outputs": [],
   "source": []
  },
  {
   "cell_type": "code",
   "execution_count": null,
   "metadata": {
    "collapsed": true
   },
   "outputs": [],
   "source": []
  }
 ],
 "metadata": {
  "kernelspec": {
   "display_name": "Python 2",
   "language": "python",
   "name": "python2"
  },
  "language_info": {
   "codemirror_mode": {
    "name": "ipython",
    "version": 2
   },
   "file_extension": ".py",
   "mimetype": "text/x-python",
   "name": "python",
   "nbconvert_exporter": "python",
   "pygments_lexer": "ipython2",
   "version": "2.7.6"
  }
 },
 "nbformat": 4,
 "nbformat_minor": 0
}
