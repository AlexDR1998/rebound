{
 "cells": [
  {
   "cell_type": "markdown",
   "metadata": {},
   "source": [
    "# Poincare Map"
   ]
  },
  {
   "cell_type": "code",
   "execution_count": 1,
   "metadata": {
    "collapsed": false
   },
   "outputs": [],
   "source": [
    "import rebound\n",
    "import numpy as np\n",
    "import math\n",
    "import ctypes"
   ]
  },
  {
   "cell_type": "code",
   "execution_count": 2,
   "metadata": {
    "collapsed": false
   },
   "outputs": [],
   "source": [
    "def ydot(x,y,vx,Cj,mu1,mu2):\n",
    "    r1 = math.sqrt((x+mu2)*(x+mu2) + y*y)\n",
    "    r2 = math.sqrt((x-mu1)*(x-mu1) + y*y)\n",
    "    vy = np.sqrt(-Cj + (x*x+y*y) + 2.*(mu1/r1 + mu2/r2) - vx*vx)\n",
    "    return vy\n",
    "def hyper(sim):\n",
    "    ps = sim.particles\n",
    "    dx  = ps[1].x -ps[0].x\n",
    "    dy  = ps[1].y -ps[0].y\n",
    "    dvx = ps[1].vx-ps[0].vx\n",
    "    dvy = ps[1].vy-ps[0].vy\n",
    "    return dx*dvx + dy*dvy\n",
    "def mod2pi(x):\n",
    "    if x>np.pi:\n",
    "        return mod2pi(x-2.*np.pi)\n",
    "    if x<-np.pi:\n",
    "        return mod2pi(x+2.*np.pi)\n",
    "    return x"
   ]
  },
  {
   "cell_type": "code",
   "execution_count": null,
   "metadata": {
    "collapsed": false
   },
   "outputs": [],
   "source": []
  },
  {
   "cell_type": "code",
   "execution_count": 39,
   "metadata": {
    "collapsed": false
   },
   "outputs": [
    {
     "name": "stdout",
     "output_type": "stream",
     "text": [
      "new sim\n",
      "0.588343889316\n"
     ]
    }
   ],
   "source": [
    "N_points_max = 10000\n",
    "N_points = 0\n",
    "poincare_map = np.zeros((N_points_max,2))\n",
    "\n",
    "while N_points <N_points_max:\n",
    "    print \"new sim\"\n",
    "    sim = rebound.Simulation()\n",
    "    sim.integrator = \"ias15\"\n",
    "    sim.add(m=1.)\n",
    "    \n",
    "    a = np.random.uniform(0.9*0.62996052,1.1*0.62996052)\n",
    "    print a\n",
    "    sim.add(m=0, a=a, e=0.05)\n",
    "    sim.add(m=1e-4, a=1., e=0.001)\n",
    "    sim.move_to_com()\n",
    "    dt = 0.13\n",
    "    dt_epsilon = 0.0001\n",
    "    sign = hyper(sim)\n",
    "    while sim.t<50000. and N_points < N_points_max:\n",
    "        oldt = sim.t\n",
    "        olddt = sim.dt\n",
    "        sim.integrate(oldt+dt)\n",
    "        nsign = hyper(sim)\n",
    "        if sign*nsign < 0.:\n",
    "            leftt = oldt\n",
    "            rightt = sim.t\n",
    "            sim.dt = -olddt\n",
    "            while (rightt-leftt > dt_epsilon):\n",
    "                midt = (leftt+rightt)/2.\n",
    "                rebound.clibrebound.reb_integrator_reset(ctypes.byref(sim))\n",
    "                sim.integrate(midt, exact_finish_time=1)\n",
    "                msign = hyper(sim)\n",
    "                if msign*sign > 0.:\n",
    "                    leftt = midt\n",
    "                    sim.dt = 0.3*olddt\n",
    "                else:\n",
    "                    rightt = midt\n",
    "                    sim.dt = -0.3*olddt\n",
    "            o = sim.calculate_orbits()\n",
    "            if mod2pi(o[0].f)<0.3:\n",
    "                tp = np.pi*2.\n",
    "                phi = o[0].l-2.*o[1].l+o[0].omega+o[0].Omega\n",
    "                phid = tp/o[0].P-2.*tp/o[1].P\n",
    "                poincare_map[N_points] = [mod2pi(phi),phid]\n",
    "                N_points += 1\n",
    "            sim.dt = olddt\n",
    "            sim.integrate(oldt+dt)\n",
    "        sign = nsign"
   ]
  },
  {
   "cell_type": "code",
   "execution_count": 3,
   "metadata": {
    "collapsed": false
   },
   "outputs": [
    {
     "ename": "NameError",
     "evalue": "name 'poincare_map' is not defined",
     "output_type": "error",
     "traceback": [
      "\u001b[0;31m---------------------------------------------------------------------------\u001b[0m",
      "\u001b[0;31mNameError\u001b[0m                                 Traceback (most recent call last)",
      "\u001b[0;32m<ipython-input-3-00d0c19c8c17>\u001b[0m in \u001b[0;36m<module>\u001b[0;34m()\u001b[0m\n\u001b[1;32m      1\u001b[0m \u001b[0mget_ipython\u001b[0m\u001b[0;34m(\u001b[0m\u001b[0;34m)\u001b[0m\u001b[0;34m.\u001b[0m\u001b[0mmagic\u001b[0m\u001b[0;34m(\u001b[0m\u001b[0;34mu'matplotlib inline'\u001b[0m\u001b[0;34m)\u001b[0m\u001b[0;34m\u001b[0m\u001b[0m\n\u001b[0;32m----> 2\u001b[0;31m \u001b[0mpm_x\u001b[0m \u001b[0;34m=\u001b[0m \u001b[0mpoincare_map\u001b[0m\u001b[0;34m[\u001b[0m\u001b[0;34m:\u001b[0m\u001b[0;34m,\u001b[0m\u001b[0;36m0\u001b[0m\u001b[0;34m]\u001b[0m\u001b[0;34m\u001b[0m\u001b[0m\n\u001b[0m\u001b[1;32m      3\u001b[0m \u001b[0mpm_y\u001b[0m \u001b[0;34m=\u001b[0m \u001b[0mpoincare_map\u001b[0m\u001b[0;34m[\u001b[0m\u001b[0;34m:\u001b[0m\u001b[0;34m,\u001b[0m\u001b[0;36m1\u001b[0m\u001b[0;34m]\u001b[0m\u001b[0;34m\u001b[0m\u001b[0m\n\u001b[1;32m      4\u001b[0m \u001b[0;32mif\u001b[0m \u001b[0;36m0\u001b[0m\u001b[0;34m:\u001b[0m\u001b[0;34m\u001b[0m\u001b[0m\n\u001b[1;32m      5\u001b[0m     \u001b[0mpm_maskedx\u001b[0m \u001b[0;34m=\u001b[0m \u001b[0mnp\u001b[0m\u001b[0;34m.\u001b[0m\u001b[0mma\u001b[0m\u001b[0;34m.\u001b[0m\u001b[0mmasked_where\u001b[0m\u001b[0;34m(\u001b[0m\u001b[0mpm_x\u001b[0m\u001b[0;34m>\u001b[0m\u001b[0;36m0.\u001b[0m\u001b[0;34m,\u001b[0m \u001b[0mpm_x\u001b[0m\u001b[0;34m)\u001b[0m\u001b[0;34m\u001b[0m\u001b[0m\n",
      "\u001b[0;31mNameError\u001b[0m: name 'poincare_map' is not defined"
     ]
    }
   ],
   "source": [
    "%matplotlib inline\n",
    "pm_x = poincare_map[:,0]\n",
    "pm_y = poincare_map[:,1]\n",
    "if 0:\n",
    "    pm_maskedx = np.ma.masked_where(pm_x>0., pm_x)\n",
    "    pm_maskedy = np.ma.masked_where(pm_x>0., pm_y)\n",
    "else:\n",
    "    pm_maskedx = pm_x\n",
    "    pm_maskedy = pm_y\n",
    "\n",
    "    \n",
    "import matplotlib.pyplot as plt\n",
    "fig = plt.figure(figsize=(8,8))\n",
    "ax = plt.subplot(111)\n",
    "ax.scatter(pm_maskedx,pm_maskedy,marker=\".\",s=1.,alpha=.81)\n",
    "print sim.t"
   ]
  },
  {
   "cell_type": "code",
   "execution_count": 4,
   "metadata": {
    "collapsed": false
   },
   "outputs": [
    {
     "name": "stdout",
     "output_type": "stream",
     "text": [
      "---------------------------------\n",
      "REBOUND version:     \t2.6.0\n",
      "REBOUND built on:    \tAug 20 2015 11:50:27\n",
      "Number of particles: \t2\n",
      "Selected integrator: \tias15\n",
      "Simulation time:     \t0.000000\n",
      "Current timestep:    \t0.001000\n",
      "---------------------------------\n",
      "<rebound.Particle object, id=-1 m=1.0 x=0.0 y=0.0 z=0.0 vx=0.0 vy=0.0 vz=0.0>\n",
      "<rebound.Particle object, id=-1 m=0.0 x=0.551 y=0.0 z=0.0 vx=0.0 vy=1.38044418007 vz=0.0>\n",
      "---------------------------------\n"
     ]
    }
   ],
   "source": [
    "sim = rebound.Simulation()\n",
    "sim.integrator = \"ias15\"\n",
    "sim.add(m=1.)\n",
    "\n",
    "a = 0.588343889316\n",
    "a = 0.58\n",
    "sim.add(m=0, a=a, e=0.05)\n",
    "#sim.add(m=1e-4, a=1., e=0.001)\n",
    "sim.move_to_com()\n",
    "sim.status()\n",
    "Nplot = 1000\n",
    "res = np.zeros((Nplot, 2))\n",
    "times = np.linspace(0.,18845.19,Nplot)\n",
    "for i, t in enumerate(times):\n",
    "    sim.integrate(t+0.0000,exact_finish_time=1)\n",
    "    #o = sim.calculate_orbits()\n",
    "    #phi = o[0].l-2.*o[1].l+o[0].omega+o[0].Omega\n",
    "    #res[i] = [t,mod2pi(phi)]\n",
    "    res[i] = [t,sim.particles[0].x]"
   ]
  },
  {
   "cell_type": "code",
   "execution_count": 5,
   "metadata": {
    "collapsed": false
   },
   "outputs": [
    {
     "name": "stdout",
     "output_type": "stream",
     "text": [
      "[[     0.              0.        ]\n",
      " [    18.86405405      0.        ]\n",
      " [    37.72810811      0.        ]\n",
      " ..., \n",
      " [ 18807.46189189      0.        ]\n",
      " [ 18826.32594595      0.        ]\n",
      " [ 18845.19            0.        ]]\n"
     ]
    }
   ],
   "source": [
    "print res"
   ]
  },
  {
   "cell_type": "code",
   "execution_count": 11,
   "metadata": {
    "collapsed": false
   },
   "outputs": [
    {
     "ename": "NameError",
     "evalue": "name 'plt' is not defined",
     "output_type": "error",
     "traceback": [
      "\u001b[0;31m---------------------------------------------------------------------------\u001b[0m",
      "\u001b[0;31mNameError\u001b[0m                                 Traceback (most recent call last)",
      "\u001b[0;32m<ipython-input-11-301261fb1f93>\u001b[0m in \u001b[0;36m<module>\u001b[0;34m()\u001b[0m\n\u001b[0;32m----> 1\u001b[0;31m \u001b[0mfig\u001b[0m \u001b[0;34m=\u001b[0m \u001b[0mplt\u001b[0m\u001b[0;34m.\u001b[0m\u001b[0mfigure\u001b[0m\u001b[0;34m(\u001b[0m\u001b[0mfigsize\u001b[0m\u001b[0;34m=\u001b[0m\u001b[0;34m(\u001b[0m\u001b[0;36m8\u001b[0m\u001b[0;34m,\u001b[0m\u001b[0;36m8\u001b[0m\u001b[0;34m)\u001b[0m\u001b[0;34m)\u001b[0m\u001b[0;34m\u001b[0m\u001b[0m\n\u001b[0m\u001b[1;32m      2\u001b[0m \u001b[0max\u001b[0m \u001b[0;34m=\u001b[0m \u001b[0mplt\u001b[0m\u001b[0;34m.\u001b[0m\u001b[0msubplot\u001b[0m\u001b[0;34m(\u001b[0m\u001b[0;36m111\u001b[0m\u001b[0;34m)\u001b[0m\u001b[0;34m\u001b[0m\u001b[0m\n\u001b[1;32m      3\u001b[0m \u001b[0max\u001b[0m\u001b[0;34m.\u001b[0m\u001b[0mscatter\u001b[0m\u001b[0;34m(\u001b[0m\u001b[0mres\u001b[0m\u001b[0;34m[\u001b[0m\u001b[0;34m:\u001b[0m\u001b[0;34m,\u001b[0m\u001b[0;36m0\u001b[0m\u001b[0;34m]\u001b[0m\u001b[0;34m,\u001b[0m \u001b[0mres\u001b[0m\u001b[0;34m[\u001b[0m\u001b[0;34m:\u001b[0m\u001b[0;34m,\u001b[0m\u001b[0;36m1\u001b[0m\u001b[0;34m]\u001b[0m\u001b[0;34m,\u001b[0m\u001b[0mmarker\u001b[0m\u001b[0;34m=\u001b[0m\u001b[0;34m\".\"\u001b[0m\u001b[0;34m,\u001b[0m\u001b[0ms\u001b[0m\u001b[0;34m=\u001b[0m\u001b[0;36m1.\u001b[0m\u001b[0;34m)\u001b[0m\u001b[0;34m\u001b[0m\u001b[0m\n",
      "\u001b[0;31mNameError\u001b[0m: name 'plt' is not defined"
     ]
    }
   ],
   "source": [
    "fig = plt.figure(figsize=(8,8))\n",
    "ax = plt.subplot(111)\n",
    "ax.scatter(res[:,0], res[:,1],marker=\".\",s=1.)"
   ]
  },
  {
   "cell_type": "code",
   "execution_count": null,
   "metadata": {
    "collapsed": true
   },
   "outputs": [],
   "source": []
  }
 ],
 "metadata": {
  "kernelspec": {
   "display_name": "Python 2",
   "language": "python",
   "name": "python2"
  },
  "language_info": {
   "codemirror_mode": {
    "name": "ipython",
    "version": 2
   },
   "file_extension": ".py",
   "mimetype": "text/x-python",
   "name": "python",
   "nbconvert_exporter": "python",
   "pygments_lexer": "ipython2",
   "version": "2.7.6"
  }
 },
 "nbformat": 4,
 "nbformat_minor": 0
}
