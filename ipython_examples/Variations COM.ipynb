{
 "cells": [
  {
   "cell_type": "code",
   "execution_count": 1,
   "metadata": {
    "collapsed": true
   },
   "outputs": [],
   "source": [
    "import rebound\n",
    "import numpy as np"
   ]
  },
  {
   "cell_type": "code",
   "execution_count": 13,
   "metadata": {
    "collapsed": true
   },
   "outputs": [],
   "source": [
    "sim = rebound.Simulation()\n",
    "sim.add(m=1)\n",
    "sim.add(m=1.e-3,a=1)\n",
    "sim.move_to_com()\n",
    "x_orig = sim.particles[0].vy\n",
    "\n",
    "Delta_a = 1e-2\n",
    "sim = rebound.Simulation()\n",
    "sim.add(m=1)\n",
    "sim.add(m=1.e-3,a=1+Delta_a)\n",
    "sim.move_to_com()\n",
    "x_shifted = sim.particles[0].vy"
   ]
  },
  {
   "cell_type": "code",
   "execution_count": 14,
   "metadata": {
    "collapsed": false
   },
   "outputs": [
    {
     "data": {
      "text/plain": [
       "(-0.0009995003746877734, -0.0009945400444431533, 4.960330244620096e-06)"
      ]
     },
     "execution_count": 14,
     "metadata": {},
     "output_type": "execute_result"
    }
   ],
   "source": [
    "true_shifted = x_shifted\n",
    "x_orig, x_shifted, x_shifted - x_orig"
   ]
  },
  {
   "cell_type": "code",
   "execution_count": 15,
   "metadata": {
    "collapsed": false
   },
   "outputs": [],
   "source": [
    "sim = rebound.Simulation()\n",
    "sim.add(m=1)\n",
    "sim.add(m=1.e-3,a=1)\n",
    "var = sim.add_variational()\n",
    "var2 = sim.add_variational(order=2,index_1st_order_a=var,index_1st_order_b=var)\n",
    "sim._particles[var+1] = rebound.Particle(simulation=sim,primary=sim.particles[0],m=1e-3,a=1,variation=\"a\")\n",
    "sim._particles[var2+1] = rebound.Particle(simulation=sim,primary=sim.particles[0],m=1e-3,a=1,variation=\"a\", variation2=\"a\", variation_order=2)\n",
    "sim.move_to_com()\n"
   ]
  },
  {
   "cell_type": "code",
   "execution_count": 16,
   "metadata": {
    "collapsed": false
   },
   "outputs": [
    {
     "name": "stdout",
     "output_type": "stream",
     "text": [
      "---------------------------------\n",
      "REBOUND version:     \t2.11.1\n",
      "REBOUND built on:    \tJan 17 2016 11:03:59\n",
      "Number of particles: \t6\n",
      "Selected integrator: \tias15\n",
      "Simulation time:     \t0.000000\n",
      "Current timestep:    \t0.001000\n",
      "---------------------------------\n",
      "<rebound.Particle object, id=0 m=1.0 x=-0.000999000999001 y=0.0 z=0.0 vx=0.0 vy=-0.000999500374688 vz=0.0>\n",
      "<rebound.Particle object, id=0 m=0.001 x=0.999000999001 y=0.0 z=0.0 vx=0.0 vy=0.999500374688 vz=0.0>\n",
      "<rebound.Particle object, id=0 m=0.0 x=-0.000999000999001 y=0.0 z=0.0 vx=0.0 vy=0.000499750187344 vz=0.0>\n",
      "<rebound.Particle object, id=0 m=0.0 x=0.999000999001 y=0.0 z=0.0 vx=0.0 vy=-0.499750187344 vz=-0.0>\n",
      "<rebound.Particle object, id=0 m=0.0 x=0.0 y=0.0 z=0.0 vx=0.0 vy=-0.000749625281016 vz=0.0>\n",
      "<rebound.Particle object, id=0 m=0.0 x=0.0 y=0.0 z=0.0 vx=-0.0 vy=0.749625281016 vz=0.0>\n",
      "---------------------------------\n"
     ]
    }
   ],
   "source": [
    "sim.status()"
   ]
  },
  {
   "cell_type": "code",
   "execution_count": 19,
   "metadata": {
    "collapsed": false
   },
   "outputs": [
    {
     "name": "stdout",
     "output_type": "stream",
     "text": [
      "-3.73756984714e-05\n",
      "3.11335107803e-07\n"
     ]
    }
   ],
   "source": [
    "print (sim.particles[0].vy + Delta_a*sim.particles[var+0].vy -true_shifted)/true_shifted \n",
    "print (sim.particles[0].vy + Delta_a*sim.particles[var+0].vy + 0.5* Delta_a*Delta_a*sim.particles[var2+0].vy -true_shifted)/true_shifted "
   ]
  },
  {
   "cell_type": "code",
   "execution_count": null,
   "metadata": {
    "collapsed": true
   },
   "outputs": [],
   "source": []
  },
  {
   "cell_type": "code",
   "execution_count": null,
   "metadata": {
    "collapsed": true
   },
   "outputs": [],
   "source": []
  },
  {
   "cell_type": "code",
   "execution_count": null,
   "metadata": {
    "collapsed": true
   },
   "outputs": [],
   "source": []
  },
  {
   "cell_type": "code",
   "execution_count": null,
   "metadata": {
    "collapsed": true
   },
   "outputs": [],
   "source": []
  },
  {
   "cell_type": "code",
   "execution_count": null,
   "metadata": {
    "collapsed": true
   },
   "outputs": [],
   "source": []
  },
  {
   "cell_type": "code",
   "execution_count": null,
   "metadata": {
    "collapsed": true
   },
   "outputs": [],
   "source": []
  },
  {
   "cell_type": "code",
   "execution_count": null,
   "metadata": {
    "collapsed": true
   },
   "outputs": [],
   "source": []
  },
  {
   "cell_type": "code",
   "execution_count": null,
   "metadata": {
    "collapsed": true
   },
   "outputs": [],
   "source": []
  },
  {
   "cell_type": "code",
   "execution_count": null,
   "metadata": {
    "collapsed": true
   },
   "outputs": [],
   "source": []
  },
  {
   "cell_type": "code",
   "execution_count": null,
   "metadata": {
    "collapsed": true
   },
   "outputs": [],
   "source": []
  },
  {
   "cell_type": "code",
   "execution_count": null,
   "metadata": {
    "collapsed": true
   },
   "outputs": [],
   "source": []
  },
  {
   "cell_type": "code",
   "execution_count": null,
   "metadata": {
    "collapsed": true
   },
   "outputs": [],
   "source": []
  },
  {
   "cell_type": "code",
   "execution_count": null,
   "metadata": {
    "collapsed": true
   },
   "outputs": [],
   "source": []
  }
 ],
 "metadata": {
  "kernelspec": {
   "display_name": "Python 2",
   "language": "python",
   "name": "python2"
  },
  "language_info": {
   "codemirror_mode": {
    "name": "ipython",
    "version": 2
   },
   "file_extension": ".py",
   "mimetype": "text/x-python",
   "name": "python",
   "nbconvert_exporter": "python",
   "pygments_lexer": "ipython2",
   "version": "2.7.10"
  }
 },
 "nbformat": 4,
 "nbformat_minor": 0
}
