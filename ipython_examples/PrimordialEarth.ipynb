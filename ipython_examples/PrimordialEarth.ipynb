{
 "cells": [
  {
   "cell_type": "markdown",
   "metadata": {},
   "source": [
    "# Primordial Earth (HERMES tutorial)\n",
    "There are a wide variety of problems in solar system astronomy requiring accurate integration of N-bodies undergoing close encounters and/or collisions. Standard choices such as the Wisdom-Holman integrator are insufficient for these types of problems, and one must instead turn to more exotic algorithms. \n",
    "\n",
    "In this example we investigate the primordial Earth embedded in a disk of planetesimals, integrating it for a short period of time using the HERMES integrator. HERMES is a hybrid integration scheme which combines the WHFAST and IAS15 algorithms for the optimal balance between speed and accuracy. "
   ]
  },
  {
   "cell_type": "code",
   "execution_count": 1,
   "metadata": {
    "collapsed": true
   },
   "outputs": [],
   "source": [
    "import rebound\n",
    "import numpy as np"
   ]
  },
  {
   "cell_type": "markdown",
   "metadata": {},
   "source": [
    "First let's choose the basic properties required for the HERMES integrator. In particular, we are:  \n",
    "* Setting planetesimals to *semi-active* mode, which means they can influence active bodies but not other semi-active ones.\n",
    "* Merging collisions according to conservation of momentum\n",
    "* Removing particles that leave our pre-defined box.\n",
    "* Tracking the energy lost due to ejections or collisions.  \n",
    "\n",
    "Other choices are certainly possible."
   ]
  },
  {
   "cell_type": "code",
   "execution_count": 2,
   "metadata": {
    "collapsed": false
   },
   "outputs": [],
   "source": [
    "sim = rebound.Simulation()\n",
    "\n",
    "#integrator options\n",
    "sim.integrator = \"hermes\"\n",
    "sim.ri_hermes.hill_switch_factor = 3.\n",
    "sim.ri_hermes.radius_switch_factor = 20.\n",
    "sim.dt = 0.005\n",
    "sim.testparticle_type = 1\n",
    "\n",
    "#collision and boundary options\n",
    "sim.collision = \"direct\"\n",
    "sim.collision_resolve = \"merge\"\n",
    "sim.collision_resolve_keep_sorted = 1\n",
    "sim.boundary = \"open\"\n",
    "boxsize = 3.\n",
    "sim.configure_box(boxsize)\n",
    "sim.track_energy_offset = 1"
   ]
  },
  {
   "cell_type": "markdown",
   "metadata": {},
   "source": [
    "Now that the setup is complete, it's time to add some bodies! When using the HERMES integrator it's always important to add active bodies first and semi-active bodies later. The \"sim.N_active\" variable separates massive bodies from semi-active/test bodies."
   ]
  },
  {
   "cell_type": "code",
   "execution_count": 3,
   "metadata": {
    "collapsed": true
   },
   "outputs": [],
   "source": [
    "sim.add(m=1.)\n",
    "sim.add(m=3e-6,r=5e-5,a=1,e=0.05,f=np.pi)\n",
    "sim.N_active = sim.N"
   ]
  },
  {
   "cell_type": "markdown",
   "metadata": {},
   "source": [
    "Now, let's create our planetesimal disk. First we need to make use of three different distribution functions - powerlaw, uniform and rayleigh."
   ]
  },
  {
   "cell_type": "code",
   "execution_count": 4,
   "metadata": {
    "collapsed": true
   },
   "outputs": [],
   "source": [
    "def rand_powerlaw(slope, min_v, max_v):\n",
    "    y = np.random.uniform()\n",
    "    pow_max = pow(max_v, slope+1.)\n",
    "    pow_min = pow(min_v, slope+1.)\n",
    "    return pow((pow_max-pow_min)*y + pow_min, 1./(slope+1.))\n",
    "\n",
    "def rand_uniform(minimum, maximum):\n",
    "    return np.random.uniform()*(maximum-minimum)+minimum\n",
    "\n",
    "def rand_rayleigh(sigma):\n",
    "    return sigma*np.sqrt(-2*np.log(np.random.uniform()))"
   ]
  },
  {
   "cell_type": "markdown",
   "metadata": {},
   "source": [
    "Next, let's set up the basic properties of our planetesimal disk. For this simple example we are assuming that all planetesimals have the same mass and radius. Other, more complicated choices are certainly possible."
   ]
  },
  {
   "cell_type": "code",
   "execution_count": 5,
   "metadata": {
    "collapsed": false
   },
   "outputs": [],
   "source": [
    "N_pl = 100\n",
    "Mtot_disk = 10*sim.particles[1].m\n",
    "m_pl = Mtot_disk / float(N_pl)\n",
    "r_pl = 2e-5\n",
    "powerlaw = 0\n",
    "disk_min_a = 0.95\n",
    "disk_max_a = 1.05\n",
    "rayleigh_sigma = 0.01"
   ]
  },
  {
   "cell_type": "markdown",
   "metadata": {},
   "source": [
    "Now let's add our planetesimals to the simulation!"
   ]
  },
  {
   "cell_type": "code",
   "execution_count": 6,
   "metadata": {
    "collapsed": false
   },
   "outputs": [],
   "source": [
    "np.random.seed(42)\n",
    "while sim.N < (N_pl + sim.N_active):\n",
    "    a = rand_powerlaw(powerlaw, disk_min_a, disk_max_a)\n",
    "    e = rand_rayleigh(rayleigh_sigma)\n",
    "    inc = rand_rayleigh(0.5*rayleigh_sigma)\n",
    "    f = rand_uniform(np.pi-0.1,np.pi+0.1) #initialize planetesimals close to Planet Earth\n",
    "    sim.add(m=m_pl, r=r_pl, a=a, e=e, inc=inc, Omega=0, omega=0, f=f)"
   ]
  },
  {
   "cell_type": "markdown",
   "metadata": {},
   "source": [
    "Finally, since the integrator primarily uses the WHFAST algorithm we need to move to the COM frame. In addition, it is always good practice to monitor the change in energy over the course of a simulation, which requires us to calculate it before and after the simulation."
   ]
  },
  {
   "cell_type": "code",
   "execution_count": 7,
   "metadata": {
    "collapsed": true
   },
   "outputs": [],
   "source": [
    "sim.move_to_com()\n",
    "E0 = sim.calculate_energy()"
   ]
  },
  {
   "cell_type": "markdown",
   "metadata": {},
   "source": [
    "We can visualize our setup using rebound.OrbitPlot"
   ]
  },
  {
   "cell_type": "code",
   "execution_count": 8,
   "metadata": {
    "collapsed": false
   },
   "outputs": [
    {
     "data": {
      "image/png": "[encoded data removed]",
      "text/plain": [
       "<matplotlib.figure.Figure at 0x10ae5d550>"
      ]
     },
     "metadata": {},
     "output_type": "display_data"
    }
   ],
   "source": [
    "%matplotlib inline\n",
    "fig = rebound.OrbitPlot(sim, trails=True)"
   ]
  },
  {
   "cell_type": "markdown",
   "metadata": {},
   "source": [
    "Finally, let's simulate our system for 100 years, and check that our final relative energy error is small. "
   ]
  },
  {
   "cell_type": "code",
   "execution_count": 9,
   "metadata": {
    "collapsed": false
   },
   "outputs": [
    {
     "name": "stdout",
     "output_type": "stream",
     "text": [
      "2.06133461499e-09\n"
     ]
    }
   ],
   "source": [
    "sim.integrate(100)\n",
    "dE = abs((sim.calculate_energy() - E0)/E0)\n",
    "print dE"
   ]
  }
 ],
 "metadata": {
  "kernelspec": {
   "display_name": "Python 2",
   "language": "python",
   "name": "python2"
  },
  "language_info": {
   "codemirror_mode": {
    "name": "ipython",
    "version": 2
   },
   "file_extension": ".py",
   "mimetype": "text/x-python",
   "name": "python",
   "nbconvert_exporter": "python",
   "pygments_lexer": "ipython2",
   "version": "2.7.11"
  }
 },
 "nbformat": 4,
 "nbformat_minor": 0
}
